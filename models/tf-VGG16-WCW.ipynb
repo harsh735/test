{
  "nbformat": 4,
  "nbformat_minor": 0,
  "metadata": {
    "accelerator": "GPU",
    "colab": {
      "name": "fer2013.ipynb",
      "provenance": [],
      "collapsed_sections": [],
      "machine_shape": "hm",
      "include_colab_link": true
    },
    "kernelspec": {
      "display_name": "Environment (conda_tensorflow_p36)",
      "language": "python",
      "name": "conda_tensorflow_p36"
    },
    "language_info": {
      "codemirror_mode": {
        "name": "ipython",
        "version": 3
      },
      "file_extension": ".py",
      "mimetype": "text/x-python",
      "name": "python",
      "nbconvert_exporter": "python",
      "pygments_lexer": "ipython3",
      "version": "3.6.5"
    }
  },
  "cells": [
    {
      "cell_type": "markdown",
      "metadata": {
        "id": "view-in-github",
        "colab_type": "text"
      },
      "source": [
        "<a href=\"https://colab.research.google.com/github/amilkh/cs230-fer/blob/transfer-learning/Final-VGG16-ClassWeights.ipynb\" target=\"_parent\"><img src=\"https://colab.research.google.com/assets/colab-badge.svg\" alt=\"Open In Colab\"/></a>"
      ]
    },
    {
      "cell_type": "code",
      "metadata": {
        "colab_type": "code",
        "id": "gwdg7Sv3XBaP",
        "outputId": "3a56bc3b-7c5b-418f-cc57-0209be6ce138",
        "colab": {
          "base_uri": "https://localhost:8080/",
          "height": 577
        }
      },
      "source": [
        "%tensorflow_version 1.x\n",
        "!pip install keras-vggface\n",
        "!pip install scikit-image\n",
        "!pip install pydot"
      ],
      "execution_count": 1,
      "outputs": [
        {
          "output_type": "stream",
          "text": [
            "Collecting keras-vggface\n",
            "  Downloading https://files.pythonhosted.org/packages/2f/7d/5f0319ebdc09ac1a2272364fa9583f5067b6f8aff93fbbf8835d81cbaad7/keras_vggface-0.6-py3-none-any.whl\n",
            "Requirement already satisfied: numpy>=1.9.1 in /usr/local/lib/python3.6/dist-packages (from keras-vggface) (1.18.1)\n",
            "Requirement already satisfied: pyyaml in /usr/local/lib/python3.6/dist-packages (from keras-vggface) (3.13)\n",
            "Requirement already satisfied: six>=1.9.0 in /usr/local/lib/python3.6/dist-packages (from keras-vggface) (1.12.0)\n",
            "Requirement already satisfied: keras in /usr/local/lib/python3.6/dist-packages (from keras-vggface) (2.2.5)\n",
            "Requirement already satisfied: h5py in /usr/local/lib/python3.6/dist-packages (from keras-vggface) (2.8.0)\n",
            "Requirement already satisfied: scipy>=0.14 in /usr/local/lib/python3.6/dist-packages (from keras-vggface) (1.4.1)\n",
            "Requirement already satisfied: pillow in /usr/local/lib/python3.6/dist-packages (from keras-vggface) (7.0.0)\n",
            "Requirement already satisfied: keras-applications>=1.0.8 in /usr/local/lib/python3.6/dist-packages (from keras->keras-vggface) (1.0.8)\n",
            "Requirement already satisfied: keras-preprocessing>=1.1.0 in /usr/local/lib/python3.6/dist-packages (from keras->keras-vggface) (1.1.0)\n",
            "Installing collected packages: keras-vggface\n",
            "Successfully installed keras-vggface-0.6\n",
            "Requirement already satisfied: scikit-image in /usr/local/lib/python3.6/dist-packages (0.16.2)\n",
            "Requirement already satisfied: scipy>=0.19.0 in /usr/local/lib/python3.6/dist-packages (from scikit-image) (1.4.1)\n",
            "Requirement already satisfied: networkx>=2.0 in /usr/local/lib/python3.6/dist-packages (from scikit-image) (2.4)\n",
            "Requirement already satisfied: imageio>=2.3.0 in /usr/local/lib/python3.6/dist-packages (from scikit-image) (2.4.1)\n",
            "Requirement already satisfied: pillow>=4.3.0 in /usr/local/lib/python3.6/dist-packages (from scikit-image) (7.0.0)\n",
            "Requirement already satisfied: matplotlib!=3.0.0,>=2.0.0 in /usr/local/lib/python3.6/dist-packages (from scikit-image) (3.2.0)\n",
            "Requirement already satisfied: PyWavelets>=0.4.0 in /usr/local/lib/python3.6/dist-packages (from scikit-image) (1.1.1)\n",
            "Requirement already satisfied: numpy>=1.13.3 in /usr/local/lib/python3.6/dist-packages (from scipy>=0.19.0->scikit-image) (1.18.1)\n",
            "Requirement already satisfied: decorator>=4.3.0 in /usr/local/lib/python3.6/dist-packages (from networkx>=2.0->scikit-image) (4.4.2)\n",
            "Requirement already satisfied: pyparsing!=2.0.4,!=2.1.2,!=2.1.6,>=2.0.1 in /usr/local/lib/python3.6/dist-packages (from matplotlib!=3.0.0,>=2.0.0->scikit-image) (2.4.6)\n",
            "Requirement already satisfied: cycler>=0.10 in /usr/local/lib/python3.6/dist-packages (from matplotlib!=3.0.0,>=2.0.0->scikit-image) (0.10.0)\n",
            "Requirement already satisfied: python-dateutil>=2.1 in /usr/local/lib/python3.6/dist-packages (from matplotlib!=3.0.0,>=2.0.0->scikit-image) (2.8.1)\n",
            "Requirement already satisfied: kiwisolver>=1.0.1 in /usr/local/lib/python3.6/dist-packages (from matplotlib!=3.0.0,>=2.0.0->scikit-image) (1.1.0)\n",
            "Requirement already satisfied: six in /usr/local/lib/python3.6/dist-packages (from cycler>=0.10->matplotlib!=3.0.0,>=2.0.0->scikit-image) (1.12.0)\n",
            "Requirement already satisfied: setuptools in /usr/local/lib/python3.6/dist-packages (from kiwisolver>=1.0.1->matplotlib!=3.0.0,>=2.0.0->scikit-image) (45.2.0)\n",
            "Requirement already satisfied: pydot in /usr/local/lib/python3.6/dist-packages (1.3.0)\n",
            "Requirement already satisfied: pyparsing>=2.1.4 in /usr/local/lib/python3.6/dist-packages (from pydot) (2.4.6)\n"
          ],
          "name": "stdout"
        }
      ]
    },
    {
      "cell_type": "code",
      "metadata": {
        "colab_type": "code",
        "id": "2nz38mJZXN_P",
        "outputId": "664a894c-0190-4e5a-82d3-0efd65ef7102",
        "colab": {
          "base_uri": "https://localhost:8080/",
          "height": 35
        }
      },
      "source": [
        "import matplotlib.pyplot as plt\n",
        "import pandas as pd\n",
        "import numpy as np\n",
        "\n",
        "import tensorflow as tf\n",
        "from tensorflow.keras.layers import *\n",
        "from tensorflow.python.lib.io import file_io\n",
        "\n",
        "%matplotlib inline\n",
        "\n",
        "import keras\n",
        "from keras import backend as K\n",
        "from keras.callbacks import ModelCheckpoint, EarlyStopping\n",
        "from keras.models import load_model\n",
        "from keras.preprocessing.image import ImageDataGenerator\n",
        "from keras_vggface.vggface import VGGFace\n",
        "from keras.utils import plot_model\n",
        "from sklearn.metrics import *\n",
        "from keras.engine import Model\n",
        "from keras.layers import Input, Flatten, Dense, Activation, Conv2D, MaxPool2D, BatchNormalization, Dropout, MaxPooling2D\n",
        "import skimage\n",
        "from skimage.transform import rescale, resize\n",
        "\n",
        "import pydot"
      ],
      "execution_count": 2,
      "outputs": [
        {
          "output_type": "stream",
          "text": [
            "Using TensorFlow backend.\n"
          ],
          "name": "stderr"
        }
      ]
    },
    {
      "cell_type": "code",
      "metadata": {
        "id": "1fZczU8lGkX-",
        "colab_type": "code",
        "outputId": "17b897b9-1e01-4989-83dd-cc9ba4412060",
        "colab": {
          "base_uri": "https://localhost:8080/",
          "height": 127
        }
      },
      "source": [
        "from google.colab import drive\n",
        "drive.mount('/content/drive')"
      ],
      "execution_count": 3,
      "outputs": [
        {
          "output_type": "stream",
          "text": [
            "Go to this URL in a browser: https://accounts.google.com/o/oauth2/auth?client_id=947318989803-6bn6qk8qdgf4n4g3pfee6491hc0brc4i.apps.googleusercontent.com&redirect_uri=urn%3aietf%3awg%3aoauth%3a2.0%3aoob&response_type=code&scope=email%20https%3a%2f%2fwww.googleapis.com%2fauth%2fdocs.test%20https%3a%2f%2fwww.googleapis.com%2fauth%2fdrive%20https%3a%2f%2fwww.googleapis.com%2fauth%2fdrive.photos.readonly%20https%3a%2f%2fwww.googleapis.com%2fauth%2fpeopleapi.readonly\n",
            "\n",
            "Enter your authorization code:\n",
            "··········\n",
            "Mounted at /content/drive\n"
          ],
          "name": "stdout"
        }
      ]
    },
    {
      "cell_type": "code",
      "metadata": {
        "colab_type": "code",
        "id": "nUcd6yIGduUW",
        "outputId": "3600b4b0-1b4d-4e93-b3e8-1aa8806cea2e",
        "colab": {
          "base_uri": "https://localhost:8080/",
          "height": 53
        }
      },
      "source": [
        "print(tf.__version__)\n",
        "print(keras.__version__)"
      ],
      "execution_count": 4,
      "outputs": [
        {
          "output_type": "stream",
          "text": [
            "1.15.0\n",
            "2.2.5\n"
          ],
          "name": "stdout"
        }
      ]
    },
    {
      "cell_type": "code",
      "metadata": {
        "id": "v60q28mDHnN9",
        "colab_type": "code",
        "colab": {}
      },
      "source": [
        "EPOCHS = 50\n",
        "BS = 128\n",
        "DROPOUT_RATE = 0.5\n",
        "FROZEN_LAYER_NUM = 19\n",
        "\n",
        "ADAM_LEARNING_RATE = 0.001\n",
        "SGD_LEARNING_RATE = 0.01\n",
        "SGD_DECAY = 0.0001\n",
        "\n",
        "Resize_pixelsize = 197"
      ],
      "execution_count": 0,
      "outputs": []
    },
    {
      "cell_type": "code",
      "metadata": {
        "id": "itKZtFV0F7b1",
        "colab_type": "code",
        "outputId": "99c2a8c4-46ad-41f9-fcc9-bdd5a5c0f1b4",
        "colab": {
          "base_uri": "https://localhost:8080/",
          "height": 1000
        }
      },
      "source": [
        "vgg_notop = VGGFace(model='vgg16', include_top=False, input_shape=(Resize_pixelsize, Resize_pixelsize, 3), pooling='avg')\n",
        "print(vgg_notop.summary())\n",
        "last_layer = vgg_notop.get_layer('pool5').output\n",
        "x = Flatten(name='flatten')(last_layer)\n",
        "x = Dropout(DROPOUT_RATE)(x)\n",
        "x = Dense(4096, activation='relu', name='fc6')(x)\n",
        "x = Dropout(DROPOUT_RATE)(x)\n",
        "x = Dense(1024, activation='relu', name='fc7')(x)\n",
        "\n",
        "for i in range(FROZEN_LAYER_NUM):\n",
        "    vgg_notop.layers[i].trainable = False\n",
        "\n",
        "print(vgg_notop.get_layer('pool5').trainable)\n",
        "\n",
        "out = Dense(7, activation='softmax', name='classifier')(x)\n",
        "\n",
        "model = Model(vgg_notop.input, out)\n",
        "\n",
        "\n",
        "optim = keras.optimizers.Adam(lr=ADAM_LEARNING_RATE, beta_1=0.9, beta_2=0.999, epsilon=1e-08, decay=0.0)\n",
        "#optim = keras.optimizers.Adam(lr=0.0005, beta_1=0.9, beta_2=0.999, epsilon=1e-08, decay=0.0)\n",
        "sgd = keras.optimizers.SGD(lr=SGD_LEARNING_RATE, momentum=0.9, decay=SGD_DECAY, nesterov=True)\n",
        "rlrop = keras.callbacks.ReduceLROnPlateau(monitor='val_acc',mode='max',factor=0.5, patience=10, min_lr=0.00001, verbose=1)\n",
        "\n",
        "model.compile(optimizer=sgd, loss='categorical_crossentropy', metrics=['accuracy'])"
      ],
      "execution_count": 6,
      "outputs": [
        {
          "output_type": "stream",
          "text": [
            "WARNING:tensorflow:From /usr/local/lib/python3.6/dist-packages/keras/backend/tensorflow_backend.py:66: The name tf.get_default_graph is deprecated. Please use tf.compat.v1.get_default_graph instead.\n",
            "\n",
            "WARNING:tensorflow:From /usr/local/lib/python3.6/dist-packages/keras/backend/tensorflow_backend.py:541: The name tf.placeholder is deprecated. Please use tf.compat.v1.placeholder instead.\n",
            "\n",
            "WARNING:tensorflow:From /usr/local/lib/python3.6/dist-packages/keras/backend/tensorflow_backend.py:4432: The name tf.random_uniform is deprecated. Please use tf.random.uniform instead.\n",
            "\n",
            "WARNING:tensorflow:From /usr/local/lib/python3.6/dist-packages/keras/backend/tensorflow_backend.py:4267: The name tf.nn.max_pool is deprecated. Please use tf.nn.max_pool2d instead.\n",
            "\n",
            "Downloading data from https://github.com/rcmalli/keras-vggface/releases/download/v2.0/rcmalli_vggface_tf_notop_vgg16.h5\n",
            "58916864/58909280 [==============================] - 1s 0us/step\n",
            "WARNING:tensorflow:From /usr/local/lib/python3.6/dist-packages/keras/backend/tensorflow_backend.py:190: The name tf.get_default_session is deprecated. Please use tf.compat.v1.get_default_session instead.\n",
            "\n",
            "WARNING:tensorflow:From /usr/local/lib/python3.6/dist-packages/keras/backend/tensorflow_backend.py:197: The name tf.ConfigProto is deprecated. Please use tf.compat.v1.ConfigProto instead.\n",
            "\n",
            "WARNING:tensorflow:From /usr/local/lib/python3.6/dist-packages/keras/backend/tensorflow_backend.py:203: The name tf.Session is deprecated. Please use tf.compat.v1.Session instead.\n",
            "\n",
            "WARNING:tensorflow:From /usr/local/lib/python3.6/dist-packages/keras/backend/tensorflow_backend.py:207: The name tf.global_variables is deprecated. Please use tf.compat.v1.global_variables instead.\n",
            "\n",
            "WARNING:tensorflow:From /usr/local/lib/python3.6/dist-packages/keras/backend/tensorflow_backend.py:216: The name tf.is_variable_initialized is deprecated. Please use tf.compat.v1.is_variable_initialized instead.\n",
            "\n",
            "WARNING:tensorflow:From /usr/local/lib/python3.6/dist-packages/keras/backend/tensorflow_backend.py:223: The name tf.variables_initializer is deprecated. Please use tf.compat.v1.variables_initializer instead.\n",
            "\n",
            "Model: \"vggface_vgg16\"\n",
            "_________________________________________________________________\n",
            "Layer (type)                 Output Shape              Param #   \n",
            "=================================================================\n",
            "input_1 (InputLayer)         (None, 197, 197, 3)       0         \n",
            "_________________________________________________________________\n",
            "conv1_1 (Conv2D)             (None, 197, 197, 64)      1792      \n",
            "_________________________________________________________________\n",
            "conv1_2 (Conv2D)             (None, 197, 197, 64)      36928     \n",
            "_________________________________________________________________\n",
            "pool1 (MaxPooling2D)         (None, 98, 98, 64)        0         \n",
            "_________________________________________________________________\n",
            "conv2_1 (Conv2D)             (None, 98, 98, 128)       73856     \n",
            "_________________________________________________________________\n",
            "conv2_2 (Conv2D)             (None, 98, 98, 128)       147584    \n",
            "_________________________________________________________________\n",
            "pool2 (MaxPooling2D)         (None, 49, 49, 128)       0         \n",
            "_________________________________________________________________\n",
            "conv3_1 (Conv2D)             (None, 49, 49, 256)       295168    \n",
            "_________________________________________________________________\n",
            "conv3_2 (Conv2D)             (None, 49, 49, 256)       590080    \n",
            "_________________________________________________________________\n",
            "conv3_3 (Conv2D)             (None, 49, 49, 256)       590080    \n",
            "_________________________________________________________________\n",
            "pool3 (MaxPooling2D)         (None, 24, 24, 256)       0         \n",
            "_________________________________________________________________\n",
            "conv4_1 (Conv2D)             (None, 24, 24, 512)       1180160   \n",
            "_________________________________________________________________\n",
            "conv4_2 (Conv2D)             (None, 24, 24, 512)       2359808   \n",
            "_________________________________________________________________\n",
            "conv4_3 (Conv2D)             (None, 24, 24, 512)       2359808   \n",
            "_________________________________________________________________\n",
            "pool4 (MaxPooling2D)         (None, 12, 12, 512)       0         \n",
            "_________________________________________________________________\n",
            "conv5_1 (Conv2D)             (None, 12, 12, 512)       2359808   \n",
            "_________________________________________________________________\n",
            "conv5_2 (Conv2D)             (None, 12, 12, 512)       2359808   \n",
            "_________________________________________________________________\n",
            "conv5_3 (Conv2D)             (None, 12, 12, 512)       2359808   \n",
            "_________________________________________________________________\n",
            "pool5 (MaxPooling2D)         (None, 6, 6, 512)         0         \n",
            "_________________________________________________________________\n",
            "global_average_pooling2d_1 ( (None, 512)               0         \n",
            "=================================================================\n",
            "Total params: 14,714,688\n",
            "Trainable params: 14,714,688\n",
            "Non-trainable params: 0\n",
            "_________________________________________________________________\n",
            "None\n",
            "WARNING:tensorflow:From /usr/local/lib/python3.6/dist-packages/keras/backend/tensorflow_backend.py:148: The name tf.placeholder_with_default is deprecated. Please use tf.compat.v1.placeholder_with_default instead.\n",
            "\n",
            "WARNING:tensorflow:From /usr/local/lib/python3.6/dist-packages/keras/backend/tensorflow_backend.py:3733: calling dropout (from tensorflow.python.ops.nn_ops) with keep_prob is deprecated and will be removed in a future version.\n",
            "Instructions for updating:\n",
            "Please use `rate` instead of `keep_prob`. Rate should be set to `rate = 1 - keep_prob`.\n",
            "False\n",
            "WARNING:tensorflow:From /usr/local/lib/python3.6/dist-packages/keras/optimizers.py:793: The name tf.train.Optimizer is deprecated. Please use tf.compat.v1.train.Optimizer instead.\n",
            "\n",
            "WARNING:tensorflow:From /usr/local/lib/python3.6/dist-packages/keras/backend/tensorflow_backend.py:3576: The name tf.log is deprecated. Please use tf.math.log instead.\n",
            "\n"
          ],
          "name": "stdout"
        }
      ]
    },
    {
      "cell_type": "code",
      "metadata": {
        "id": "v0mXUNZB-yI5",
        "colab_type": "code",
        "colab": {}
      },
      "source": [
        "! rm -rf train; mkdir train\n",
        "! unzip -q '/content/drive/My Drive/cs230 project/dataset/emotion.zip' -d train\n",
        "! unzip -q '/content/drive/My Drive/cs230 project/dataset/facesdb.zip' -d train\n",
        "! unzip -q '/content/drive/My Drive/cs230 project/dataset/fer2013/train.zip' -d train\n",
        "! unzip -q '/content/drive/My Drive/cs230 project/dataset/googlesearch.zip' -d train\n",
        "! unzip -q '/content/drive/My Drive/cs230 project/dataset/googleset.zip' -d train\n",
        "! unzip -q '/content/drive/My Drive/cs230 project/dataset/jaffe.zip' -d train\n",
        "! unzip -q '/content/drive/My Drive/cs230 project/dataset/umea.zip' -d train"
      ],
      "execution_count": 0,
      "outputs": []
    },
    {
      "cell_type": "code",
      "metadata": {
        "id": "TUuN9SLX_Qvl",
        "colab_type": "code",
        "colab": {}
      },
      "source": [
        "! rm -rf dev; mkdir dev\n",
        "! unzip -q '/content/drive/My Drive/cs230 project/dataset/fer2013/test-public.zip' -d dev\n",
        "! rm -rf test; mkdir test\n",
        "! unzip -q '/content/drive/My Drive/cs230 project/dataset/fer2013/test-private.zip' -d test"
      ],
      "execution_count": 0,
      "outputs": []
    },
    {
      "cell_type": "code",
      "metadata": {
        "id": "560jefnZ_Cyq",
        "colab_type": "code",
        "colab": {}
      },
      "source": [
        "from tensorflow.keras.preprocessing.image import ImageDataGenerator\n",
        "\n",
        "def get_datagen(dataset, aug=False):\n",
        "    if aug:\n",
        "        datagen = ImageDataGenerator(\n",
        "                            rescale=1./255,\n",
        "                            featurewise_center=False,\n",
        "                            featurewise_std_normalization=False,\n",
        "                            rotation_range=10,\n",
        "                            width_shift_range=0.1,\n",
        "                            height_shift_range=0.1,\n",
        "                            zoom_range=0.1,\n",
        "                            horizontal_flip=True)\n",
        "    else:\n",
        "        datagen = ImageDataGenerator(rescale=1./255)\n",
        "\n",
        "    return datagen.flow_from_directory(\n",
        "            dataset,\n",
        "            target_size=(197, 197),\n",
        "            color_mode='rgb',\n",
        "            shuffle = True,\n",
        "            class_mode='categorical',\n",
        "            batch_size=BS)"
      ],
      "execution_count": 0,
      "outputs": []
    },
    {
      "cell_type": "code",
      "metadata": {
        "id": "4aQAGQP5_Gpl",
        "colab_type": "code",
        "colab": {
          "base_uri": "https://localhost:8080/",
          "height": 127
        },
        "outputId": "58b56fc5-b677-42b2-c91d-3c6754c09024"
      },
      "source": [
        "train_generator  = get_datagen('/content/train', True)\n",
        "dev_generator    = get_datagen('/content/dev')\n",
        "test_generator  = get_datagen('/content/test')\n"
      ],
      "execution_count": 10,
      "outputs": [
        {
          "output_type": "stream",
          "text": [
            "/usr/local/lib/python3.6/dist-packages/keras_preprocessing/image/utils.py:173: UserWarning: Using \".tiff\" files with multiple bands will cause distortion. Please verify your output.\n",
            "  warnings.warn('Using \".tiff\" files with multiple bands '\n"
          ],
          "name": "stderr"
        },
        {
          "output_type": "stream",
          "text": [
            "Found 30452 images belonging to 7 classes.\n",
            "Found 3589 images belonging to 7 classes.\n",
            "Found 3589 images belonging to 7 classes.\n"
          ],
          "name": "stdout"
        }
      ]
    },
    {
      "cell_type": "code",
      "metadata": {
        "id": "GyHmZ5GRBdRl",
        "colab_type": "code",
        "colab": {}
      },
      "source": [
        "from sklearn.utils import class_weight\n",
        "file_stream = file_io.FileIO('/content/drive/My Drive/cs230 project/collab/fer2013/dev.csv', mode='r')\n",
        "data = pd.read_csv(file_stream)\n",
        "data[' pixels'] = data[' pixels'].apply(lambda x: [int(pixel) for pixel in x.split()])\n",
        "X, Y = data[' pixels'].tolist(), data['emotion'].values\n",
        "class_weights = class_weight.compute_class_weight('balanced',\n",
        "                                                    np.unique(Y),\n",
        "                                                    Y)\n"
      ],
      "execution_count": 0,
      "outputs": []
    },
    {
      "cell_type": "code",
      "metadata": {
        "colab_type": "code",
        "id": "pLISdlaStbUn",
        "colab": {
          "base_uri": "https://localhost:8080/",
          "height": 1000
        },
        "outputId": "44204244-5315-4a0c-aea9-ea3191fada5f"
      },
      "source": [
        "history = model.fit_generator(\n",
        "    generator = train_generator,\n",
        "    validation_data=dev_generator, \n",
        "    steps_per_epoch=28709// BS,\n",
        "    validation_steps=3509 // BS,\n",
        "    shuffle=True,\n",
        "    epochs=100,\n",
        "    callbacks=[rlrop],\n",
        "    use_multiprocessing=True,\n",
        ") "
      ],
      "execution_count": 12,
      "outputs": [
        {
          "output_type": "stream",
          "text": [
            "WARNING:tensorflow:From /tensorflow-1.15.0/python3.6/tensorflow_core/python/ops/math_grad.py:1424: where (from tensorflow.python.ops.array_ops) is deprecated and will be removed in a future version.\n",
            "Instructions for updating:\n",
            "Use tf.where in 2.0, which has the same broadcast rule as np.where\n",
            "WARNING:tensorflow:From /usr/local/lib/python3.6/dist-packages/keras/backend/tensorflow_backend.py:1033: The name tf.assign_add is deprecated. Please use tf.compat.v1.assign_add instead.\n",
            "\n",
            "WARNING:tensorflow:From /usr/local/lib/python3.6/dist-packages/keras/backend/tensorflow_backend.py:1020: The name tf.assign is deprecated. Please use tf.compat.v1.assign instead.\n",
            "\n",
            "Epoch 1/100\n",
            "224/224 [==============================] - 284s 1s/step - loss: 1.4781 - acc: 0.4389 - val_loss: 1.1864 - val_acc: 0.5697\n",
            "Epoch 2/100\n",
            "224/224 [==============================] - 281s 1s/step - loss: 1.2229 - acc: 0.5462 - val_loss: 1.1079 - val_acc: 0.5995\n",
            "Epoch 3/100\n",
            "224/224 [==============================] - 282s 1s/step - loss: 1.1653 - acc: 0.5646 - val_loss: 1.0875 - val_acc: 0.5941\n",
            "Epoch 4/100\n",
            "224/224 [==============================] - 278s 1s/step - loss: 1.1312 - acc: 0.5803 - val_loss: 1.0588 - val_acc: 0.6040\n",
            "Epoch 5/100\n",
            "224/224 [==============================] - 274s 1s/step - loss: 1.1135 - acc: 0.5852 - val_loss: 1.0577 - val_acc: 0.6064\n",
            "Epoch 6/100\n",
            "224/224 [==============================] - 280s 1s/step - loss: 1.0772 - acc: 0.6017 - val_loss: 1.0191 - val_acc: 0.6133\n",
            "Epoch 7/100\n",
            "224/224 [==============================] - 279s 1s/step - loss: 1.0729 - acc: 0.6024 - val_loss: 1.0644 - val_acc: 0.5989\n",
            "Epoch 8/100\n",
            "224/224 [==============================] - 278s 1s/step - loss: 1.0493 - acc: 0.6138 - val_loss: 0.9737 - val_acc: 0.6379\n",
            "Epoch 9/100\n",
            "224/224 [==============================] - 281s 1s/step - loss: 1.0480 - acc: 0.6078 - val_loss: 1.0145 - val_acc: 0.6271\n",
            "Epoch 10/100\n",
            "224/224 [==============================] - 280s 1s/step - loss: 1.0351 - acc: 0.6102 - val_loss: 0.9961 - val_acc: 0.6253\n",
            "Epoch 11/100\n",
            "224/224 [==============================] - 279s 1s/step - loss: 1.0107 - acc: 0.6255 - val_loss: 1.0039 - val_acc: 0.6199\n",
            "Epoch 12/100\n",
            "224/224 [==============================] - 278s 1s/step - loss: 1.0048 - acc: 0.6233 - val_loss: 0.9722 - val_acc: 0.6412\n",
            "Epoch 13/100\n",
            "224/224 [==============================] - 276s 1s/step - loss: 0.9951 - acc: 0.6289 - val_loss: 0.9877 - val_acc: 0.6307\n",
            "Epoch 14/100\n",
            "224/224 [==============================] - 277s 1s/step - loss: 0.9875 - acc: 0.6333 - val_loss: 0.9813 - val_acc: 0.6304\n",
            "Epoch 15/100\n",
            "224/224 [==============================] - 281s 1s/step - loss: 0.9793 - acc: 0.6349 - val_loss: 0.9632 - val_acc: 0.6415\n",
            "Epoch 16/100\n",
            "224/224 [==============================] - 277s 1s/step - loss: 0.9633 - acc: 0.6399 - val_loss: 0.9672 - val_acc: 0.6448\n",
            "Epoch 17/100\n",
            "224/224 [==============================] - 274s 1s/step - loss: 0.9534 - acc: 0.6451 - val_loss: 0.9488 - val_acc: 0.6496\n",
            "Epoch 18/100\n",
            "224/224 [==============================] - 272s 1s/step - loss: 0.9503 - acc: 0.6456 - val_loss: 0.9625 - val_acc: 0.6427\n",
            "Epoch 19/100\n",
            "224/224 [==============================] - 275s 1s/step - loss: 0.9419 - acc: 0.6507 - val_loss: 0.9566 - val_acc: 0.6427\n",
            "Epoch 20/100\n",
            "224/224 [==============================] - 276s 1s/step - loss: 0.9386 - acc: 0.6538 - val_loss: 0.9426 - val_acc: 0.6520\n",
            "Epoch 21/100\n",
            "224/224 [==============================] - 272s 1s/step - loss: 0.9202 - acc: 0.6616 - val_loss: 0.9496 - val_acc: 0.6565\n",
            "Epoch 22/100\n",
            "224/224 [==============================] - 273s 1s/step - loss: 0.9217 - acc: 0.6571 - val_loss: 0.9526 - val_acc: 0.6538\n",
            "Epoch 23/100\n",
            "224/224 [==============================] - 272s 1s/step - loss: 0.9038 - acc: 0.6650 - val_loss: 0.9455 - val_acc: 0.6493\n",
            "Epoch 24/100\n",
            "224/224 [==============================] - 277s 1s/step - loss: 0.8997 - acc: 0.6640 - val_loss: 0.9184 - val_acc: 0.6631\n",
            "Epoch 25/100\n",
            "224/224 [==============================] - 281s 1s/step - loss: 0.8959 - acc: 0.6676 - val_loss: 0.9597 - val_acc: 0.6469\n",
            "Epoch 26/100\n",
            "224/224 [==============================] - 272s 1s/step - loss: 0.8835 - acc: 0.6704 - val_loss: 0.9351 - val_acc: 0.6532\n",
            "Epoch 27/100\n",
            "224/224 [==============================] - 270s 1s/step - loss: 0.8849 - acc: 0.6718 - val_loss: 0.9215 - val_acc: 0.6685\n",
            "Epoch 28/100\n",
            "224/224 [==============================] - 269s 1s/step - loss: 0.8763 - acc: 0.6744 - val_loss: 0.9404 - val_acc: 0.6604\n",
            "Epoch 29/100\n",
            "224/224 [==============================] - 265s 1s/step - loss: 0.8672 - acc: 0.6775 - val_loss: 0.9326 - val_acc: 0.6598\n",
            "Epoch 30/100\n",
            "224/224 [==============================] - 266s 1s/step - loss: 0.8598 - acc: 0.6808 - val_loss: 0.9274 - val_acc: 0.6606\n",
            "Epoch 31/100\n",
            "224/224 [==============================] - 269s 1s/step - loss: 0.8483 - acc: 0.6852 - val_loss: 0.9421 - val_acc: 0.6559\n",
            "Epoch 32/100\n",
            "224/224 [==============================] - 268s 1s/step - loss: 0.8522 - acc: 0.6833 - val_loss: 0.9111 - val_acc: 0.6691\n",
            "Epoch 33/100\n",
            "224/224 [==============================] - 270s 1s/step - loss: 0.8331 - acc: 0.6899 - val_loss: 0.9311 - val_acc: 0.6625\n",
            "Epoch 34/100\n",
            "224/224 [==============================] - 268s 1s/step - loss: 0.8371 - acc: 0.6892 - val_loss: 0.9122 - val_acc: 0.6733\n",
            "Epoch 35/100\n",
            "224/224 [==============================] - 263s 1s/step - loss: 0.8212 - acc: 0.6951 - val_loss: 0.9051 - val_acc: 0.6757\n",
            "Epoch 36/100\n",
            "224/224 [==============================] - 260s 1s/step - loss: 0.8185 - acc: 0.6998 - val_loss: 0.9320 - val_acc: 0.6592\n",
            "Epoch 37/100\n",
            "224/224 [==============================] - 259s 1s/step - loss: 0.8096 - acc: 0.7001 - val_loss: 0.9277 - val_acc: 0.6688\n",
            "Epoch 38/100\n",
            "224/224 [==============================] - 261s 1s/step - loss: 0.8120 - acc: 0.6984 - val_loss: 0.8756 - val_acc: 0.6844\n",
            "Epoch 39/100\n",
            "224/224 [==============================] - 259s 1s/step - loss: 0.7976 - acc: 0.7040 - val_loss: 0.9057 - val_acc: 0.6649\n",
            "Epoch 40/100\n",
            "224/224 [==============================] - 262s 1s/step - loss: 0.7962 - acc: 0.7074 - val_loss: 0.9317 - val_acc: 0.6619\n",
            "Epoch 41/100\n",
            "224/224 [==============================] - 260s 1s/step - loss: 0.7889 - acc: 0.7085 - val_loss: 0.9011 - val_acc: 0.6823\n",
            "Epoch 42/100\n",
            "224/224 [==============================] - 262s 1s/step - loss: 0.7846 - acc: 0.7095 - val_loss: 0.9168 - val_acc: 0.6712\n",
            "Epoch 43/100\n",
            "224/224 [==============================] - 263s 1s/step - loss: 0.7753 - acc: 0.7137 - val_loss: 0.9110 - val_acc: 0.6712\n",
            "Epoch 44/100\n",
            "224/224 [==============================] - 261s 1s/step - loss: 0.7728 - acc: 0.7129 - val_loss: 0.9079 - val_acc: 0.6794\n",
            "Epoch 45/100\n",
            "224/224 [==============================] - 260s 1s/step - loss: 0.7698 - acc: 0.7131 - val_loss: 0.9094 - val_acc: 0.6757\n",
            "Epoch 46/100\n",
            "224/224 [==============================] - 263s 1s/step - loss: 0.7594 - acc: 0.7184 - val_loss: 0.9159 - val_acc: 0.6697\n",
            "Epoch 47/100\n",
            "224/224 [==============================] - 261s 1s/step - loss: 0.7540 - acc: 0.7249 - val_loss: 0.9004 - val_acc: 0.6766\n",
            "Epoch 48/100\n",
            "224/224 [==============================] - 259s 1s/step - loss: 0.7481 - acc: 0.7217 - val_loss: 0.9197 - val_acc: 0.6655\n",
            "\n",
            "Epoch 00048: ReduceLROnPlateau reducing learning rate to 0.004999999888241291.\n",
            "Epoch 49/100\n",
            "224/224 [==============================] - 258s 1s/step - loss: 0.7277 - acc: 0.7296 - val_loss: 0.8890 - val_acc: 0.6940\n",
            "Epoch 50/100\n",
            "224/224 [==============================] - 260s 1s/step - loss: 0.7273 - acc: 0.7309 - val_loss: 0.9133 - val_acc: 0.6706\n",
            "Epoch 51/100\n",
            "224/224 [==============================] - 259s 1s/step - loss: 0.7223 - acc: 0.7352 - val_loss: 0.8978 - val_acc: 0.6832\n",
            "Epoch 52/100\n",
            "224/224 [==============================] - 257s 1s/step - loss: 0.7163 - acc: 0.7379 - val_loss: 0.9013 - val_acc: 0.6745\n",
            "Epoch 53/100\n",
            "224/224 [==============================] - 258s 1s/step - loss: 0.7134 - acc: 0.7385 - val_loss: 0.8924 - val_acc: 0.6877\n",
            "Epoch 54/100\n",
            "224/224 [==============================] - 261s 1s/step - loss: 0.7096 - acc: 0.7372 - val_loss: 0.9000 - val_acc: 0.6697\n",
            "Epoch 55/100\n",
            "224/224 [==============================] - 263s 1s/step - loss: 0.6954 - acc: 0.7450 - val_loss: 0.9115 - val_acc: 0.6838\n",
            "Epoch 56/100\n",
            "224/224 [==============================] - 263s 1s/step - loss: 0.7049 - acc: 0.7386 - val_loss: 0.9114 - val_acc: 0.6775\n",
            "Epoch 57/100\n",
            "224/224 [==============================] - 261s 1s/step - loss: 0.7028 - acc: 0.7383 - val_loss: 0.9013 - val_acc: 0.6838\n",
            "Epoch 58/100\n",
            "224/224 [==============================] - 258s 1s/step - loss: 0.6911 - acc: 0.7460 - val_loss: 0.9085 - val_acc: 0.6775\n",
            "Epoch 59/100\n",
            "224/224 [==============================] - 258s 1s/step - loss: 0.6932 - acc: 0.7431 - val_loss: 0.9038 - val_acc: 0.6837\n",
            "\n",
            "Epoch 00059: ReduceLROnPlateau reducing learning rate to 0.0024999999441206455.\n",
            "Epoch 60/100\n",
            "224/224 [==============================] - 256s 1s/step - loss: 0.6948 - acc: 0.7450 - val_loss: 0.8987 - val_acc: 0.6799\n",
            "Epoch 61/100\n",
            "224/224 [==============================] - 256s 1s/step - loss: 0.6753 - acc: 0.7513 - val_loss: 0.9053 - val_acc: 0.6802\n",
            "Epoch 62/100\n",
            "224/224 [==============================] - 255s 1s/step - loss: 0.6784 - acc: 0.7518 - val_loss: 0.9149 - val_acc: 0.6787\n",
            "Epoch 63/100\n",
            "224/224 [==============================] - 254s 1s/step - loss: 0.6659 - acc: 0.7551 - val_loss: 0.8971 - val_acc: 0.6811\n",
            "Epoch 64/100\n",
            "224/224 [==============================] - 254s 1s/step - loss: 0.6737 - acc: 0.7521 - val_loss: 0.9130 - val_acc: 0.6862\n",
            "Epoch 65/100\n",
            "224/224 [==============================] - 256s 1s/step - loss: 0.6745 - acc: 0.7539 - val_loss: 0.8948 - val_acc: 0.6724\n",
            "Epoch 66/100\n",
            "224/224 [==============================] - 254s 1s/step - loss: 0.6701 - acc: 0.7552 - val_loss: 0.9021 - val_acc: 0.6892\n",
            "Epoch 67/100\n",
            "224/224 [==============================] - 274s 1s/step - loss: 0.6656 - acc: 0.7537 - val_loss: 0.8874 - val_acc: 0.6892\n",
            "Epoch 68/100\n",
            "224/224 [==============================] - 272s 1s/step - loss: 0.6686 - acc: 0.7569 - val_loss: 0.9203 - val_acc: 0.6709\n",
            "Epoch 69/100\n",
            "224/224 [==============================] - 275s 1s/step - loss: 0.6660 - acc: 0.7563 - val_loss: 0.9088 - val_acc: 0.6775\n",
            "\n",
            "Epoch 00069: ReduceLROnPlateau reducing learning rate to 0.0012499999720603228.\n",
            "Epoch 70/100\n",
            "224/224 [==============================] - 277s 1s/step - loss: 0.6620 - acc: 0.7561 - val_loss: 0.9038 - val_acc: 0.6811\n",
            "Epoch 71/100\n",
            "224/224 [==============================] - 277s 1s/step - loss: 0.6610 - acc: 0.7554 - val_loss: 0.9021 - val_acc: 0.6802\n",
            "Epoch 72/100\n",
            "224/224 [==============================] - 276s 1s/step - loss: 0.6554 - acc: 0.7598 - val_loss: 0.8998 - val_acc: 0.6835\n",
            "Epoch 73/100\n",
            "224/224 [==============================] - 277s 1s/step - loss: 0.6557 - acc: 0.7601 - val_loss: 0.9030 - val_acc: 0.6829\n",
            "Epoch 74/100\n",
            "224/224 [==============================] - 277s 1s/step - loss: 0.6616 - acc: 0.7575 - val_loss: 0.9163 - val_acc: 0.6769\n",
            "Epoch 75/100\n",
            "224/224 [==============================] - 277s 1s/step - loss: 0.6512 - acc: 0.7628 - val_loss: 0.8870 - val_acc: 0.6889\n",
            "Epoch 76/100\n",
            "224/224 [==============================] - 277s 1s/step - loss: 0.6550 - acc: 0.7590 - val_loss: 0.9364 - val_acc: 0.6751\n",
            "Epoch 77/100\n",
            "224/224 [==============================] - 276s 1s/step - loss: 0.6676 - acc: 0.7543 - val_loss: 0.8947 - val_acc: 0.6766\n",
            "Epoch 78/100\n",
            "224/224 [==============================] - 277s 1s/step - loss: 0.6568 - acc: 0.7627 - val_loss: 0.8884 - val_acc: 0.6871\n",
            "Epoch 79/100\n",
            "224/224 [==============================] - 277s 1s/step - loss: 0.6526 - acc: 0.7609 - val_loss: 0.9081 - val_acc: 0.6817\n",
            "\n",
            "Epoch 00079: ReduceLROnPlateau reducing learning rate to 0.0006249999860301614.\n",
            "Epoch 80/100\n",
            "224/224 [==============================] - 278s 1s/step - loss: 0.6521 - acc: 0.7604 - val_loss: 0.9012 - val_acc: 0.6823\n",
            "Epoch 81/100\n",
            "224/224 [==============================] - 275s 1s/step - loss: 0.6561 - acc: 0.7614 - val_loss: 0.9229 - val_acc: 0.6688\n",
            "Epoch 82/100\n",
            "224/224 [==============================] - 274s 1s/step - loss: 0.6499 - acc: 0.7642 - val_loss: 0.8899 - val_acc: 0.6853\n",
            "Epoch 83/100\n",
            "224/224 [==============================] - 275s 1s/step - loss: 0.6519 - acc: 0.7597 - val_loss: 0.8844 - val_acc: 0.6841\n",
            "Epoch 84/100\n",
            "224/224 [==============================] - 278s 1s/step - loss: 0.6525 - acc: 0.7608 - val_loss: 0.9141 - val_acc: 0.6745\n",
            "Epoch 85/100\n",
            "224/224 [==============================] - 276s 1s/step - loss: 0.6475 - acc: 0.7630 - val_loss: 0.9201 - val_acc: 0.6820\n",
            "Epoch 86/100\n",
            "224/224 [==============================] - 270s 1s/step - loss: 0.6462 - acc: 0.7632 - val_loss: 0.8911 - val_acc: 0.6796\n",
            "Epoch 87/100\n",
            "224/224 [==============================] - 276s 1s/step - loss: 0.6563 - acc: 0.7611 - val_loss: 0.9100 - val_acc: 0.6784\n",
            "Epoch 88/100\n",
            "224/224 [==============================] - 277s 1s/step - loss: 0.6420 - acc: 0.7631 - val_loss: 0.9055 - val_acc: 0.6823\n",
            "Epoch 89/100\n",
            "224/224 [==============================] - 276s 1s/step - loss: 0.6534 - acc: 0.7584 - val_loss: 0.8978 - val_acc: 0.6832\n",
            "\n",
            "Epoch 00089: ReduceLROnPlateau reducing learning rate to 0.0003124999930150807.\n",
            "Epoch 90/100\n",
            "224/224 [==============================] - 277s 1s/step - loss: 0.6451 - acc: 0.7645 - val_loss: 0.9131 - val_acc: 0.6799\n",
            "Epoch 91/100\n",
            "224/224 [==============================] - 276s 1s/step - loss: 0.6455 - acc: 0.7651 - val_loss: 0.9120 - val_acc: 0.6814\n",
            "Epoch 92/100\n",
            "224/224 [==============================] - 277s 1s/step - loss: 0.6453 - acc: 0.7640 - val_loss: 0.9056 - val_acc: 0.6778\n",
            "Epoch 93/100\n",
            "224/224 [==============================] - 275s 1s/step - loss: 0.6451 - acc: 0.7668 - val_loss: 0.8986 - val_acc: 0.6877\n",
            "Epoch 94/100\n",
            "224/224 [==============================] - 277s 1s/step - loss: 0.6545 - acc: 0.7601 - val_loss: 0.9133 - val_acc: 0.6784\n",
            "Epoch 95/100\n",
            "224/224 [==============================] - 278s 1s/step - loss: 0.6434 - acc: 0.7637 - val_loss: 0.9048 - val_acc: 0.6754\n",
            "Epoch 96/100\n",
            "224/224 [==============================] - 278s 1s/step - loss: 0.6464 - acc: 0.7632 - val_loss: 0.8983 - val_acc: 0.6883\n",
            "Epoch 97/100\n",
            "224/224 [==============================] - 278s 1s/step - loss: 0.6459 - acc: 0.7645 - val_loss: 0.9032 - val_acc: 0.6802\n",
            "Epoch 98/100\n",
            "224/224 [==============================] - 278s 1s/step - loss: 0.6534 - acc: 0.7603 - val_loss: 0.8945 - val_acc: 0.6841\n",
            "Epoch 99/100\n",
            "224/224 [==============================] - 280s 1s/step - loss: 0.6427 - acc: 0.7635 - val_loss: 0.9116 - val_acc: 0.6781\n",
            "\n",
            "Epoch 00099: ReduceLROnPlateau reducing learning rate to 0.00015624999650754035.\n",
            "Epoch 100/100\n",
            "224/224 [==============================] - 280s 1s/step - loss: 0.6407 - acc: 0.7634 - val_loss: 0.9049 - val_acc: 0.6841\n"
          ],
          "name": "stdout"
        }
      ]
    },
    {
      "cell_type": "code",
      "metadata": {
        "id": "JSSv08SHF0bC",
        "colab_type": "code",
        "colab": {
          "base_uri": "https://localhost:8080/",
          "height": 71
        },
        "outputId": "873b49fc-2e5a-4e8d-c905-9c52e3e5018e"
      },
      "source": [
        "print('\\n# Evaluate on dev data')\n",
        "results_dev = model.evaluate_generator(dev_generator, 3509 // BS)\n",
        "print('dev loss, dev acc:', results_dev)"
      ],
      "execution_count": 13,
      "outputs": [
        {
          "output_type": "stream",
          "text": [
            "\n",
            "# Evaluate on dev data\n",
            "dev loss, dev acc: [0.9088092004811322, 0.6805555555555556]\n"
          ],
          "name": "stdout"
        }
      ]
    },
    {
      "cell_type": "code",
      "metadata": {
        "id": "Ev4sDYDlOsqk",
        "colab_type": "code",
        "colab": {
          "base_uri": "https://localhost:8080/",
          "height": 71
        },
        "outputId": "86e7436d-7ac5-44b1-9ccd-428baa2f294e"
      },
      "source": [
        "print('\\n# Evaluate on test data')\n",
        "results_test = model.evaluate_generator(test_generator, 3509 // BS)\n",
        "print('test loss, test acc:', results_test)"
      ],
      "execution_count": 14,
      "outputs": [
        {
          "output_type": "stream",
          "text": [
            "\n",
            "# Evaluate on test data\n",
            "test loss, test acc: [0.8557395471466912, 0.6961805555555556]\n"
          ],
          "name": "stdout"
        }
      ]
    },
    {
      "cell_type": "code",
      "metadata": {
        "id": "m9f7smhHUQus",
        "colab_type": "code",
        "colab": {
          "base_uri": "https://localhost:8080/",
          "height": 591
        },
        "outputId": "aa0f0ccd-0352-4c7c-b56b-ebc851c6ff97"
      },
      "source": [
        "# list all data in history\n",
        "print(history.history.keys())\n",
        "# summarize history for accuracy\n",
        "plt.plot(history.history['acc'])\n",
        "plt.plot(history.history['val_acc'])\n",
        "plt.title('model accuracy')\n",
        "plt.ylabel('accuracy')\n",
        "plt.xlabel('epoch')\n",
        "plt.legend(['train', 'dev'], loc='upper left')\n",
        "plt.show()\n",
        "# summarize history for loss\n",
        "plt.plot(history.history['loss'])\n",
        "plt.plot(history.history['val_loss'])\n",
        "plt.title('model loss')\n",
        "plt.ylabel('loss')\n",
        "plt.xlabel('epoch')\n",
        "plt.legend(['train', 'dev'], loc='upper left')\n",
        "plt.show()"
      ],
      "execution_count": 15,
      "outputs": [
        {
          "output_type": "stream",
          "text": [
            "dict_keys(['val_loss', 'val_acc', 'loss', 'acc', 'lr'])\n"
          ],
          "name": "stdout"
        },
        {
          "output_type": "display_data",
          "data": {
            "image/png": "[encoded data removed]",
            "text/plain": [
              "<Figure size 432x288 with 1 Axes>"
            ]
          },
          "metadata": {
            "tags": []
          }
        },
        {
          "output_type": "display_data",
          "data": {
            "image/png": "[encoded data removed]",
            "text/plain": [
              "<Figure size 432x288 with 1 Axes>"
            ]
          },
          "metadata": {
            "tags": []
          }
        }
      ]
    },
    {
      "cell_type": "code",
      "metadata": {
        "id": "F-QKHTmJQhi1",
        "colab_type": "code",
        "colab": {}
      },
      "source": [
        "epoch_str = '-EPOCHS_' + str(EPOCHS)\n",
        "test_acc = 'test_acc_%.3f' % results_test[1]\n",
        "model.save('/content/drive/My Drive/cs230 project/models/' + 'VGG16-Class-Weights' + epoch_str + test_acc + '.h5')"
      ],
      "execution_count": 0,
      "outputs": []
    },
    {
      "cell_type": "code",
      "metadata": {
        "id": "uWZiTImpFQYf",
        "colab_type": "code",
        "colab": {}
      },
      "source": [
        ""
      ],
      "execution_count": 0,
      "outputs": []
    }
  ]
}