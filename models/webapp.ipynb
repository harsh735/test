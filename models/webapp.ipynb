{
  "nbformat": 4,
  "nbformat_minor": 0,
  "metadata": {
    "accelerator": "GPU",
    "colab": {
      "name": "fer2013.ipynb",
      "provenance": [],
      "collapsed_sections": []
    },
    "kernelspec": {
      "name": "python3",
      "display_name": "Python 3"
    }
  },
  "cells": [
    {
      "cell_type": "code",
      "metadata": {
        "colab_type": "code",
        "id": "gwdg7Sv3XBaP",
        "outputId": "8313107c-c806-4b64-8873-43f3df71af43",
        "colab": {
          "base_uri": "https://localhost:8080/",
          "height": 35
        }
      },
      "source": [
        "%tensorflow_version 2.x"
      ],
      "execution_count": 1,
      "outputs": [
        {
          "output_type": "stream",
          "text": [
            "TensorFlow 2.x selected.\n"
          ],
          "name": "stdout"
        }
      ]
    },
    {
      "cell_type": "code",
      "metadata": {
        "colab_type": "code",
        "id": "2nz38mJZXN_P",
        "colab": {}
      },
      "source": [
        "import matplotlib.pyplot as plt\n",
        "import pandas as pd\n",
        "import numpy as np\n",
        "from skimage import io, transform\n",
        "\n",
        "import tensorflow as tf\n",
        "from tensorflow.keras.optimizers import SGD\n",
        "from tensorflow.python.keras.preprocessing.image import ImageDataGenerator\n",
        "from tensorflow.python.keras import Sequential\n",
        "from tensorflow.python.keras.layers import Dense, Dropout, Flatten, Conv2D, MaxPooling2D, BatchNormalization\n",
        "from tensorflow.python.keras.callbacks import ReduceLROnPlateau\n",
        "from tensorflow.python.lib.io import file_io\n",
        "\n",
        "%matplotlib inline"
      ],
      "execution_count": 0,
      "outputs": []
    },
    {
      "cell_type": "code",
      "metadata": {
        "id": "DvhhsabEvIve",
        "colab_type": "code",
        "colab": {
          "base_uri": "https://localhost:8080/",
          "height": 35
        },
        "outputId": "6792e571-2eae-46c3-d717-a8c8fbffa382"
      },
      "source": [
        "from google.colab import drive\n",
        "drive.mount('/content/drive')"
      ],
      "execution_count": 3,
      "outputs": [
        {
          "output_type": "stream",
          "text": [
            "Drive already mounted at /content/drive; to attempt to forcibly remount, call drive.mount(\"/content/drive\", force_remount=True).\n"
          ],
          "name": "stdout"
        }
      ]
    },
    {
      "cell_type": "code",
      "metadata": {
        "id": "NH7P4yxNZzoe",
        "colab_type": "code",
        "colab": {}
      },
      "source": [
        "! rm -rf train; mkdir train\n",
        "! unzip -q '/content/drive/My Drive/cs230 project/dataset/ck-plus.zip' -d train\n",
        "! unzip -q '/content/drive/My Drive/cs230 project/dataset/fer2013/test-public.zip' -d train\n",
        "! unzip -q '/content/drive/My Drive/cs230 project/dataset/fer2013/test-private.zip' -d train\n",
        "! unzip -q '/content/drive/My Drive/cs230 project/dataset/fer2013/train.zip' -d train\n",
        "! unzip -q '/content/drive/My Drive/cs230 project/dataset/jaffe.zip' -d train"
      ],
      "execution_count": 0,
      "outputs": []
    },
    {
      "cell_type": "code",
      "metadata": {
        "id": "mI1RWP4L23Jl",
        "colab_type": "code",
        "colab": {}
      },
      "source": [
        "! rm -rf dev; mkdir dev\n",
        "! unzip -q '/content/drive/My Drive/cs230 project/dataset/webcam-us.zip' -d dev\n",
        "! unzip -q '/content/drive/My Drive/cs230 project/dataset/webcam-pk.zip' -d dev"
      ],
      "execution_count": 0,
      "outputs": []
    },
    {
      "cell_type": "code",
      "metadata": {
        "id": "Oz39jin1ATcV",
        "colab_type": "code",
        "outputId": "b0364fa3-580a-49a3-9d63-611190993058",
        "colab": {
          "base_uri": "https://localhost:8080/",
          "height": 145
        }
      },
      "source": [
        "# Move 80% of webcam images to the training set\n",
        "%%bash\n",
        "source_root='/content/dev/'\n",
        "target_root='/content/train/'\n",
        "IFS=$(echo -en \"\\n\\b\")\n",
        "for dir in $(ls -1 \"$source_root\")\n",
        "do\n",
        "    source_dir=\"$source_root$dir\"\n",
        "    target_dir=\"$target_root$dir\"\n",
        "    num_files=$(ls -1 \"$source_dir\" | wc -l)\n",
        "    num_to_move=$(( $num_files*8/10 ))\n",
        "    echo \"Moving $num_to_move/$num_files files from $source_dir to $target_dir\"\n",
        "    mkdir -p \"$target_dir\"\n",
        "    cd \"$source_dir\"\n",
        "    ls -1 \"$source_dir\" | shuf -n $num_to_move | xargs -i mv {} \"$target_dir\"\n",
        " done"
      ],
      "execution_count": 6,
      "outputs": [
        {
          "output_type": "stream",
          "text": [
            "Moving 33/42 files from /content/dev/0 angry to /content/train/0 angry\n",
            "Moving 40/50 files from /content/dev/1 disgust to /content/train/1 disgust\n",
            "Moving 25/32 files from /content/dev/2 fear to /content/train/2 fear\n",
            "Moving 30/38 files from /content/dev/3 happy to /content/train/3 happy\n",
            "Moving 24/31 files from /content/dev/4 sad to /content/train/4 sad\n",
            "Moving 25/32 files from /content/dev/5 surprise to /content/train/5 surprise\n",
            "Moving 30/38 files from /content/dev/6 neutral to /content/train/6 neutral\n"
          ],
          "name": "stdout"
        }
      ]
    },
    {
      "cell_type": "code",
      "metadata": {
        "id": "oPO33wZKzHsc",
        "colab_type": "code",
        "colab": {}
      },
      "source": [
        "EPOCHS = 50\n",
        "BS = 128\n",
        "DROPOUT_RATE = 0.35\n",
        "SGD_LEARNING_RATE = 0.01\n",
        "SGD_DECAY = 0.0001"
      ],
      "execution_count": 0,
      "outputs": []
    },
    {
      "cell_type": "code",
      "metadata": {
        "colab_type": "code",
        "id": "hAjh6yOLYPZm",
        "colab": {}
      },
      "source": [
        "from tensorflow.keras.preprocessing.image import ImageDataGenerator\n",
        "\n",
        "# Function that reads the data from the csv file, increases the size of the images and returns the images and their labels\n",
        "def get_datagen(dataset):\n",
        "    # Generate batches of tensor image data with real-time data augmentation. The data will be looped over (in batches) indefinitely\n",
        "    # rescale:          Rescaling factor (defaults to None). Multiply the data by the value provided (before applying any other transformation)\n",
        "    # rotation_range:   Int. Degree range for random rotations\n",
        "    # shear_range:      Float. Shear Intensity (Shear angle in counter-clockwise direction as radians)\n",
        "    # zoom_range:       Float or [lower, upper]. Range for random zoom. If a float, [lower, upper] = [1-zoom_range, 1+zoom_range]\n",
        "    # fill_mode :       Points outside the boundaries of the input are filled according to the given mode: {\"constant\", \"nearest\", \"reflect\" or \"wrap\"}\n",
        "    # horizontal_flip:  Boolean. Randomly flip inputs horizontally\n",
        "    datagen = ImageDataGenerator(\n",
        "                        rescale=1./255,\n",
        "                        featurewise_center=False,\n",
        "                        featurewise_std_normalization=False,\n",
        "                        rotation_range=10,\n",
        "                        width_shift_range=0.1,\n",
        "                        height_shift_range=0.1,\n",
        "                        zoom_range=0.1,\n",
        "                        horizontal_flip=True)\n",
        "\n",
        "    return datagen.flow_from_directory(\n",
        "            dataset,\n",
        "            target_size=(48, 48),\n",
        "            color_mode='grayscale',\n",
        "            shuffle = True,\n",
        "            class_mode='categorical',\n",
        "            batch_size=BS)"
      ],
      "execution_count": 0,
      "outputs": []
    },
    {
      "cell_type": "code",
      "metadata": {
        "id": "rm5tqGr-zHsm",
        "colab_type": "code",
        "outputId": "96f10809-9c52-45bc-f26e-aa2ace136ea4",
        "colab": {
          "base_uri": "https://localhost:8080/",
          "height": 92
        }
      },
      "source": [
        "# FER2013 has 35,887 labeled images, which are divided into 3589 test and 28709 train images.\n",
        "X_train_gen  = get_datagen('/content/train')"
      ],
      "execution_count": 9,
      "outputs": [
        {
          "output_type": "stream",
          "text": [
            "/usr/local/lib/python3.6/dist-packages/keras_preprocessing/image/utils.py:173: UserWarning: Using \".tiff\" files with multiple bands will cause distortion. Please verify your output.\n",
            "  warnings.warn('Using \".tiff\" files with multiple bands '\n"
          ],
          "name": "stderr"
        },
        {
          "output_type": "stream",
          "text": [
            "Found 37495 images belonging to 7 classes.\n"
          ],
          "name": "stdout"
        }
      ]
    },
    {
      "cell_type": "code",
      "metadata": {
        "id": "a0BCBC3NEaID",
        "colab_type": "code",
        "outputId": "b2979800-8432-475a-f9d8-a22eda16f8e9",
        "colab": {
          "base_uri": "https://localhost:8080/",
          "height": 35
        }
      },
      "source": [
        "X_dev_gen    = get_datagen('/content/dev')\n",
        "\n",
        "X_dev = np.zeros((len(X_dev_gen.filepaths), 48, 48, 1))\n",
        "Y_dev = np.zeros((len(X_dev_gen.filepaths), 7))\n",
        "for i in range(0,len(X_dev_gen.filepaths)):\n",
        "  x = io.imread(X_dev_gen.filepaths[i], as_gray=True)\n",
        "  X_dev[i,:] = transform.resize(x, (48,48,1))\n",
        "  Y_dev[i,X_dev_gen.classes[i]] = 1"
      ],
      "execution_count": 10,
      "outputs": [
        {
          "output_type": "stream",
          "text": [
            "Found 56 images belonging to 7 classes.\n"
          ],
          "name": "stdout"
        }
      ]
    },
    {
      "cell_type": "code",
      "metadata": {
        "id": "NfMDUTJX-QM8",
        "colab_type": "code",
        "colab": {}
      },
      "source": [
        "from tensorflow.keras.models import load_model\n",
        "model = load_model('/content/drive/My Drive/cs230 project/models/webcam-SGD_LR_0.01000-EPOCHS_100-BS_128-DROPOUT_0.35test_acc_0.698.h5')"
      ],
      "execution_count": 0,
      "outputs": []
    },
    {
      "cell_type": "code",
      "metadata": {
        "id": "RJ3hGX2HzHsw",
        "colab_type": "code",
        "outputId": "7ccae9a5-18a1-464b-ee1d-96f18f53797f",
        "colab": {
          "base_uri": "https://localhost:8080/",
          "height": 1000
        }
      },
      "source": [
        "history = model.fit_generator(\n",
        "    generator = X_train_gen,\n",
        "    validation_data = (X_dev, Y_dev),\n",
        "    shuffle=True,\n",
        "    callbacks=[rlrop],\n",
        "    epochs=EPOCHS)"
      ],
      "execution_count": 13,
      "outputs": [
        {
          "output_type": "stream",
          "text": [
            "WARNING:tensorflow:From <ipython-input-13-170819b8d114>:6: Model.fit_generator (from tensorflow.python.keras.engine.training) is deprecated and will be removed in a future version.\n",
            "Instructions for updating:\n",
            "Please use Model.fit, which supports generators.\n",
            "WARNING:tensorflow:sample_weight modes were coerced from\n",
            "  ...\n",
            "    to  \n",
            "  ['...']\n",
            "Train for 293 steps, validate on 56 samples\n",
            "Epoch 1/50\n",
            "293/293 [==============================] - 27s 92ms/step - loss: 0.8946 - accuracy: 0.6714 - val_loss: 1.0206 - val_accuracy: 0.6250\n",
            "Epoch 2/50\n",
            "293/293 [==============================] - 25s 85ms/step - loss: 0.8887 - accuracy: 0.6687 - val_loss: 1.0065 - val_accuracy: 0.6071\n",
            "Epoch 3/50\n",
            "293/293 [==============================] - 24s 83ms/step - loss: 0.8925 - accuracy: 0.6706 - val_loss: 1.0048 - val_accuracy: 0.6250\n",
            "Epoch 4/50\n",
            "293/293 [==============================] - 25s 84ms/step - loss: 0.8878 - accuracy: 0.6682 - val_loss: 0.9992 - val_accuracy: 0.6250\n",
            "Epoch 5/50\n",
            "293/293 [==============================] - 24s 84ms/step - loss: 0.8852 - accuracy: 0.6702 - val_loss: 1.0042 - val_accuracy: 0.6429\n",
            "Epoch 6/50\n",
            "293/293 [==============================] - 24s 83ms/step - loss: 0.8901 - accuracy: 0.6703 - val_loss: 0.9996 - val_accuracy: 0.6607\n",
            "Epoch 7/50\n",
            "293/293 [==============================] - 24s 83ms/step - loss: 0.8908 - accuracy: 0.6689 - val_loss: 1.0038 - val_accuracy: 0.6429\n",
            "Epoch 8/50\n",
            "293/293 [==============================] - 24s 83ms/step - loss: 0.8858 - accuracy: 0.6702 - val_loss: 1.0024 - val_accuracy: 0.6429\n",
            "Epoch 9/50\n",
            "293/293 [==============================] - 24s 82ms/step - loss: 0.8908 - accuracy: 0.6695 - val_loss: 1.0038 - val_accuracy: 0.6429\n",
            "Epoch 10/50\n",
            "293/293 [==============================] - 24s 82ms/step - loss: 0.8843 - accuracy: 0.6715 - val_loss: 1.0006 - val_accuracy: 0.6429\n",
            "Epoch 11/50\n",
            "293/293 [==============================] - 24s 83ms/step - loss: 0.8865 - accuracy: 0.6707 - val_loss: 1.0078 - val_accuracy: 0.6429\n",
            "Epoch 12/50\n",
            "293/293 [==============================] - 24s 83ms/step - loss: 0.8893 - accuracy: 0.6703 - val_loss: 1.0028 - val_accuracy: 0.6429\n",
            "Epoch 13/50\n",
            "293/293 [==============================] - 24s 82ms/step - loss: 0.8877 - accuracy: 0.6689 - val_loss: 1.0060 - val_accuracy: 0.6429\n",
            "Epoch 14/50\n",
            "293/293 [==============================] - 24s 82ms/step - loss: 0.8860 - accuracy: 0.6742 - val_loss: 1.0071 - val_accuracy: 0.6786\n",
            "Epoch 15/50\n",
            "293/293 [==============================] - 24s 82ms/step - loss: 0.8870 - accuracy: 0.6707 - val_loss: 1.0038 - val_accuracy: 0.6429\n",
            "Epoch 16/50\n",
            "293/293 [==============================] - 24s 82ms/step - loss: 0.8852 - accuracy: 0.6709 - val_loss: 1.0170 - val_accuracy: 0.6250\n",
            "Epoch 17/50\n",
            "293/293 [==============================] - 24s 83ms/step - loss: 0.8864 - accuracy: 0.6720 - val_loss: 1.0113 - val_accuracy: 0.6607\n",
            "Epoch 18/50\n",
            "293/293 [==============================] - 24s 82ms/step - loss: 0.8875 - accuracy: 0.6701 - val_loss: 1.0063 - val_accuracy: 0.6786\n",
            "Epoch 19/50\n",
            "293/293 [==============================] - 24s 81ms/step - loss: 0.8857 - accuracy: 0.6713 - val_loss: 1.0060 - val_accuracy: 0.6607\n",
            "Epoch 20/50\n",
            "293/293 [==============================] - 24s 81ms/step - loss: 0.8840 - accuracy: 0.6715 - val_loss: 1.0047 - val_accuracy: 0.6607\n",
            "Epoch 21/50\n",
            "293/293 [==============================] - 24s 82ms/step - loss: 0.8803 - accuracy: 0.6735 - val_loss: 1.0045 - val_accuracy: 0.6607\n",
            "Epoch 22/50\n",
            "293/293 [==============================] - 24s 82ms/step - loss: 0.8791 - accuracy: 0.6736 - val_loss: 1.0105 - val_accuracy: 0.6786\n",
            "Epoch 23/50\n",
            "293/293 [==============================] - 24s 81ms/step - loss: 0.8822 - accuracy: 0.6756 - val_loss: 1.0020 - val_accuracy: 0.6964\n",
            "Epoch 24/50\n",
            "293/293 [==============================] - 24s 81ms/step - loss: 0.8825 - accuracy: 0.6740 - val_loss: 1.0082 - val_accuracy: 0.6607\n",
            "Epoch 25/50\n",
            "293/293 [==============================] - 24s 81ms/step - loss: 0.8820 - accuracy: 0.6717 - val_loss: 1.0040 - val_accuracy: 0.6607\n",
            "Epoch 26/50\n",
            "293/293 [==============================] - 24s 81ms/step - loss: 0.8799 - accuracy: 0.6730 - val_loss: 1.0119 - val_accuracy: 0.6607\n",
            "Epoch 27/50\n",
            "293/293 [==============================] - 24s 82ms/step - loss: 0.8873 - accuracy: 0.6724 - val_loss: 1.0085 - val_accuracy: 0.6607\n",
            "Epoch 28/50\n",
            "293/293 [==============================] - 24s 82ms/step - loss: 0.8829 - accuracy: 0.6728 - val_loss: 1.0011 - val_accuracy: 0.6429\n",
            "Epoch 29/50\n",
            "293/293 [==============================] - 24s 82ms/step - loss: 0.8829 - accuracy: 0.6722 - val_loss: 1.0026 - val_accuracy: 0.6429\n",
            "Epoch 30/50\n",
            "293/293 [==============================] - 24s 81ms/step - loss: 0.8798 - accuracy: 0.6749 - val_loss: 1.0061 - val_accuracy: 0.6786\n",
            "Epoch 31/50\n",
            "293/293 [==============================] - 24s 81ms/step - loss: 0.8800 - accuracy: 0.6716 - val_loss: 1.0059 - val_accuracy: 0.6607\n",
            "Epoch 32/50\n",
            "293/293 [==============================] - 24s 82ms/step - loss: 0.8865 - accuracy: 0.6678 - val_loss: 1.0162 - val_accuracy: 0.6786\n",
            "Epoch 33/50\n",
            "292/293 [============================>.] - ETA: 0s - loss: 0.8820 - accuracy: 0.6730\n",
            "Epoch 00033: ReduceLROnPlateau reducing learning rate to 7.812499825377017e-05.\n",
            "293/293 [==============================] - 24s 81ms/step - loss: 0.8816 - accuracy: 0.6732 - val_loss: 1.0073 - val_accuracy: 0.6607\n",
            "Epoch 34/50\n",
            "293/293 [==============================] - 25s 84ms/step - loss: 0.8800 - accuracy: 0.6736 - val_loss: 1.0049 - val_accuracy: 0.6607\n",
            "Epoch 35/50\n",
            "293/293 [==============================] - 25s 85ms/step - loss: 0.8826 - accuracy: 0.6720 - val_loss: 1.0089 - val_accuracy: 0.6607\n",
            "Epoch 36/50\n",
            "293/293 [==============================] - 24s 83ms/step - loss: 0.8808 - accuracy: 0.6742 - val_loss: 1.0049 - val_accuracy: 0.6429\n",
            "Epoch 37/50\n",
            "293/293 [==============================] - 24s 82ms/step - loss: 0.8840 - accuracy: 0.6713 - val_loss: 1.0025 - val_accuracy: 0.6429\n",
            "Epoch 38/50\n",
            "293/293 [==============================] - 24s 81ms/step - loss: 0.8786 - accuracy: 0.6744 - val_loss: 1.0071 - val_accuracy: 0.6607\n",
            "Epoch 39/50\n",
            "293/293 [==============================] - 24s 82ms/step - loss: 0.8805 - accuracy: 0.6745 - val_loss: 1.0074 - val_accuracy: 0.6964\n",
            "Epoch 40/50\n",
            "293/293 [==============================] - 24s 82ms/step - loss: 0.8833 - accuracy: 0.6724 - val_loss: 1.0048 - val_accuracy: 0.6607\n",
            "Epoch 41/50\n",
            "293/293 [==============================] - 24s 80ms/step - loss: 0.8816 - accuracy: 0.6712 - val_loss: 1.0050 - val_accuracy: 0.6607\n",
            "Epoch 42/50\n",
            "293/293 [==============================] - 24s 83ms/step - loss: 0.8810 - accuracy: 0.6750 - val_loss: 1.0083 - val_accuracy: 0.6964\n",
            "Epoch 43/50\n",
            "292/293 [============================>.] - ETA: 0s - loss: 0.8817 - accuracy: 0.6722\n",
            "Epoch 00043: ReduceLROnPlateau reducing learning rate to 3.9062499126885086e-05.\n",
            "293/293 [==============================] - 24s 82ms/step - loss: 0.8819 - accuracy: 0.6722 - val_loss: 1.0101 - val_accuracy: 0.6607\n",
            "Epoch 44/50\n",
            "293/293 [==============================] - 24s 83ms/step - loss: 0.8807 - accuracy: 0.6731 - val_loss: 1.0084 - val_accuracy: 0.6607\n",
            "Epoch 45/50\n",
            "293/293 [==============================] - 24s 83ms/step - loss: 0.8806 - accuracy: 0.6717 - val_loss: 1.0093 - val_accuracy: 0.6786\n",
            "Epoch 46/50\n",
            "293/293 [==============================] - 24s 83ms/step - loss: 0.8758 - accuracy: 0.6762 - val_loss: 1.0068 - val_accuracy: 0.6607\n",
            "Epoch 47/50\n",
            "293/293 [==============================] - 24s 82ms/step - loss: 0.8770 - accuracy: 0.6738 - val_loss: 1.0157 - val_accuracy: 0.6786\n",
            "Epoch 48/50\n",
            "293/293 [==============================] - 24s 82ms/step - loss: 0.8790 - accuracy: 0.6730 - val_loss: 1.0068 - val_accuracy: 0.6607\n",
            "Epoch 49/50\n",
            "293/293 [==============================] - 24s 82ms/step - loss: 0.8823 - accuracy: 0.6707 - val_loss: 1.0084 - val_accuracy: 0.6607\n",
            "Epoch 50/50\n",
            "293/293 [==============================] - 24s 82ms/step - loss: 0.8770 - accuracy: 0.6725 - val_loss: 1.0101 - val_accuracy: 0.6607\n"
          ],
          "name": "stdout"
        }
      ]
    },
    {
      "cell_type": "code",
      "metadata": {
        "id": "Sr6u8rO4zHtH",
        "colab_type": "code",
        "outputId": "4ee00ecc-ccbe-4d14-e7f6-8ed5302fbea5",
        "colab": {
          "base_uri": "https://localhost:8080/",
          "height": 591
        }
      },
      "source": [
        "# list all data in history\n",
        "print(history.history.keys())\n",
        "# summarize history for accuracy\n",
        "plt.plot(history.history['accuracy'])\n",
        "plt.plot(history.history['val_accuracy'])\n",
        "plt.title('model accuracy')\n",
        "plt.ylabel('accuracy')\n",
        "plt.xlabel('epoch')\n",
        "plt.legend(['train', 'dev'], loc='upper left')\n",
        "plt.show()\n",
        "# summarize history for loss\n",
        "plt.plot(history.history['loss'])\n",
        "plt.plot(history.history['val_loss'])\n",
        "plt.title('model loss')\n",
        "plt.ylabel('loss')\n",
        "plt.xlabel('epoch')\n",
        "plt.legend(['train', 'dev'], loc='upper left')\n",
        "plt.show()"
      ],
      "execution_count": 14,
      "outputs": [
        {
          "output_type": "stream",
          "text": [
            "dict_keys(['loss', 'accuracy', 'val_loss', 'val_accuracy', 'lr'])\n"
          ],
          "name": "stdout"
        },
        {
          "output_type": "display_data",
          "data": {
            "image/png": "[encoded data removed]",
            "text/plain": [
              "<Figure size 432x288 with 1 Axes>"
            ]
          },
          "metadata": {
            "tags": []
          }
        },
        {
          "output_type": "display_data",
          "data": {
            "image/png": "[encoded data removed]",
            "text/plain": [
              "<Figure size 432x288 with 1 Axes>"
            ]
          },
          "metadata": {
            "tags": []
          }
        }
      ]
    },
    {
      "cell_type": "code",
      "metadata": {
        "id": "6pQfysJQzHtD",
        "colab_type": "code",
        "outputId": "18f88c4a-3c4d-4704-d987-41cc9bc9e15c",
        "colab": {
          "base_uri": "https://localhost:8080/",
          "height": 54
        }
      },
      "source": [
        "results_webcam = model.evaluate(X_dev, Y_dev, batch_size=BS)\n",
        "\n",
        "lr_str = '-SGD_LR_%.5f' % SGD_LEARNING_RATE\n",
        "epoch_str = '-EPOCHS_' + str(EPOCHS)\n",
        "bs_str = '-BS_' + str(BS)\n",
        "dropout_str = '-DROPOUT_' + str(DROPOUT_RATE)\n",
        "test_acc = 'test_acc_%.3f' % results_webcam[1]\n",
        "filename = '/content/drive/My Drive/cs230 project/models/webcam' + lr_str + epoch_str + bs_str + dropout_str + test_acc + '.h5'\n",
        "print(f'Saving model to {filename}...')\n",
        "model.save(filename)"
      ],
      "execution_count": 15,
      "outputs": [
        {
          "output_type": "stream",
          "text": [
            "\r56/56 [==============================] - 0s 135us/sample - loss: 1.0101 - accuracy: 0.6607\n",
            "Saving model to /content/drive/My Drive/cs230 project/models/webcam-SGD_LR_0.01000-EPOCHS_50-BS_128-DROPOUT_0.35test_acc_0.661.h5...\n"
          ],
          "name": "stdout"
        }
      ]
    },
    {
      "cell_type": "code",
      "metadata": {
        "id": "-poD_UOVZNz_",
        "colab_type": "code",
        "colab": {}
      },
      "source": [
        ""
      ],
      "execution_count": 0,
      "outputs": []
    }
  ]
}