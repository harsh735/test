{
  "nbformat": 4,
  "nbformat_minor": 0,
  "metadata": {
    "accelerator": "GPU",
    "colab": {
      "name": "fer2013.ipynb",
      "provenance": [],
      "collapsed_sections": [],
      "machine_shape": "hm",
      "include_colab_link": true
    },
    "kernelspec": {
      "display_name": "Environment (conda_tensorflow_p36)",
      "language": "python",
      "name": "conda_tensorflow_p36"
    },
    "language_info": {
      "codemirror_mode": {
        "name": "ipython",
        "version": 3
      },
      "file_extension": ".py",
      "mimetype": "text/x-python",
      "name": "python",
      "nbconvert_exporter": "python",
      "pygments_lexer": "ipython3",
      "version": "3.6.5"
    }
  },
  "cells": [
    {
      "cell_type": "markdown",
      "metadata": {
        "id": "view-in-github",
        "colab_type": "text"
      },
      "source": [
        "<a href=\"https://colab.research.google.com/github/amilkh/cs230-fer/blob/transfer-learning/Final-ResNet50-ClassWeight.ipynb\" target=\"_parent\"><img src=\"https://colab.research.google.com/assets/colab-badge.svg\" alt=\"Open In Colab\"/></a>"
      ]
    },
    {
      "cell_type": "code",
      "metadata": {
        "colab_type": "code",
        "id": "gwdg7Sv3XBaP",
        "outputId": "9f1936ff-14c4-432a-8367-5a805680dfc7",
        "colab": {
          "base_uri": "https://localhost:8080/",
          "height": 577
        }
      },
      "source": [
        "%tensorflow_version 1.x\n",
        "!pip install keras-vggface\n",
        "!pip install scikit-image\n",
        "!pip install pydot"
      ],
      "execution_count": 1,
      "outputs": [
        {
          "output_type": "stream",
          "text": [
            "Collecting keras-vggface\n",
            "  Downloading https://files.pythonhosted.org/packages/2f/7d/5f0319ebdc09ac1a2272364fa9583f5067b6f8aff93fbbf8835d81cbaad7/keras_vggface-0.6-py3-none-any.whl\n",
            "Requirement already satisfied: numpy>=1.9.1 in /usr/local/lib/python3.6/dist-packages (from keras-vggface) (1.18.1)\n",
            "Requirement already satisfied: scipy>=0.14 in /usr/local/lib/python3.6/dist-packages (from keras-vggface) (1.4.1)\n",
            "Requirement already satisfied: pillow in /usr/local/lib/python3.6/dist-packages (from keras-vggface) (7.0.0)\n",
            "Requirement already satisfied: pyyaml in /usr/local/lib/python3.6/dist-packages (from keras-vggface) (3.13)\n",
            "Requirement already satisfied: keras in /usr/local/lib/python3.6/dist-packages (from keras-vggface) (2.2.5)\n",
            "Requirement already satisfied: h5py in /usr/local/lib/python3.6/dist-packages (from keras-vggface) (2.8.0)\n",
            "Requirement already satisfied: six>=1.9.0 in /usr/local/lib/python3.6/dist-packages (from keras-vggface) (1.12.0)\n",
            "Requirement already satisfied: keras-preprocessing>=1.1.0 in /usr/local/lib/python3.6/dist-packages (from keras->keras-vggface) (1.1.0)\n",
            "Requirement already satisfied: keras-applications>=1.0.8 in /usr/local/lib/python3.6/dist-packages (from keras->keras-vggface) (1.0.8)\n",
            "Installing collected packages: keras-vggface\n",
            "Successfully installed keras-vggface-0.6\n",
            "Requirement already satisfied: scikit-image in /usr/local/lib/python3.6/dist-packages (0.16.2)\n",
            "Requirement already satisfied: PyWavelets>=0.4.0 in /usr/local/lib/python3.6/dist-packages (from scikit-image) (1.1.1)\n",
            "Requirement already satisfied: matplotlib!=3.0.0,>=2.0.0 in /usr/local/lib/python3.6/dist-packages (from scikit-image) (3.2.0)\n",
            "Requirement already satisfied: imageio>=2.3.0 in /usr/local/lib/python3.6/dist-packages (from scikit-image) (2.4.1)\n",
            "Requirement already satisfied: networkx>=2.0 in /usr/local/lib/python3.6/dist-packages (from scikit-image) (2.4)\n",
            "Requirement already satisfied: pillow>=4.3.0 in /usr/local/lib/python3.6/dist-packages (from scikit-image) (7.0.0)\n",
            "Requirement already satisfied: scipy>=0.19.0 in /usr/local/lib/python3.6/dist-packages (from scikit-image) (1.4.1)\n",
            "Requirement already satisfied: numpy>=1.13.3 in /usr/local/lib/python3.6/dist-packages (from PyWavelets>=0.4.0->scikit-image) (1.18.1)\n",
            "Requirement already satisfied: kiwisolver>=1.0.1 in /usr/local/lib/python3.6/dist-packages (from matplotlib!=3.0.0,>=2.0.0->scikit-image) (1.1.0)\n",
            "Requirement already satisfied: pyparsing!=2.0.4,!=2.1.2,!=2.1.6,>=2.0.1 in /usr/local/lib/python3.6/dist-packages (from matplotlib!=3.0.0,>=2.0.0->scikit-image) (2.4.6)\n",
            "Requirement already satisfied: python-dateutil>=2.1 in /usr/local/lib/python3.6/dist-packages (from matplotlib!=3.0.0,>=2.0.0->scikit-image) (2.8.1)\n",
            "Requirement already satisfied: cycler>=0.10 in /usr/local/lib/python3.6/dist-packages (from matplotlib!=3.0.0,>=2.0.0->scikit-image) (0.10.0)\n",
            "Requirement already satisfied: decorator>=4.3.0 in /usr/local/lib/python3.6/dist-packages (from networkx>=2.0->scikit-image) (4.4.2)\n",
            "Requirement already satisfied: setuptools in /usr/local/lib/python3.6/dist-packages (from kiwisolver>=1.0.1->matplotlib!=3.0.0,>=2.0.0->scikit-image) (45.2.0)\n",
            "Requirement already satisfied: six>=1.5 in /usr/local/lib/python3.6/dist-packages (from python-dateutil>=2.1->matplotlib!=3.0.0,>=2.0.0->scikit-image) (1.12.0)\n",
            "Requirement already satisfied: pydot in /usr/local/lib/python3.6/dist-packages (1.3.0)\n",
            "Requirement already satisfied: pyparsing>=2.1.4 in /usr/local/lib/python3.6/dist-packages (from pydot) (2.4.6)\n"
          ],
          "name": "stdout"
        }
      ]
    },
    {
      "cell_type": "code",
      "metadata": {
        "colab_type": "code",
        "id": "2nz38mJZXN_P",
        "outputId": "b01e85af-835b-443c-b816-bd927cbd6b0c",
        "colab": {
          "base_uri": "https://localhost:8080/",
          "height": 35
        }
      },
      "source": [
        "import matplotlib.pyplot as plt\n",
        "import pandas as pd\n",
        "import numpy as np\n",
        "\n",
        "import tensorflow as tf\n",
        "from tensorflow.keras.layers import *\n",
        "from tensorflow.python.lib.io import file_io\n",
        "\n",
        "%matplotlib inline\n",
        "\n",
        "import keras\n",
        "from keras import backend as K\n",
        "from keras.callbacks import ModelCheckpoint, EarlyStopping\n",
        "from keras.models import load_model\n",
        "from keras.preprocessing.image import ImageDataGenerator\n",
        "from keras_vggface.vggface import VGGFace\n",
        "from keras.utils import plot_model\n",
        "from sklearn.metrics import *\n",
        "from keras.engine import Model\n",
        "from keras.layers import Input, Flatten, Dense, Activation, Conv2D, MaxPool2D, BatchNormalization, Dropout, MaxPooling2D\n",
        "import skimage\n",
        "from skimage.transform import rescale, resize\n",
        "\n",
        "import pydot"
      ],
      "execution_count": 2,
      "outputs": [
        {
          "output_type": "stream",
          "text": [
            "Using TensorFlow backend.\n"
          ],
          "name": "stderr"
        }
      ]
    },
    {
      "cell_type": "code",
      "metadata": {
        "id": "1fZczU8lGkX-",
        "colab_type": "code",
        "outputId": "f94e48b4-da9b-496a-99fd-63824441666b",
        "colab": {
          "base_uri": "https://localhost:8080/",
          "height": 127
        }
      },
      "source": [
        "from google.colab import drive\n",
        "drive.mount('/content/drive')"
      ],
      "execution_count": 3,
      "outputs": [
        {
          "output_type": "stream",
          "text": [
            "Go to this URL in a browser: https://accounts.google.com/o/oauth2/auth?client_id=947318989803-6bn6qk8qdgf4n4g3pfee6491hc0brc4i.apps.googleusercontent.com&redirect_uri=urn%3aietf%3awg%3aoauth%3a2.0%3aoob&response_type=code&scope=email%20https%3a%2f%2fwww.googleapis.com%2fauth%2fdocs.test%20https%3a%2f%2fwww.googleapis.com%2fauth%2fdrive%20https%3a%2f%2fwww.googleapis.com%2fauth%2fdrive.photos.readonly%20https%3a%2f%2fwww.googleapis.com%2fauth%2fpeopleapi.readonly\n",
            "\n",
            "Enter your authorization code:\n",
            "··········\n",
            "Mounted at /content/drive\n"
          ],
          "name": "stdout"
        }
      ]
    },
    {
      "cell_type": "code",
      "metadata": {
        "colab_type": "code",
        "id": "nUcd6yIGduUW",
        "outputId": "5f033a78-1742-43fb-8ee4-fe02be46fc95",
        "colab": {
          "base_uri": "https://localhost:8080/",
          "height": 53
        }
      },
      "source": [
        "print(tf.__version__)\n",
        "print(keras.__version__)"
      ],
      "execution_count": 4,
      "outputs": [
        {
          "output_type": "stream",
          "text": [
            "1.15.0\n",
            "2.2.5\n"
          ],
          "name": "stdout"
        }
      ]
    },
    {
      "cell_type": "code",
      "metadata": {
        "id": "v60q28mDHnN9",
        "colab_type": "code",
        "colab": {}
      },
      "source": [
        "EPOCHS = 50\n",
        "BS = 128\n",
        "DROPOUT_RATE = 0.5\n",
        "FROZEN_LAYER_NUM = 170\n",
        "\n",
        "ADAM_LEARNING_RATE = 0.001\n",
        "SGD_LEARNING_RATE = 0.01\n",
        "SGD_DECAY = 0.0001\n",
        "\n",
        "Resize_pixelsize = 197"
      ],
      "execution_count": 0,
      "outputs": []
    },
    {
      "cell_type": "code",
      "metadata": {
        "id": "itKZtFV0F7b1",
        "colab_type": "code",
        "outputId": "adc17a95-2f3e-4b71-a336-abb760b59f94",
        "colab": {
          "base_uri": "https://localhost:8080/",
          "height": 667
        }
      },
      "source": [
        "vgg_notop = VGGFace(model='resnet50', include_top=False, input_shape=(Resize_pixelsize, Resize_pixelsize, 3), pooling='avg')\n",
        "last_layer = vgg_notop.get_layer('avg_pool').output\n",
        "x = Flatten(name='flatten')(last_layer)\n",
        "x = Dropout(DROPOUT_RATE)(x)\n",
        "x = Dense(4096, activation='relu', name='fc6')(x)\n",
        "x = Dropout(DROPOUT_RATE)(x)\n",
        "x = Dense(1024, activation='relu', name='fc7')(x)\n",
        "x = Dropout(DROPOUT_RATE)(x)\n",
        "# l=0\n",
        "# for layer in vgg_notop.layers:\n",
        "#     print(layer,\"[\"+str(l)+\"]\")\n",
        "#     l=l+1\n",
        "    \n",
        "batch_norm_indices = [2, 6, 9, 13, 14, 18, 21, 24, 28, 31, 34, 38, 41, 45, 46, 53, 56, 60, 63, 66, 70, 73, 76, 80, 83, 87, 88, 92, 95, 98, 102, 105, 108, 112, 115, 118, 122, 125, 128, 132, 135, 138, 142, 145, 149, 150, 154, 157, 160, 164, 167, 170]\n",
        "for i in range(FROZEN_LAYER_NUM):\n",
        "    if i not in batch_norm_indices:\n",
        "        vgg_notop.layers[i].trainable = False\n",
        "# print('vgg layer 2 is trainable: ' + str(vgg_notop.layers[2].trainable))\n",
        "# print('vgg layer 3 is trainable: ' + str(vgg_notop.layers[3].trainable))\n",
        "\n",
        "out = Dense(7, activation='softmax', name='classifier')(x)\n",
        "\n",
        "model = Model(vgg_notop.input, out)\n",
        "\n",
        "\n",
        "optim = keras.optimizers.Adam(lr=ADAM_LEARNING_RATE, beta_1=0.9, beta_2=0.999, epsilon=1e-08, decay=0.0)\n",
        "#optim = keras.optimizers.Adam(lr=0.0005, beta_1=0.9, beta_2=0.999, epsilon=1e-08, decay=0.0)\n",
        "sgd = keras.optimizers.SGD(lr=SGD_LEARNING_RATE, momentum=0.9, decay=SGD_DECAY, nesterov=True)\n",
        "rlrop = keras.callbacks.ReduceLROnPlateau(monitor='val_acc',mode='max',factor=0.5, patience=10, min_lr=0.00001, verbose=1)\n",
        "\n",
        "model.compile(optimizer=sgd, loss='categorical_crossentropy', metrics=['accuracy'])\n",
        "# plot_model(model, to_file='model2.png', show_shapes=True)"
      ],
      "execution_count": 6,
      "outputs": [
        {
          "output_type": "stream",
          "text": [
            "WARNING:tensorflow:From /usr/local/lib/python3.6/dist-packages/keras/backend/tensorflow_backend.py:66: The name tf.get_default_graph is deprecated. Please use tf.compat.v1.get_default_graph instead.\n",
            "\n",
            "WARNING:tensorflow:From /usr/local/lib/python3.6/dist-packages/keras/backend/tensorflow_backend.py:541: The name tf.placeholder is deprecated. Please use tf.compat.v1.placeholder instead.\n",
            "\n",
            "WARNING:tensorflow:From /usr/local/lib/python3.6/dist-packages/keras/backend/tensorflow_backend.py:4432: The name tf.random_uniform is deprecated. Please use tf.random.uniform instead.\n",
            "\n",
            "WARNING:tensorflow:From /usr/local/lib/python3.6/dist-packages/keras/backend/tensorflow_backend.py:190: The name tf.get_default_session is deprecated. Please use tf.compat.v1.get_default_session instead.\n",
            "\n",
            "WARNING:tensorflow:From /usr/local/lib/python3.6/dist-packages/keras/backend/tensorflow_backend.py:197: The name tf.ConfigProto is deprecated. Please use tf.compat.v1.ConfigProto instead.\n",
            "\n",
            "WARNING:tensorflow:From /usr/local/lib/python3.6/dist-packages/keras/backend/tensorflow_backend.py:203: The name tf.Session is deprecated. Please use tf.compat.v1.Session instead.\n",
            "\n",
            "WARNING:tensorflow:From /usr/local/lib/python3.6/dist-packages/keras/backend/tensorflow_backend.py:207: The name tf.global_variables is deprecated. Please use tf.compat.v1.global_variables instead.\n",
            "\n",
            "WARNING:tensorflow:From /usr/local/lib/python3.6/dist-packages/keras/backend/tensorflow_backend.py:216: The name tf.is_variable_initialized is deprecated. Please use tf.compat.v1.is_variable_initialized instead.\n",
            "\n",
            "WARNING:tensorflow:From /usr/local/lib/python3.6/dist-packages/keras/backend/tensorflow_backend.py:223: The name tf.variables_initializer is deprecated. Please use tf.compat.v1.variables_initializer instead.\n",
            "\n",
            "WARNING:tensorflow:From /usr/local/lib/python3.6/dist-packages/keras/backend/tensorflow_backend.py:2041: The name tf.nn.fused_batch_norm is deprecated. Please use tf.compat.v1.nn.fused_batch_norm instead.\n",
            "\n",
            "WARNING:tensorflow:From /usr/local/lib/python3.6/dist-packages/keras/backend/tensorflow_backend.py:148: The name tf.placeholder_with_default is deprecated. Please use tf.compat.v1.placeholder_with_default instead.\n",
            "\n",
            "WARNING:tensorflow:From /usr/local/lib/python3.6/dist-packages/keras/backend/tensorflow_backend.py:4267: The name tf.nn.max_pool is deprecated. Please use tf.nn.max_pool2d instead.\n",
            "\n",
            "WARNING:tensorflow:From /usr/local/lib/python3.6/dist-packages/keras/backend/tensorflow_backend.py:4271: The name tf.nn.avg_pool is deprecated. Please use tf.nn.avg_pool2d instead.\n",
            "\n",
            "Downloading data from https://github.com/rcmalli/keras-vggface/releases/download/v2.0/rcmalli_vggface_tf_notop_resnet50.h5\n",
            "94699520/94694792 [==============================] - 1s 0us/step\n",
            "WARNING:tensorflow:From /usr/local/lib/python3.6/dist-packages/keras/backend/tensorflow_backend.py:3733: calling dropout (from tensorflow.python.ops.nn_ops) with keep_prob is deprecated and will be removed in a future version.\n",
            "Instructions for updating:\n",
            "Please use `rate` instead of `keep_prob`. Rate should be set to `rate = 1 - keep_prob`.\n",
            "WARNING:tensorflow:From /usr/local/lib/python3.6/dist-packages/keras/optimizers.py:793: The name tf.train.Optimizer is deprecated. Please use tf.compat.v1.train.Optimizer instead.\n",
            "\n",
            "WARNING:tensorflow:From /usr/local/lib/python3.6/dist-packages/keras/backend/tensorflow_backend.py:3576: The name tf.log is deprecated. Please use tf.math.log instead.\n",
            "\n"
          ],
          "name": "stdout"
        }
      ]
    },
    {
      "cell_type": "code",
      "metadata": {
        "id": "v0mXUNZB-yI5",
        "colab_type": "code",
        "colab": {}
      },
      "source": [
        "! rm -rf train; mkdir train\n",
        "! unzip -q '/content/drive/My Drive/cs230 project/dataset/emotion.zip' -d train\n",
        "! unzip -q '/content/drive/My Drive/cs230 project/dataset/facesdb.zip' -d train\n",
        "! unzip -q '/content/drive/My Drive/cs230 project/dataset/fer2013/train.zip' -d train\n",
        "! unzip -q '/content/drive/My Drive/cs230 project/dataset/googlesearch.zip' -d train\n",
        "! unzip -q '/content/drive/My Drive/cs230 project/dataset/googleset.zip' -d train\n",
        "! unzip -q '/content/drive/My Drive/cs230 project/dataset/jaffe.zip' -d train\n",
        "! unzip -q '/content/drive/My Drive/cs230 project/dataset/umea.zip' -d train"
      ],
      "execution_count": 0,
      "outputs": []
    },
    {
      "cell_type": "code",
      "metadata": {
        "id": "TUuN9SLX_Qvl",
        "colab_type": "code",
        "colab": {}
      },
      "source": [
        "! rm -rf dev; mkdir dev\n",
        "! unzip -q '/content/drive/My Drive/cs230 project/dataset/fer2013/test-public.zip' -d dev\n",
        "! rm -rf test; mkdir test\n",
        "! unzip -q '/content/drive/My Drive/cs230 project/dataset/fer2013/test-private.zip' -d test"
      ],
      "execution_count": 0,
      "outputs": []
    },
    {
      "cell_type": "code",
      "metadata": {
        "id": "560jefnZ_Cyq",
        "colab_type": "code",
        "colab": {}
      },
      "source": [
        "from tensorflow.keras.preprocessing.image import ImageDataGenerator\n",
        "\n",
        "def get_datagen(dataset, aug=False):\n",
        "    if aug:\n",
        "        datagen = ImageDataGenerator(\n",
        "                            rescale=1./255,\n",
        "                            featurewise_center=False,\n",
        "                            featurewise_std_normalization=False,\n",
        "                            rotation_range=10,\n",
        "                            width_shift_range=0.1,\n",
        "                            height_shift_range=0.1,\n",
        "                            zoom_range=0.1,\n",
        "                            horizontal_flip=True)\n",
        "    else:\n",
        "        datagen = ImageDataGenerator(rescale=1./255)\n",
        "\n",
        "    return datagen.flow_from_directory(\n",
        "            dataset,\n",
        "            target_size=(197, 197),\n",
        "            color_mode='rgb',\n",
        "            shuffle = True,\n",
        "            class_mode='categorical',\n",
        "            batch_size=BS)"
      ],
      "execution_count": 0,
      "outputs": []
    },
    {
      "cell_type": "code",
      "metadata": {
        "id": "4aQAGQP5_Gpl",
        "colab_type": "code",
        "outputId": "8d623eb1-0494-4015-8648-94ba3e6d0546",
        "colab": {
          "base_uri": "https://localhost:8080/",
          "height": 127
        }
      },
      "source": [
        "train_generator  = get_datagen('/content/train', True)\n",
        "dev_generator    = get_datagen('/content/dev')\n",
        "test_generator  = get_datagen('/content/test')\n"
      ],
      "execution_count": 10,
      "outputs": [
        {
          "output_type": "stream",
          "text": [
            "/usr/local/lib/python3.6/dist-packages/keras_preprocessing/image/utils.py:173: UserWarning: Using \".tiff\" files with multiple bands will cause distortion. Please verify your output.\n",
            "  warnings.warn('Using \".tiff\" files with multiple bands '\n"
          ],
          "name": "stderr"
        },
        {
          "output_type": "stream",
          "text": [
            "Found 30452 images belonging to 7 classes.\n",
            "Found 3589 images belonging to 7 classes.\n",
            "Found 3589 images belonging to 7 classes.\n"
          ],
          "name": "stdout"
        }
      ]
    },
    {
      "cell_type": "code",
      "metadata": {
        "id": "GyHmZ5GRBdRl",
        "colab_type": "code",
        "colab": {}
      },
      "source": [
        "from sklearn.utils import class_weight\n",
        "file_stream = file_io.FileIO('/content/drive/My Drive/cs230 project/collab/fer2013/dev.csv', mode='r')\n",
        "data = pd.read_csv(file_stream)\n",
        "data[' pixels'] = data[' pixels'].apply(lambda x: [int(pixel) for pixel in x.split()])\n",
        "X, Y = data[' pixels'].tolist(), data['emotion'].values\n",
        "class_weights = class_weight.compute_class_weight('balanced',\n",
        "                                                    np.unique(Y),\n",
        "                                                    Y)\n"
      ],
      "execution_count": 0,
      "outputs": []
    },
    {
      "cell_type": "code",
      "metadata": {
        "colab_type": "code",
        "id": "pLISdlaStbUn",
        "outputId": "5d0ba7d9-de13-41c8-ac76-841892d3ddec",
        "colab": {
          "base_uri": "https://localhost:8080/",
          "height": 1000
        }
      },
      "source": [
        "history = model.fit_generator(\n",
        "    generator = train_generator,\n",
        "    validation_data=dev_generator, \n",
        "    steps_per_epoch=28709// BS,\n",
        "    validation_steps=3509 // BS,\n",
        "    shuffle=True,\n",
        "    epochs=100,\n",
        "    callbacks=[rlrop],\n",
        "    use_multiprocessing=True,\n",
        "    class_weight=class_weights\n",
        ") "
      ],
      "execution_count": 12,
      "outputs": [
        {
          "output_type": "stream",
          "text": [
            "WARNING:tensorflow:From /tensorflow-1.15.0/python3.6/tensorflow_core/python/ops/math_grad.py:1424: where (from tensorflow.python.ops.array_ops) is deprecated and will be removed in a future version.\n",
            "Instructions for updating:\n",
            "Use tf.where in 2.0, which has the same broadcast rule as np.where\n",
            "WARNING:tensorflow:From /usr/local/lib/python3.6/dist-packages/keras/backend/tensorflow_backend.py:1033: The name tf.assign_add is deprecated. Please use tf.compat.v1.assign_add instead.\n",
            "\n",
            "WARNING:tensorflow:From /usr/local/lib/python3.6/dist-packages/keras/backend/tensorflow_backend.py:1020: The name tf.assign is deprecated. Please use tf.compat.v1.assign instead.\n",
            "\n",
            "Epoch 1/100\n",
            "224/224 [==============================] - 289s 1s/step - loss: 1.9871 - acc: 0.3442 - val_loss: 1.3152 - val_acc: 0.5000\n",
            "Epoch 2/100\n",
            "224/224 [==============================] - 281s 1s/step - loss: 1.3912 - acc: 0.4737 - val_loss: 1.1570 - val_acc: 0.5734\n",
            "Epoch 3/100\n",
            "224/224 [==============================] - 280s 1s/step - loss: 1.2821 - acc: 0.5175 - val_loss: 1.1171 - val_acc: 0.5929\n",
            "Epoch 4/100\n",
            "224/224 [==============================] - 282s 1s/step - loss: 1.2177 - acc: 0.5430 - val_loss: 1.0938 - val_acc: 0.5875\n",
            "Epoch 5/100\n",
            "224/224 [==============================] - 282s 1s/step - loss: 1.1654 - acc: 0.5644 - val_loss: 1.0511 - val_acc: 0.6157\n",
            "Epoch 6/100\n",
            "224/224 [==============================] - 282s 1s/step - loss: 1.1429 - acc: 0.5725 - val_loss: 1.0393 - val_acc: 0.6109\n",
            "Epoch 7/100\n",
            "224/224 [==============================] - 282s 1s/step - loss: 1.1071 - acc: 0.5876 - val_loss: 0.9923 - val_acc: 0.6436\n",
            "Epoch 8/100\n",
            "224/224 [==============================] - 280s 1s/step - loss: 1.0827 - acc: 0.5932 - val_loss: 1.0189 - val_acc: 0.6133\n",
            "Epoch 9/100\n",
            "224/224 [==============================] - 279s 1s/step - loss: 1.0675 - acc: 0.6012 - val_loss: 1.0019 - val_acc: 0.6307\n",
            "Epoch 10/100\n",
            "224/224 [==============================] - 278s 1s/step - loss: 1.0491 - acc: 0.6073 - val_loss: 0.9926 - val_acc: 0.6280\n",
            "Epoch 11/100\n",
            "224/224 [==============================] - 279s 1s/step - loss: 1.0260 - acc: 0.6191 - val_loss: 0.9909 - val_acc: 0.6415\n",
            "Epoch 12/100\n",
            "224/224 [==============================] - 278s 1s/step - loss: 1.0007 - acc: 0.6255 - val_loss: 0.9617 - val_acc: 0.6454\n",
            "Epoch 13/100\n",
            "224/224 [==============================] - 280s 1s/step - loss: 1.0014 - acc: 0.6217 - val_loss: 0.9729 - val_acc: 0.6430\n",
            "Epoch 14/100\n",
            "224/224 [==============================] - 282s 1s/step - loss: 0.9813 - acc: 0.6301 - val_loss: 0.9580 - val_acc: 0.6565\n",
            "Epoch 15/100\n",
            "224/224 [==============================] - 280s 1s/step - loss: 0.9704 - acc: 0.6370 - val_loss: 0.9397 - val_acc: 0.6568\n",
            "Epoch 16/100\n",
            "224/224 [==============================] - 282s 1s/step - loss: 0.9533 - acc: 0.6405 - val_loss: 0.9551 - val_acc: 0.6529\n",
            "Epoch 17/100\n",
            "224/224 [==============================] - 281s 1s/step - loss: 0.9444 - acc: 0.6457 - val_loss: 0.9366 - val_acc: 0.6649\n",
            "Epoch 18/100\n",
            "224/224 [==============================] - 280s 1s/step - loss: 0.9392 - acc: 0.6470 - val_loss: 0.9596 - val_acc: 0.6613\n",
            "Epoch 19/100\n",
            "224/224 [==============================] - 281s 1s/step - loss: 0.9202 - acc: 0.6538 - val_loss: 0.9261 - val_acc: 0.6718\n",
            "Epoch 20/100\n",
            "224/224 [==============================] - 280s 1s/step - loss: 0.9140 - acc: 0.6563 - val_loss: 0.9377 - val_acc: 0.6739\n",
            "Epoch 21/100\n",
            "224/224 [==============================] - 277s 1s/step - loss: 0.9005 - acc: 0.6605 - val_loss: 0.9302 - val_acc: 0.6724\n",
            "Epoch 22/100\n",
            "224/224 [==============================] - 278s 1s/step - loss: 0.8908 - acc: 0.6669 - val_loss: 0.9090 - val_acc: 0.6817\n",
            "Epoch 23/100\n",
            "224/224 [==============================] - 277s 1s/step - loss: 0.8845 - acc: 0.6653 - val_loss: 0.9169 - val_acc: 0.6862\n",
            "Epoch 24/100\n",
            "224/224 [==============================] - 280s 1s/step - loss: 0.8817 - acc: 0.6684 - val_loss: 0.9086 - val_acc: 0.6751\n",
            "Epoch 25/100\n",
            "224/224 [==============================] - 279s 1s/step - loss: 0.8605 - acc: 0.6774 - val_loss: 0.9265 - val_acc: 0.6676\n",
            "Epoch 26/100\n",
            "224/224 [==============================] - 279s 1s/step - loss: 0.8529 - acc: 0.6745 - val_loss: 0.8938 - val_acc: 0.6793\n",
            "Epoch 27/100\n",
            "224/224 [==============================] - 280s 1s/step - loss: 0.8593 - acc: 0.6747 - val_loss: 0.9198 - val_acc: 0.6844\n",
            "Epoch 28/100\n",
            "224/224 [==============================] - 280s 1s/step - loss: 0.8387 - acc: 0.6862 - val_loss: 0.8847 - val_acc: 0.6832\n",
            "Epoch 29/100\n",
            "224/224 [==============================] - 281s 1s/step - loss: 0.8432 - acc: 0.6801 - val_loss: 0.8986 - val_acc: 0.6838\n",
            "Epoch 30/100\n",
            "224/224 [==============================] - 280s 1s/step - loss: 0.8255 - acc: 0.6892 - val_loss: 0.8989 - val_acc: 0.6887\n",
            "Epoch 31/100\n",
            "224/224 [==============================] - 280s 1s/step - loss: 0.8197 - acc: 0.6911 - val_loss: 0.8900 - val_acc: 0.6889\n",
            "Epoch 32/100\n",
            "224/224 [==============================] - 280s 1s/step - loss: 0.8105 - acc: 0.6934 - val_loss: 0.8953 - val_acc: 0.6847\n",
            "Epoch 33/100\n",
            "224/224 [==============================] - 280s 1s/step - loss: 0.8032 - acc: 0.6941 - val_loss: 0.8849 - val_acc: 0.6910\n",
            "Epoch 34/100\n",
            "224/224 [==============================] - 282s 1s/step - loss: 0.7928 - acc: 0.6987 - val_loss: 0.8827 - val_acc: 0.6928\n",
            "Epoch 35/100\n",
            "224/224 [==============================] - 278s 1s/step - loss: 0.7902 - acc: 0.7005 - val_loss: 0.8751 - val_acc: 0.6946\n",
            "Epoch 36/100\n",
            "224/224 [==============================] - 279s 1s/step - loss: 0.7901 - acc: 0.7018 - val_loss: 0.8858 - val_acc: 0.6880\n",
            "Epoch 37/100\n",
            "224/224 [==============================] - 279s 1s/step - loss: 0.7774 - acc: 0.7038 - val_loss: 0.8921 - val_acc: 0.6808\n",
            "Epoch 38/100\n",
            "224/224 [==============================] - 281s 1s/step - loss: 0.7641 - acc: 0.7132 - val_loss: 0.8814 - val_acc: 0.6826\n",
            "Epoch 39/100\n",
            "224/224 [==============================] - 280s 1s/step - loss: 0.7625 - acc: 0.7115 - val_loss: 0.8738 - val_acc: 0.6916\n",
            "Epoch 40/100\n",
            "224/224 [==============================] - 280s 1s/step - loss: 0.7493 - acc: 0.7169 - val_loss: 0.8792 - val_acc: 0.6907\n",
            "Epoch 41/100\n",
            "224/224 [==============================] - 282s 1s/step - loss: 0.7542 - acc: 0.7146 - val_loss: 0.8715 - val_acc: 0.6895\n",
            "Epoch 42/100\n",
            "224/224 [==============================] - 282s 1s/step - loss: 0.7382 - acc: 0.7205 - val_loss: 0.8793 - val_acc: 0.6895\n",
            "Epoch 43/100\n",
            "224/224 [==============================] - 281s 1s/step - loss: 0.7424 - acc: 0.7191 - val_loss: 0.8676 - val_acc: 0.7036\n",
            "Epoch 44/100\n",
            "224/224 [==============================] - 278s 1s/step - loss: 0.7319 - acc: 0.7229 - val_loss: 0.8709 - val_acc: 0.6942\n",
            "Epoch 45/100\n",
            "224/224 [==============================] - 276s 1s/step - loss: 0.7245 - acc: 0.7262 - val_loss: 0.8689 - val_acc: 0.6943\n",
            "Epoch 46/100\n",
            "224/224 [==============================] - 275s 1s/step - loss: 0.7240 - acc: 0.7252 - val_loss: 0.8644 - val_acc: 0.7000\n",
            "Epoch 47/100\n",
            "224/224 [==============================] - 276s 1s/step - loss: 0.7104 - acc: 0.7337 - val_loss: 0.8557 - val_acc: 0.6976\n",
            "Epoch 48/100\n",
            "224/224 [==============================] - 279s 1s/step - loss: 0.7067 - acc: 0.7322 - val_loss: 0.8853 - val_acc: 0.6976\n",
            "Epoch 49/100\n",
            "224/224 [==============================] - 281s 1s/step - loss: 0.6943 - acc: 0.7370 - val_loss: 0.8441 - val_acc: 0.7063\n",
            "Epoch 50/100\n",
            "224/224 [==============================] - 281s 1s/step - loss: 0.6936 - acc: 0.7368 - val_loss: 0.8653 - val_acc: 0.7006\n",
            "Epoch 51/100\n",
            "224/224 [==============================] - 280s 1s/step - loss: 0.6930 - acc: 0.7376 - val_loss: 0.8680 - val_acc: 0.7090\n",
            "Epoch 52/100\n",
            "224/224 [==============================] - 281s 1s/step - loss: 0.6847 - acc: 0.7381 - val_loss: 0.8647 - val_acc: 0.6991\n",
            "Epoch 53/100\n",
            "224/224 [==============================] - 278s 1s/step - loss: 0.6808 - acc: 0.7435 - val_loss: 0.8496 - val_acc: 0.7066\n",
            "Epoch 54/100\n",
            "224/224 [==============================] - 279s 1s/step - loss: 0.6716 - acc: 0.7427 - val_loss: 0.8678 - val_acc: 0.6994\n",
            "Epoch 55/100\n",
            "224/224 [==============================] - 280s 1s/step - loss: 0.6662 - acc: 0.7490 - val_loss: 0.8553 - val_acc: 0.7009\n",
            "Epoch 56/100\n",
            "224/224 [==============================] - 283s 1s/step - loss: 0.6586 - acc: 0.7496 - val_loss: 0.8380 - val_acc: 0.7039\n",
            "Epoch 57/100\n",
            "224/224 [==============================] - 283s 1s/step - loss: 0.6539 - acc: 0.7509 - val_loss: 0.8564 - val_acc: 0.7018\n",
            "Epoch 58/100\n",
            "224/224 [==============================] - 279s 1s/step - loss: 0.6576 - acc: 0.7508 - val_loss: 0.8529 - val_acc: 0.7072\n",
            "Epoch 59/100\n",
            "224/224 [==============================] - 278s 1s/step - loss: 0.6383 - acc: 0.7571 - val_loss: 0.8484 - val_acc: 0.7127\n",
            "Epoch 60/100\n",
            "224/224 [==============================] - 277s 1s/step - loss: 0.6292 - acc: 0.7600 - val_loss: 0.8534 - val_acc: 0.7081\n",
            "Epoch 61/100\n",
            "224/224 [==============================] - 273s 1s/step - loss: 0.6438 - acc: 0.7561 - val_loss: 0.8454 - val_acc: 0.7063\n",
            "Epoch 62/100\n",
            "224/224 [==============================] - 275s 1s/step - loss: 0.6392 - acc: 0.7585 - val_loss: 0.8728 - val_acc: 0.6943\n",
            "Epoch 63/100\n",
            "224/224 [==============================] - 279s 1s/step - loss: 0.6244 - acc: 0.7632 - val_loss: 0.8215 - val_acc: 0.7204\n",
            "Epoch 64/100\n",
            "224/224 [==============================] - 279s 1s/step - loss: 0.6263 - acc: 0.7648 - val_loss: 0.8899 - val_acc: 0.7051\n",
            "Epoch 65/100\n",
            "224/224 [==============================] - 279s 1s/step - loss: 0.6196 - acc: 0.7670 - val_loss: 0.8310 - val_acc: 0.7048\n",
            "Epoch 66/100\n",
            "224/224 [==============================] - 279s 1s/step - loss: 0.6072 - acc: 0.7734 - val_loss: 0.8543 - val_acc: 0.7090\n",
            "Epoch 67/100\n",
            "224/224 [==============================] - 279s 1s/step - loss: 0.6139 - acc: 0.7677 - val_loss: 0.8788 - val_acc: 0.6955\n",
            "Epoch 68/100\n",
            "224/224 [==============================] - 279s 1s/step - loss: 0.5923 - acc: 0.7755 - val_loss: 0.8408 - val_acc: 0.7117\n",
            "Epoch 69/100\n",
            "224/224 [==============================] - 279s 1s/step - loss: 0.6023 - acc: 0.7716 - val_loss: 0.8529 - val_acc: 0.7012\n",
            "Epoch 70/100\n",
            "224/224 [==============================] - 281s 1s/step - loss: 0.5842 - acc: 0.7804 - val_loss: 0.8348 - val_acc: 0.7054\n",
            "Epoch 71/100\n",
            "224/224 [==============================] - 282s 1s/step - loss: 0.5946 - acc: 0.7756 - val_loss: 0.8629 - val_acc: 0.7042\n",
            "Epoch 72/100\n",
            "224/224 [==============================] - 281s 1s/step - loss: 0.5764 - acc: 0.7806 - val_loss: 0.8474 - val_acc: 0.7084\n",
            "Epoch 73/100\n",
            "224/224 [==============================] - 276s 1s/step - loss: 0.5859 - acc: 0.7784 - val_loss: 0.8499 - val_acc: 0.7057\n",
            "\n",
            "Epoch 00073: ReduceLROnPlateau reducing learning rate to 0.004999999888241291.\n",
            "Epoch 74/100\n",
            "224/224 [==============================] - 275s 1s/step - loss: 0.5619 - acc: 0.7884 - val_loss: 0.8465 - val_acc: 0.7066\n",
            "Epoch 75/100\n",
            "224/224 [==============================] - 276s 1s/step - loss: 0.5654 - acc: 0.7883 - val_loss: 0.8553 - val_acc: 0.7030\n",
            "Epoch 76/100\n",
            "224/224 [==============================] - 282s 1s/step - loss: 0.5579 - acc: 0.7924 - val_loss: 0.8409 - val_acc: 0.7036\n",
            "Epoch 77/100\n",
            "224/224 [==============================] - 284s 1s/step - loss: 0.5482 - acc: 0.7951 - val_loss: 0.8601 - val_acc: 0.7012\n",
            "Epoch 78/100\n",
            "224/224 [==============================] - 284s 1s/step - loss: 0.5559 - acc: 0.7910 - val_loss: 0.8469 - val_acc: 0.7009\n",
            "Epoch 79/100\n",
            "224/224 [==============================] - 280s 1s/step - loss: 0.5520 - acc: 0.7901 - val_loss: 0.8387 - val_acc: 0.7093\n",
            "Epoch 80/100\n",
            "224/224 [==============================] - 273s 1s/step - loss: 0.5512 - acc: 0.7923 - val_loss: 0.8400 - val_acc: 0.7075\n",
            "Epoch 81/100\n",
            "224/224 [==============================] - 272s 1s/step - loss: 0.5401 - acc: 0.7959 - val_loss: 0.8532 - val_acc: 0.7018\n",
            "Epoch 82/100\n",
            "224/224 [==============================] - 273s 1s/step - loss: 0.5450 - acc: 0.7946 - val_loss: 0.8416 - val_acc: 0.7081\n",
            "Epoch 83/100\n",
            "224/224 [==============================] - 272s 1s/step - loss: 0.5424 - acc: 0.7945 - val_loss: 0.8654 - val_acc: 0.6994\n",
            "\n",
            "Epoch 00083: ReduceLROnPlateau reducing learning rate to 0.0024999999441206455.\n",
            "Epoch 84/100\n",
            "224/224 [==============================] - 278s 1s/step - loss: 0.5365 - acc: 0.7988 - val_loss: 0.8292 - val_acc: 0.7102\n",
            "Epoch 85/100\n",
            "224/224 [==============================] - 277s 1s/step - loss: 0.5261 - acc: 0.8018 - val_loss: 0.8516 - val_acc: 0.7012\n",
            "Epoch 86/100\n",
            "224/224 [==============================] - 276s 1s/step - loss: 0.5281 - acc: 0.8004 - val_loss: 0.8403 - val_acc: 0.7048\n",
            "Epoch 87/100\n",
            "224/224 [==============================] - 275s 1s/step - loss: 0.5229 - acc: 0.8020 - val_loss: 0.8504 - val_acc: 0.7072\n",
            "Epoch 88/100\n",
            "224/224 [==============================] - 278s 1s/step - loss: 0.5286 - acc: 0.8023 - val_loss: 0.8519 - val_acc: 0.7052\n",
            "Epoch 89/100\n",
            "224/224 [==============================] - 278s 1s/step - loss: 0.5270 - acc: 0.8011 - val_loss: 0.8377 - val_acc: 0.7111\n",
            "Epoch 90/100\n",
            "224/224 [==============================] - 274s 1s/step - loss: 0.5194 - acc: 0.8048 - val_loss: 0.8628 - val_acc: 0.7000\n",
            "Epoch 91/100\n",
            "224/224 [==============================] - 277s 1s/step - loss: 0.5277 - acc: 0.7999 - val_loss: 0.8365 - val_acc: 0.7099\n",
            "Epoch 92/100\n",
            "224/224 [==============================] - 274s 1s/step - loss: 0.5204 - acc: 0.8038 - val_loss: 0.8545 - val_acc: 0.7090\n",
            "Epoch 93/100\n",
            "224/224 [==============================] - 277s 1s/step - loss: 0.5233 - acc: 0.8031 - val_loss: 0.8359 - val_acc: 0.7060\n",
            "\n",
            "Epoch 00093: ReduceLROnPlateau reducing learning rate to 0.0012499999720603228.\n",
            "Epoch 94/100\n",
            "224/224 [==============================] - 280s 1s/step - loss: 0.5140 - acc: 0.8060 - val_loss: 0.8565 - val_acc: 0.7015\n",
            "Epoch 95/100\n",
            "224/224 [==============================] - 280s 1s/step - loss: 0.5148 - acc: 0.8062 - val_loss: 0.8380 - val_acc: 0.7144\n",
            "Epoch 96/100\n",
            "224/224 [==============================] - 282s 1s/step - loss: 0.5167 - acc: 0.8082 - val_loss: 0.8657 - val_acc: 0.6943\n",
            "Epoch 97/100\n",
            "224/224 [==============================] - 280s 1s/step - loss: 0.5144 - acc: 0.8083 - val_loss: 0.8372 - val_acc: 0.7195\n",
            "Epoch 98/100\n",
            "224/224 [==============================] - 277s 1s/step - loss: 0.5141 - acc: 0.8076 - val_loss: 0.8468 - val_acc: 0.7048\n",
            "Epoch 99/100\n",
            "224/224 [==============================] - 272s 1s/step - loss: 0.5120 - acc: 0.8077 - val_loss: 0.8479 - val_acc: 0.7072\n",
            "Epoch 100/100\n",
            "224/224 [==============================] - 272s 1s/step - loss: 0.5162 - acc: 0.8069 - val_loss: 0.8522 - val_acc: 0.7075\n"
          ],
          "name": "stdout"
        }
      ]
    },
    {
      "cell_type": "code",
      "metadata": {
        "id": "JSSv08SHF0bC",
        "colab_type": "code",
        "outputId": "c47570c0-c700-49f4-c441-44814bd78e59",
        "colab": {
          "base_uri": "https://localhost:8080/",
          "height": 71
        }
      },
      "source": [
        "print('\\n# Evaluate on dev data')\n",
        "results_dev = model.evaluate_generator(dev_generator, 3509 // BS)\n",
        "print('dev loss, dev acc:', results_dev)"
      ],
      "execution_count": 13,
      "outputs": [
        {
          "output_type": "stream",
          "text": [
            "\n",
            "# Evaluate on dev data\n",
            "dev loss, dev acc: [0.8531583790425901, 0.7071759259259259]\n"
          ],
          "name": "stdout"
        }
      ]
    },
    {
      "cell_type": "code",
      "metadata": {
        "id": "Ev4sDYDlOsqk",
        "colab_type": "code",
        "outputId": "8ae0fd86-ff1b-41ac-8d3a-903657b6b605",
        "colab": {
          "base_uri": "https://localhost:8080/",
          "height": 71
        }
      },
      "source": [
        "print('\\n# Evaluate on test data')\n",
        "results_test = model.evaluate_generator(test_generator, 3509 // BS)\n",
        "print('test loss, test acc:', results_test)"
      ],
      "execution_count": 14,
      "outputs": [
        {
          "output_type": "stream",
          "text": [
            "\n",
            "# Evaluate on test data\n",
            "test loss, test acc: [0.7922037023085134, 0.7239583333333334]\n"
          ],
          "name": "stdout"
        }
      ]
    },
    {
      "cell_type": "code",
      "metadata": {
        "id": "m9f7smhHUQus",
        "colab_type": "code",
        "outputId": "d48da751-2594-4d09-ef1f-96af8528a683",
        "colab": {
          "base_uri": "https://localhost:8080/",
          "height": 591
        }
      },
      "source": [
        "# list all data in history\n",
        "print(history.history.keys())\n",
        "# summarize history for accuracy\n",
        "plt.plot(history.history['acc'])\n",
        "plt.plot(history.history['val_acc'])\n",
        "plt.title('model accuracy')\n",
        "plt.ylabel('accuracy')\n",
        "plt.xlabel('epoch')\n",
        "plt.legend(['train', 'dev'], loc='upper left')\n",
        "plt.show()\n",
        "# summarize history for loss\n",
        "plt.plot(history.history['loss'])\n",
        "plt.plot(history.history['val_loss'])\n",
        "plt.title('model loss')\n",
        "plt.ylabel('loss')\n",
        "plt.xlabel('epoch')\n",
        "plt.legend(['train', 'dev'], loc='upper left')\n",
        "plt.show()"
      ],
      "execution_count": 15,
      "outputs": [
        {
          "output_type": "stream",
          "text": [
            "dict_keys(['val_loss', 'val_acc', 'loss', 'acc', 'lr'])\n"
          ],
          "name": "stdout"
        },
        {
          "output_type": "display_data",
          "data": {
            "image/png": "[encoded data removed]",
            "text/plain": [
              "<Figure size 432x288 with 1 Axes>"
            ]
          },
          "metadata": {
            "tags": []
          }
        },
        {
          "output_type": "display_data",
          "data": {
            "image/png": "[encoded data removed]",
            "text/plain": [
              "<Figure size 432x288 with 1 Axes>"
            ]
          },
          "metadata": {
            "tags": []
          }
        }
      ]
    },
    {
      "cell_type": "code",
      "metadata": {
        "id": "F-QKHTmJQhi1",
        "colab_type": "code",
        "colab": {}
      },
      "source": [
        "epoch_str = '-EPOCHS_' + str(EPOCHS)\n",
        "test_acc = 'test_acc_%.3f' % results_test[1]\n",
        "model.save('/content/drive/My Drive/cs230 project/models/' + 'RESNET50-Class-Weights' + epoch_str + test_acc + '.h5')"
      ],
      "execution_count": 0,
      "outputs": []
    },
    {
      "cell_type": "code",
      "metadata": {
        "id": "4j4nAv4pEN7t",
        "colab_type": "code",
        "colab": {}
      },
      "source": [
        ""
      ],
      "execution_count": 0,
      "outputs": []
    }
  ]
}