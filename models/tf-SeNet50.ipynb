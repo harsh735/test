{
  "nbformat": 4,
  "nbformat_minor": 0,
  "metadata": {
    "accelerator": "GPU",
    "colab": {
      "name": "fer2013.ipynb",
      "provenance": [],
      "collapsed_sections": [],
      "machine_shape": "hm",
      "include_colab_link": true
    },
    "kernelspec": {
      "display_name": "Environment (conda_tensorflow_p36)",
      "language": "python",
      "name": "conda_tensorflow_p36"
    },
    "language_info": {
      "codemirror_mode": {
        "name": "ipython",
        "version": 3
      },
      "file_extension": ".py",
      "mimetype": "text/x-python",
      "name": "python",
      "nbconvert_exporter": "python",
      "pygments_lexer": "ipython3",
      "version": "3.6.5"
    }
  },
  "cells": [
    {
      "cell_type": "markdown",
      "metadata": {
        "id": "view-in-github",
        "colab_type": "text"
      },
      "source": [
        "<a href=\"https://colab.research.google.com/github/amilkh/cs230-fer/blob/transfer-learning/Final-SeNet50.ipynb\" target=\"_parent\"><img src=\"https://colab.research.google.com/assets/colab-badge.svg\" alt=\"Open In Colab\"/></a>"
      ]
    },
    {
      "cell_type": "code",
      "metadata": {
        "colab_type": "code",
        "id": "gwdg7Sv3XBaP",
        "outputId": "898c8cb4-3e8b-4f63-a2da-fc392f6d08cc",
        "colab": {
          "base_uri": "https://localhost:8080/",
          "height": 527
        }
      },
      "source": [
        "%tensorflow_version 1.x\n",
        "!pip install keras-vggface\n",
        "!pip install scikit-image\n",
        "!pip install pydot"
      ],
      "execution_count": 1,
      "outputs": [
        {
          "output_type": "stream",
          "text": [
            "Collecting keras-vggface\n",
            "  Downloading https://files.pythonhosted.org/packages/2f/7d/5f0319ebdc09ac1a2272364fa9583f5067b6f8aff93fbbf8835d81cbaad7/keras_vggface-0.6-py3-none-any.whl\n",
            "Requirement already satisfied: numpy>=1.9.1 in /usr/local/lib/python3.6/dist-packages (from keras-vggface) (1.18.1)\n",
            "Requirement already satisfied: scipy>=0.14 in /usr/local/lib/python3.6/dist-packages (from keras-vggface) (1.4.1)\n",
            "Requirement already satisfied: pyyaml in /usr/local/lib/python3.6/dist-packages (from keras-vggface) (3.13)\n",
            "Requirement already satisfied: h5py in /usr/local/lib/python3.6/dist-packages (from keras-vggface) (2.8.0)\n",
            "Requirement already satisfied: pillow in /usr/local/lib/python3.6/dist-packages (from keras-vggface) (7.0.0)\n",
            "Requirement already satisfied: keras in /usr/local/lib/python3.6/dist-packages (from keras-vggface) (2.2.5)\n",
            "Requirement already satisfied: six>=1.9.0 in /usr/local/lib/python3.6/dist-packages (from keras-vggface) (1.12.0)\n",
            "Requirement already satisfied: keras-preprocessing>=1.1.0 in /usr/local/lib/python3.6/dist-packages (from keras->keras-vggface) (1.1.0)\n",
            "Requirement already satisfied: keras-applications>=1.0.8 in /usr/local/lib/python3.6/dist-packages (from keras->keras-vggface) (1.0.8)\n",
            "Installing collected packages: keras-vggface\n",
            "Successfully installed keras-vggface-0.6\n",
            "Requirement already satisfied: scikit-image in /usr/local/lib/python3.6/dist-packages (0.16.2)\n",
            "Requirement already satisfied: networkx>=2.0 in /usr/local/lib/python3.6/dist-packages (from scikit-image) (2.4)\n",
            "Requirement already satisfied: imageio>=2.3.0 in /usr/local/lib/python3.6/dist-packages (from scikit-image) (2.4.1)\n",
            "Requirement already satisfied: pillow>=4.3.0 in /usr/local/lib/python3.6/dist-packages (from scikit-image) (7.0.0)\n",
            "Requirement already satisfied: scipy>=0.19.0 in /usr/local/lib/python3.6/dist-packages (from scikit-image) (1.4.1)\n",
            "Requirement already satisfied: PyWavelets>=0.4.0 in /usr/local/lib/python3.6/dist-packages (from scikit-image) (1.1.1)\n",
            "Requirement already satisfied: matplotlib!=3.0.0,>=2.0.0 in /usr/local/lib/python3.6/dist-packages (from scikit-image) (3.2.0)\n",
            "Requirement already satisfied: decorator>=4.3.0 in /usr/local/lib/python3.6/dist-packages (from networkx>=2.0->scikit-image) (4.4.2)\n",
            "Requirement already satisfied: numpy in /usr/local/lib/python3.6/dist-packages (from imageio>=2.3.0->scikit-image) (1.18.1)\n",
            "Requirement already satisfied: cycler>=0.10 in /usr/local/lib/python3.6/dist-packages (from matplotlib!=3.0.0,>=2.0.0->scikit-image) (0.10.0)\n",
            "Requirement already satisfied: python-dateutil>=2.1 in /usr/local/lib/python3.6/dist-packages (from matplotlib!=3.0.0,>=2.0.0->scikit-image) (2.8.1)\n",
            "Requirement already satisfied: kiwisolver>=1.0.1 in /usr/local/lib/python3.6/dist-packages (from matplotlib!=3.0.0,>=2.0.0->scikit-image) (1.1.0)\n",
            "Requirement already satisfied: pyparsing!=2.0.4,!=2.1.2,!=2.1.6,>=2.0.1 in /usr/local/lib/python3.6/dist-packages (from matplotlib!=3.0.0,>=2.0.0->scikit-image) (2.4.6)\n",
            "Requirement already satisfied: six in /usr/local/lib/python3.6/dist-packages (from cycler>=0.10->matplotlib!=3.0.0,>=2.0.0->scikit-image) (1.12.0)\n",
            "Requirement already satisfied: setuptools in /usr/local/lib/python3.6/dist-packages (from kiwisolver>=1.0.1->matplotlib!=3.0.0,>=2.0.0->scikit-image) (45.2.0)\n",
            "Requirement already satisfied: pydot in /usr/local/lib/python3.6/dist-packages (1.3.0)\n",
            "Requirement already satisfied: pyparsing>=2.1.4 in /usr/local/lib/python3.6/dist-packages (from pydot) (2.4.6)\n"
          ],
          "name": "stdout"
        }
      ]
    },
    {
      "cell_type": "code",
      "metadata": {
        "colab_type": "code",
        "id": "2nz38mJZXN_P",
        "outputId": "20e85bee-7622-43fa-c448-c31cb819fbd0",
        "colab": {
          "base_uri": "https://localhost:8080/",
          "height": 34
        }
      },
      "source": [
        "import matplotlib.pyplot as plt\n",
        "import pandas as pd\n",
        "import numpy as np\n",
        "\n",
        "import tensorflow as tf\n",
        "from tensorflow.keras.layers import *\n",
        "from tensorflow.python.lib.io import file_io\n",
        "\n",
        "%matplotlib inline\n",
        "\n",
        "import keras\n",
        "from keras import backend as K\n",
        "from keras.callbacks import ModelCheckpoint, EarlyStopping\n",
        "from keras.models import load_model\n",
        "from keras.preprocessing.image import ImageDataGenerator\n",
        "from keras_vggface.vggface import VGGFace\n",
        "from keras.utils import plot_model\n",
        "from sklearn.metrics import *\n",
        "from keras.engine import Model\n",
        "from keras.layers import Input, Flatten, Dense, Activation, Conv2D, MaxPool2D, BatchNormalization, Dropout, MaxPooling2D\n",
        "import skimage\n",
        "from skimage.transform import rescale, resize\n",
        "\n",
        "import pydot"
      ],
      "execution_count": 2,
      "outputs": [
        {
          "output_type": "stream",
          "text": [
            "Using TensorFlow backend.\n"
          ],
          "name": "stderr"
        }
      ]
    },
    {
      "cell_type": "code",
      "metadata": {
        "id": "1fZczU8lGkX-",
        "colab_type": "code",
        "outputId": "d9e5dcea-c0be-4f4c-99b4-4ce966c3ea93",
        "colab": {
          "base_uri": "https://localhost:8080/",
          "height": 122
        }
      },
      "source": [
        "from google.colab import drive\n",
        "drive.mount('/content/drive')"
      ],
      "execution_count": 3,
      "outputs": [
        {
          "output_type": "stream",
          "text": [
            "Go to this URL in a browser: https://accounts.google.com/o/oauth2/auth?client_id=947318989803-6bn6qk8qdgf4n4g3pfee6491hc0brc4i.apps.googleusercontent.com&redirect_uri=urn%3aietf%3awg%3aoauth%3a2.0%3aoob&response_type=code&scope=email%20https%3a%2f%2fwww.googleapis.com%2fauth%2fdocs.test%20https%3a%2f%2fwww.googleapis.com%2fauth%2fdrive%20https%3a%2f%2fwww.googleapis.com%2fauth%2fdrive.photos.readonly%20https%3a%2f%2fwww.googleapis.com%2fauth%2fpeopleapi.readonly\n",
            "\n",
            "Enter your authorization code:\n",
            "··········\n",
            "Mounted at /content/drive\n"
          ],
          "name": "stdout"
        }
      ]
    },
    {
      "cell_type": "code",
      "metadata": {
        "colab_type": "code",
        "id": "nUcd6yIGduUW",
        "outputId": "1bd89817-9058-4050-fb7f-5b7071f4c9b8",
        "colab": {
          "base_uri": "https://localhost:8080/",
          "height": 51
        }
      },
      "source": [
        "print(tf.__version__)\n",
        "print(keras.__version__)"
      ],
      "execution_count": 4,
      "outputs": [
        {
          "output_type": "stream",
          "text": [
            "1.15.0\n",
            "2.2.5\n"
          ],
          "name": "stdout"
        }
      ]
    },
    {
      "cell_type": "code",
      "metadata": {
        "id": "v60q28mDHnN9",
        "colab_type": "code",
        "colab": {}
      },
      "source": [
        "EPOCHS = 100\n",
        "BS = 128\n",
        "DROPOUT_RATE = 0.5\n",
        "FROZEN_LAYER_NUM = 201\n",
        "\n",
        "ADAM_LEARNING_RATE = 0.001\n",
        "SGD_LEARNING_RATE = 0.01\n",
        "SGD_DECAY = 0.0001\n",
        "\n",
        "Resize_pixelsize = 197"
      ],
      "execution_count": 0,
      "outputs": []
    },
    {
      "cell_type": "code",
      "metadata": {
        "id": "itKZtFV0F7b1",
        "colab_type": "code",
        "outputId": "e03b20a2-6738-4c26-b216-074a9f8df5fa",
        "colab": {
          "base_uri": "https://localhost:8080/",
          "height": 632
        }
      },
      "source": [
        "vgg_notop = VGGFace(model='senet50', include_top=False, input_shape=(Resize_pixelsize, Resize_pixelsize, 3), pooling='avg')\n",
        "last_layer = vgg_notop.get_layer('avg_pool').output\n",
        "x = Flatten(name='flatten')(last_layer)\n",
        "x = Dropout(DROPOUT_RATE)(x)\n",
        "x = Dense(4096, activation='relu', name='fc6')(x)\n",
        "x = Dropout(DROPOUT_RATE)(x)\n",
        "x = Dense(1024, activation='relu', name='fc7')(x)\n",
        "x = Dropout(DROPOUT_RATE)(x)\n",
        "# l=0\n",
        "# for layer in vgg_notop.layers:\n",
        "#     print(layer,\"[\"+str(l)+\"]\")\n",
        "#     l=l+1\n",
        "\n",
        "batch_norm_indices = [2, 6, 9, 12, 21, 25, 28, 31, 42, 45, 48, 59, 62, 65, 74, 78, 81, 84, 95, 98, 101, 112, 115, 118, 129, 132, 135, 144, 148, 151, 154, 165, 168, 171, 182, 185, 188, 199, 202, 205, 216, 219, 222, 233, 236, 239, 248, 252, 255, 258, 269, 272, 275]    \n",
        "for i in range(FROZEN_LAYER_NUM):\n",
        "    if i not in batch_norm_indices:\n",
        "        vgg_notop.layers[i].trainable = False\n",
        "# print('vgg layer 2 is trainable: ' + str(vgg_notop.layers[2].trainable))\n",
        "# print('vgg layer 3 is trainable: ' + str(vgg_notop.layers[3].trainable))\n",
        "\n",
        "out = Dense(7, activation='softmax', name='classifier')(x)\n",
        "\n",
        "model = Model(vgg_notop.input, out)\n",
        "\n",
        "\n",
        "optim = keras.optimizers.Adam(lr=ADAM_LEARNING_RATE, beta_1=0.9, beta_2=0.999, epsilon=1e-08, decay=0.0)\n",
        "#optim = keras.optimizers.Adam(lr=0.0005, beta_1=0.9, beta_2=0.999, epsilon=1e-08, decay=0.0)\n",
        "sgd = keras.optimizers.SGD(lr=SGD_LEARNING_RATE, momentum=0.9, decay=SGD_DECAY, nesterov=True)\n",
        "rlrop = keras.callbacks.ReduceLROnPlateau(monitor='val_acc',mode='max',factor=0.5, patience=10, min_lr=0.00001, verbose=1)\n",
        "\n",
        "model.compile(optimizer=sgd, loss='categorical_crossentropy', metrics=['accuracy'])\n",
        "# plot_model(model, to_file='model2.png', show_shapes=True)"
      ],
      "execution_count": 6,
      "outputs": [
        {
          "output_type": "stream",
          "text": [
            "WARNING:tensorflow:From /usr/local/lib/python3.6/dist-packages/keras/backend/tensorflow_backend.py:66: The name tf.get_default_graph is deprecated. Please use tf.compat.v1.get_default_graph instead.\n",
            "\n",
            "WARNING:tensorflow:From /usr/local/lib/python3.6/dist-packages/keras/backend/tensorflow_backend.py:541: The name tf.placeholder is deprecated. Please use tf.compat.v1.placeholder instead.\n",
            "\n",
            "WARNING:tensorflow:From /usr/local/lib/python3.6/dist-packages/keras/backend/tensorflow_backend.py:4432: The name tf.random_uniform is deprecated. Please use tf.random.uniform instead.\n",
            "\n",
            "WARNING:tensorflow:From /usr/local/lib/python3.6/dist-packages/keras/backend/tensorflow_backend.py:190: The name tf.get_default_session is deprecated. Please use tf.compat.v1.get_default_session instead.\n",
            "\n",
            "WARNING:tensorflow:From /usr/local/lib/python3.6/dist-packages/keras/backend/tensorflow_backend.py:197: The name tf.ConfigProto is deprecated. Please use tf.compat.v1.ConfigProto instead.\n",
            "\n",
            "WARNING:tensorflow:From /usr/local/lib/python3.6/dist-packages/keras/backend/tensorflow_backend.py:203: The name tf.Session is deprecated. Please use tf.compat.v1.Session instead.\n",
            "\n",
            "WARNING:tensorflow:From /usr/local/lib/python3.6/dist-packages/keras/backend/tensorflow_backend.py:207: The name tf.global_variables is deprecated. Please use tf.compat.v1.global_variables instead.\n",
            "\n",
            "WARNING:tensorflow:From /usr/local/lib/python3.6/dist-packages/keras/backend/tensorflow_backend.py:216: The name tf.is_variable_initialized is deprecated. Please use tf.compat.v1.is_variable_initialized instead.\n",
            "\n",
            "WARNING:tensorflow:From /usr/local/lib/python3.6/dist-packages/keras/backend/tensorflow_backend.py:223: The name tf.variables_initializer is deprecated. Please use tf.compat.v1.variables_initializer instead.\n",
            "\n",
            "WARNING:tensorflow:From /usr/local/lib/python3.6/dist-packages/keras/backend/tensorflow_backend.py:2041: The name tf.nn.fused_batch_norm is deprecated. Please use tf.compat.v1.nn.fused_batch_norm instead.\n",
            "\n",
            "WARNING:tensorflow:From /usr/local/lib/python3.6/dist-packages/keras/backend/tensorflow_backend.py:148: The name tf.placeholder_with_default is deprecated. Please use tf.compat.v1.placeholder_with_default instead.\n",
            "\n",
            "WARNING:tensorflow:From /usr/local/lib/python3.6/dist-packages/keras/backend/tensorflow_backend.py:4267: The name tf.nn.max_pool is deprecated. Please use tf.nn.max_pool2d instead.\n",
            "\n",
            "WARNING:tensorflow:From /usr/local/lib/python3.6/dist-packages/keras/backend/tensorflow_backend.py:4271: The name tf.nn.avg_pool is deprecated. Please use tf.nn.avg_pool2d instead.\n",
            "\n",
            "Downloading data from https://github.com/rcmalli/keras-vggface/releases/download/v2.0/rcmalli_vggface_tf_notop_senet50.h5\n",
            "104947712/104944616 [==============================] - 2s 0us/step\n",
            "WARNING:tensorflow:From /usr/local/lib/python3.6/dist-packages/keras/backend/tensorflow_backend.py:3733: calling dropout (from tensorflow.python.ops.nn_ops) with keep_prob is deprecated and will be removed in a future version.\n",
            "Instructions for updating:\n",
            "Please use `rate` instead of `keep_prob`. Rate should be set to `rate = 1 - keep_prob`.\n",
            "WARNING:tensorflow:From /usr/local/lib/python3.6/dist-packages/keras/optimizers.py:793: The name tf.train.Optimizer is deprecated. Please use tf.compat.v1.train.Optimizer instead.\n",
            "\n",
            "WARNING:tensorflow:From /usr/local/lib/python3.6/dist-packages/keras/backend/tensorflow_backend.py:3576: The name tf.log is deprecated. Please use tf.math.log instead.\n",
            "\n"
          ],
          "name": "stdout"
        }
      ]
    },
    {
      "cell_type": "code",
      "metadata": {
        "id": "v0mXUNZB-yI5",
        "colab_type": "code",
        "colab": {}
      },
      "source": [
        "! rm -rf train; mkdir train\n",
        "! unzip -q '/content/drive/My Drive/cs230 project/dataset/emotion.zip' -d train\n",
        "! unzip -q '/content/drive/My Drive/cs230 project/dataset/facesdb.zip' -d train\n",
        "! unzip -q '/content/drive/My Drive/cs230 project/dataset/fer2013/train.zip' -d train\n",
        "! unzip -q '/content/drive/My Drive/cs230 project/dataset/googlesearch.zip' -d train\n",
        "! unzip -q '/content/drive/My Drive/cs230 project/dataset/googleset.zip' -d train\n",
        "! unzip -q '/content/drive/My Drive/cs230 project/dataset/jaffe.zip' -d train\n",
        "! unzip -q '/content/drive/My Drive/cs230 project/dataset/umea.zip' -d train"
      ],
      "execution_count": 0,
      "outputs": []
    },
    {
      "cell_type": "code",
      "metadata": {
        "id": "TUuN9SLX_Qvl",
        "colab_type": "code",
        "colab": {}
      },
      "source": [
        "! rm -rf dev; mkdir dev\n",
        "! unzip -q '/content/drive/My Drive/cs230 project/dataset/fer2013/test-public.zip' -d dev\n",
        "! rm -rf test; mkdir test\n",
        "! unzip -q '/content/drive/My Drive/cs230 project/dataset/fer2013/test-private.zip' -d test"
      ],
      "execution_count": 0,
      "outputs": []
    },
    {
      "cell_type": "code",
      "metadata": {
        "id": "egSWDlktpwwQ",
        "colab_type": "code",
        "colab": {
          "base_uri": "https://localhost:8080/",
          "height": 136
        },
        "outputId": "6e23e651-d3d0-4800-d044-bb4310698f13"
      },
      "source": [
        "%%bash\n",
        "root='/content/test/'\n",
        "IFS=$(echo -en \"\\n\\b\")\n",
        "(for dir in $(ls -1 \"$root\")\n",
        "    do printf \"$dir: \" && ls -i \"$root$dir\" | wc -l\n",
        " done)"
      ],
      "execution_count": 9,
      "outputs": [
        {
          "output_type": "stream",
          "text": [
            "0 angry: 491\n",
            "1 disgust: 55\n",
            "2 fear: 528\n",
            "3 happy: 879\n",
            "4 sad: 594\n",
            "5 surprise: 416\n",
            "6 neutral: 626\n"
          ],
          "name": "stdout"
        }
      ]
    },
    {
      "cell_type": "code",
      "metadata": {
        "id": "560jefnZ_Cyq",
        "colab_type": "code",
        "colab": {}
      },
      "source": [
        "from tensorflow.keras.preprocessing.image import ImageDataGenerator\n",
        "\n",
        "def get_datagen(dataset, aug=False):\n",
        "    if aug:\n",
        "        datagen = ImageDataGenerator(\n",
        "                            rescale=1./255,\n",
        "                            featurewise_center=False,\n",
        "                            featurewise_std_normalization=False,\n",
        "                            rotation_range=10,\n",
        "                            width_shift_range=0.1,\n",
        "                            height_shift_range=0.1,\n",
        "                            zoom_range=0.1,\n",
        "                            horizontal_flip=True)\n",
        "    else:\n",
        "        datagen = ImageDataGenerator(rescale=1./255)\n",
        "\n",
        "    return datagen.flow_from_directory(\n",
        "            dataset,\n",
        "            target_size=(197, 197),\n",
        "            color_mode='rgb',\n",
        "            shuffle = True,\n",
        "            class_mode='categorical',\n",
        "            batch_size=BS)"
      ],
      "execution_count": 0,
      "outputs": []
    },
    {
      "cell_type": "code",
      "metadata": {
        "id": "4aQAGQP5_Gpl",
        "colab_type": "code",
        "outputId": "39926d21-b2a1-4280-ba59-0e3afe7ef03e",
        "colab": {
          "base_uri": "https://localhost:8080/",
          "height": 102
        }
      },
      "source": [
        "train_generator  = get_datagen('/content/train', True)\n",
        "dev_generator    = get_datagen('/content/dev')\n",
        "test_generator  = get_datagen('/content/test')\n"
      ],
      "execution_count": 11,
      "outputs": [
        {
          "output_type": "stream",
          "text": [
            "/usr/local/lib/python3.6/dist-packages/keras_preprocessing/image/utils.py:173: UserWarning: Using \".tiff\" files with multiple bands will cause distortion. Please verify your output.\n",
            "  warnings.warn('Using \".tiff\" files with multiple bands '\n"
          ],
          "name": "stderr"
        },
        {
          "output_type": "stream",
          "text": [
            "Found 30452 images belonging to 7 classes.\n",
            "Found 3589 images belonging to 7 classes.\n",
            "Found 3589 images belonging to 7 classes.\n"
          ],
          "name": "stdout"
        }
      ]
    },
    {
      "cell_type": "code",
      "metadata": {
        "colab_type": "code",
        "id": "pLISdlaStbUn",
        "outputId": "c4f6da09-20e4-4b04-d2cb-efccdda0d88e",
        "colab": {
          "base_uri": "https://localhost:8080/",
          "height": 1000
        }
      },
      "source": [
        "history = model.fit_generator(\n",
        "    generator = train_generator,\n",
        "    validation_data=dev_generator, \n",
        "    #steps_per_epoch=28709// BS,\n",
        "    #validation_steps=3509 // BS,\n",
        "    shuffle=True,\n",
        "    epochs=100,\n",
        "    callbacks=[rlrop],\n",
        "    use_multiprocessing=True,\n",
        ") "
      ],
      "execution_count": 12,
      "outputs": [
        {
          "output_type": "stream",
          "text": [
            "WARNING:tensorflow:From /tensorflow-1.15.0/python3.6/tensorflow_core/python/ops/math_grad.py:1424: where (from tensorflow.python.ops.array_ops) is deprecated and will be removed in a future version.\n",
            "Instructions for updating:\n",
            "Use tf.where in 2.0, which has the same broadcast rule as np.where\n",
            "WARNING:tensorflow:From /usr/local/lib/python3.6/dist-packages/keras/backend/tensorflow_backend.py:1033: The name tf.assign_add is deprecated. Please use tf.compat.v1.assign_add instead.\n",
            "\n",
            "WARNING:tensorflow:From /usr/local/lib/python3.6/dist-packages/keras/backend/tensorflow_backend.py:1020: The name tf.assign is deprecated. Please use tf.compat.v1.assign instead.\n",
            "\n",
            "Epoch 1/100\n",
            "238/238 [==============================] - 309s 1s/step - loss: 1.8741 - acc: 0.2840 - val_loss: 1.8226 - val_acc: 0.3435\n",
            "Epoch 2/100\n",
            "238/238 [==============================] - 299s 1s/step - loss: 1.4471 - acc: 0.4375 - val_loss: 1.3253 - val_acc: 0.4948\n",
            "Epoch 3/100\n",
            "238/238 [==============================] - 294s 1s/step - loss: 1.2316 - acc: 0.5125 - val_loss: 1.1254 - val_acc: 0.5793\n",
            "Epoch 4/100\n",
            "238/238 [==============================] - 292s 1s/step - loss: 1.0696 - acc: 0.6065 - val_loss: 1.1040 - val_acc: 0.6057\n",
            "Epoch 5/100\n",
            "238/238 [==============================] - 296s 1s/step - loss: 0.9776 - acc: 0.6420 - val_loss: 1.0684 - val_acc: 0.6188\n",
            "Epoch 6/100\n",
            "238/238 [==============================] - 296s 1s/step - loss: 0.9207 - acc: 0.6650 - val_loss: 1.0465 - val_acc: 0.6135\n",
            "Epoch 7/100\n",
            "238/238 [==============================] - 293s 1s/step - loss: 0.8839 - acc: 0.6780 - val_loss: 0.9908 - val_acc: 0.6383\n",
            "Epoch 8/100\n",
            "238/238 [==============================] - 294s 1s/step - loss: 0.8436 - acc: 0.6939 - val_loss: 0.9639 - val_acc: 0.6537\n",
            "Epoch 9/100\n",
            "238/238 [==============================] - 295s 1s/step - loss: 0.8109 - acc: 0.7032 - val_loss: 0.9058 - val_acc: 0.6701\n",
            "Epoch 10/100\n",
            "238/238 [==============================] - 297s 1s/step - loss: 0.7801 - acc: 0.7194 - val_loss: 0.9678 - val_acc: 0.6517\n",
            "Epoch 11/100\n",
            "238/238 [==============================] - 297s 1s/step - loss: 0.7539 - acc: 0.7288 - val_loss: 0.9729 - val_acc: 0.6631\n",
            "Epoch 12/100\n",
            "238/238 [==============================] - 297s 1s/step - loss: 0.7304 - acc: 0.7353 - val_loss: 1.0328 - val_acc: 0.6339\n",
            "Epoch 13/100\n",
            "238/238 [==============================] - 296s 1s/step - loss: 0.7068 - acc: 0.7463 - val_loss: 0.9377 - val_acc: 0.6695\n",
            "Epoch 14/100\n",
            "238/238 [==============================] - 296s 1s/step - loss: 0.6823 - acc: 0.7533 - val_loss: 0.9383 - val_acc: 0.6743\n",
            "Epoch 15/100\n",
            "238/238 [==============================] - 299s 1s/step - loss: 0.6639 - acc: 0.7608 - val_loss: 0.8806 - val_acc: 0.6952\n",
            "Epoch 16/100\n",
            "238/238 [==============================] - 298s 1s/step - loss: 0.6380 - acc: 0.7720 - val_loss: 0.8852 - val_acc: 0.6874\n",
            "Epoch 17/100\n",
            "238/238 [==============================] - 298s 1s/step - loss: 0.6215 - acc: 0.7758 - val_loss: 0.9070 - val_acc: 0.6787\n",
            "Epoch 18/100\n",
            "238/238 [==============================] - 296s 1s/step - loss: 0.5977 - acc: 0.7843 - val_loss: 0.9309 - val_acc: 0.6799\n",
            "Epoch 19/100\n",
            "238/238 [==============================] - 294s 1s/step - loss: 0.5724 - acc: 0.7959 - val_loss: 0.9592 - val_acc: 0.6818\n",
            "Epoch 20/100\n",
            "238/238 [==============================] - 294s 1s/step - loss: 0.5563 - acc: 0.8003 - val_loss: 0.9386 - val_acc: 0.6963\n",
            "Epoch 21/100\n",
            "238/238 [==============================] - 298s 1s/step - loss: 0.5342 - acc: 0.8080 - val_loss: 0.9030 - val_acc: 0.6996\n",
            "Epoch 22/100\n",
            "238/238 [==============================] - 299s 1s/step - loss: 0.5199 - acc: 0.8161 - val_loss: 0.9116 - val_acc: 0.6991\n",
            "Epoch 23/100\n",
            "238/238 [==============================] - 298s 1s/step - loss: 0.4953 - acc: 0.8235 - val_loss: 1.0249 - val_acc: 0.6721\n",
            "Epoch 24/100\n",
            "238/238 [==============================] - 295s 1s/step - loss: 0.4788 - acc: 0.8311 - val_loss: 1.0976 - val_acc: 0.6698\n",
            "Epoch 25/100\n",
            "238/238 [==============================] - 296s 1s/step - loss: 0.4638 - acc: 0.8358 - val_loss: 1.0257 - val_acc: 0.6768\n",
            "Epoch 26/100\n",
            "238/238 [==============================] - 297s 1s/step - loss: 0.4382 - acc: 0.8442 - val_loss: 1.0300 - val_acc: 0.6918\n",
            "Epoch 27/100\n",
            "238/238 [==============================] - 294s 1s/step - loss: 0.4217 - acc: 0.8497 - val_loss: 1.0381 - val_acc: 0.6807\n",
            "Epoch 28/100\n",
            "238/238 [==============================] - 298s 1s/step - loss: 0.4127 - acc: 0.8519 - val_loss: 0.9972 - val_acc: 0.6885\n",
            "Epoch 29/100\n",
            "238/238 [==============================] - 297s 1s/step - loss: 0.3948 - acc: 0.8603 - val_loss: 1.0567 - val_acc: 0.6924\n",
            "Epoch 30/100\n",
            "238/238 [==============================] - 297s 1s/step - loss: 0.3777 - acc: 0.8645 - val_loss: 1.0673 - val_acc: 0.6999\n",
            "Epoch 31/100\n",
            "238/238 [==============================] - 296s 1s/step - loss: 0.3640 - acc: 0.8710 - val_loss: 1.2573 - val_acc: 0.6486\n",
            "Epoch 32/100\n",
            "238/238 [==============================] - 295s 1s/step - loss: 0.3471 - acc: 0.8778 - val_loss: 1.0282 - val_acc: 0.6971\n",
            "Epoch 33/100\n",
            "238/238 [==============================] - 295s 1s/step - loss: 0.3391 - acc: 0.8810 - val_loss: 1.1366 - val_acc: 0.6977\n",
            "Epoch 34/100\n",
            "238/238 [==============================] - 297s 1s/step - loss: 0.3173 - acc: 0.8888 - val_loss: 1.2153 - val_acc: 0.6879\n",
            "Epoch 35/100\n",
            "238/238 [==============================] - 298s 1s/step - loss: 0.3101 - acc: 0.8896 - val_loss: 1.0622 - val_acc: 0.6927\n",
            "Epoch 36/100\n",
            "238/238 [==============================] - 299s 1s/step - loss: 0.3000 - acc: 0.8943 - val_loss: 1.1708 - val_acc: 0.6902\n",
            "Epoch 37/100\n",
            "238/238 [==============================] - 297s 1s/step - loss: 0.2842 - acc: 0.9024 - val_loss: 1.2906 - val_acc: 0.6885\n",
            "\n",
            "Epoch 38/100\n",
            "238/238 [==============================] - 296s 1s/step - loss: 0.2720 - acc: 0.9035 - val_loss: 1.2999 - val_acc: 0.6776\n",
            "Epoch 39/100\n",
            "238/238 [==============================] - 298s 1s/step - loss: 0.2635 - acc: 0.9072 - val_loss: 1.2563 - val_acc: 0.6868\n",
            "Epoch 40/100\n",
            "238/238 [==============================] - 298s 1s/step - loss: 0.2565 - acc: 0.9106 - val_loss: 1.1673 - val_acc: 0.6871\n",
            "\n",
            "Epoch 00040: ReduceLROnPlateau reducing learning rate to 0.004999999888241291.\n",
            "Epoch 41/100\n",
            "238/238 [==============================] - 299s 1s/step - loss: 0.1979 - acc: 0.9319 - val_loss: 1.2500 - val_acc: 0.7019\n",
            "Epoch 42/100\n",
            "238/238 [==============================] - 297s 1s/step - loss: 0.1730 - acc: 0.9391 - val_loss: 1.4119 - val_acc: 0.7047\n",
            "Epoch 43/100\n",
            "238/238 [==============================] - 298s 1s/step - loss: 0.1609 - acc: 0.9442 - val_loss: 1.4804 - val_acc: 0.7021\n",
            "Epoch 44/100\n",
            "238/238 [==============================] - 298s 1s/step - loss: 0.1549 - acc: 0.9459 - val_loss: 1.5197 - val_acc: 0.6999\n",
            "Epoch 45/100\n",
            "238/238 [==============================] - 298s 1s/step - loss: 0.1491 - acc: 0.9483 - val_loss: 1.3931 - val_acc: 0.7133\n",
            "Epoch 46/100\n",
            "238/238 [==============================] - 299s 1s/step - loss: 0.1412 - acc: 0.9492 - val_loss: 1.4903 - val_acc: 0.6941\n",
            "Epoch 47/100\n",
            "238/238 [==============================] - 296s 1s/step - loss: 0.1316 - acc: 0.9543 - val_loss: 1.4453 - val_acc: 0.7127\n",
            "Epoch 48/100\n",
            "238/238 [==============================] - 297s 1s/step - loss: 0.1342 - acc: 0.9535 - val_loss: 1.4610 - val_acc: 0.7177\n",
            "Epoch 49/100\n",
            "238/238 [==============================] - 296s 1s/step - loss: 0.1279 - acc: 0.9555 - val_loss: 1.5512 - val_acc: 0.7013\n",
            "Epoch 50/100\n",
            "238/238 [==============================] - 293s 1s/step - loss: 0.1241 - acc: 0.9569 - val_loss: 1.5607 - val_acc: 0.7041\n",
            "Epoch 51/100\n",
            "238/238 [==============================] - 296s 1s/step - loss: 0.1163 - acc: 0.9604 - val_loss: 1.6500 - val_acc: 0.7038\n",
            "Epoch 52/100\n",
            "238/238 [==============================] - 295s 1s/step - loss: 0.1239 - acc: 0.9559 - val_loss: 1.5917 - val_acc: 0.6930\n",
            "Epoch 53/100\n",
            "238/238 [==============================] - 296s 1s/step - loss: 0.1110 - acc: 0.9604 - val_loss: 1.5128 - val_acc: 0.6974\n",
            "Epoch 54/100\n",
            "238/238 [==============================] - 297s 1s/step - loss: 0.1079 - acc: 0.9631 - val_loss: 1.6296 - val_acc: 0.7035\n",
            "Epoch 55/100\n",
            "238/238 [==============================] - 296s 1s/step - loss: 0.1085 - acc: 0.9624 - val_loss: 1.6439 - val_acc: 0.6943\n",
            "Epoch 56/100\n",
            "238/238 [==============================] - 297s 1s/step - loss: 0.1052 - acc: 0.9630 - val_loss: 1.5733 - val_acc: 0.7088\n",
            "Epoch 57/100\n",
            "238/238 [==============================] - 300s 1s/step - loss: 0.1012 - acc: 0.9646 - val_loss: 1.6714 - val_acc: 0.7030\n",
            "Epoch 58/100\n",
            "238/238 [==============================] - 299s 1s/step - loss: 0.0985 - acc: 0.9650 - val_loss: 1.6363 - val_acc: 0.6996\n",
            "\n",
            "Epoch 00058: ReduceLROnPlateau reducing learning rate to 0.0024999999441206455.\n",
            "Epoch 59/100\n",
            "238/238 [==============================] - 300s 1s/step - loss: 0.0803 - acc: 0.9719 - val_loss: 1.7202 - val_acc: 0.7133\n",
            "Epoch 60/100\n",
            "238/238 [==============================] - 298s 1s/step - loss: 0.0728 - acc: 0.9748 - val_loss: 1.7580 - val_acc: 0.7133\n",
            "Epoch 61/100\n",
            "238/238 [==============================] - 297s 1s/step - loss: 0.0686 - acc: 0.9762 - val_loss: 1.7719 - val_acc: 0.7097\n",
            "Epoch 62/100\n",
            "238/238 [==============================] - 295s 1s/step - loss: 0.0704 - acc: 0.9755 - val_loss: 1.8019 - val_acc: 0.7077\n",
            "Epoch 63/100\n",
            "238/238 [==============================] - 297s 1s/step - loss: 0.0690 - acc: 0.9755 - val_loss: 1.7823 - val_acc: 0.7044\n",
            "Epoch 64/100\n",
            "238/238 [==============================] - 298s 1s/step - loss: 0.0688 - acc: 0.9752 - val_loss: 1.7739 - val_acc: 0.7116\n",
            "Epoch 65/100\n",
            "238/238 [==============================] - 296s 1s/step - loss: 0.0654 - acc: 0.9769 - val_loss: 1.7649 - val_acc: 0.7127\n",
            "Epoch 66/100\n",
            "238/238 [==============================] - 295s 1s/step - loss: 0.0634 - acc: 0.9768 - val_loss: 1.7978 - val_acc: 0.7150\n",
            "Epoch 67/100\n",
            "238/238 [==============================] - 295s 1s/step - loss: 0.0658 - acc: 0.9778 - val_loss: 1.8685 - val_acc: 0.7111\n",
            "Epoch 68/100\n",
            "238/238 [==============================] - 293s 1s/step - loss: 0.0633 - acc: 0.9769 - val_loss: 1.8268 - val_acc: 0.7069\n",
            "\n",
            "Epoch 00068: ReduceLROnPlateau reducing learning rate to 0.0012499999720603228.\n",
            "Epoch 69/100\n",
            "238/238 [==============================] - 294s 1s/step - loss: 0.0566 - acc: 0.9802 - val_loss: 1.8181 - val_acc: 0.7105\n",
            "Epoch 70/100\n",
            "238/238 [==============================] - 296s 1s/step - loss: 0.0548 - acc: 0.9818 - val_loss: 1.8547 - val_acc: 0.7080\n",
            "Epoch 71/100\n",
            "238/238 [==============================] - 298s 1s/step - loss: 0.0499 - acc: 0.9813 - val_loss: 1.8624 - val_acc: 0.7116\n",
            "Epoch 72/100\n",
            "238/238 [==============================] - 296s 1s/step - loss: 0.0558 - acc: 0.9805 - val_loss: 1.8594 - val_acc: 0.7055\n",
            "Epoch 73/100\n",
            "238/238 [==============================] - 296s 1s/step - loss: 0.0537 - acc: 0.9812 - val_loss: 1.8668 - val_acc: 0.7119\n",
            "Epoch 74/100\n",
            "238/238 [==============================] - 296s 1s/step - loss: 0.0523 - acc: 0.9816 - val_loss: 1.8548 - val_acc: 0.7097\n",
            "Epoch 75/100\n",
            "238/238 [==============================] - 297s 1s/step - loss: 0.0495 - acc: 0.9821 - val_loss: 1.8881 - val_acc: 0.7108\n",
            "Epoch 76/100\n",
            "238/238 [==============================] - 297s 1s/step - loss: 0.0497 - acc: 0.9822 - val_loss: 1.8949 - val_acc: 0.7088\n",
            "Epoch 77/100\n",
            "238/238 [==============================] - 293s 1s/step - loss: 0.0486 - acc: 0.9833 - val_loss: 1.8767 - val_acc: 0.7108\n",
            "Epoch 78/100\n",
            "238/238 [==============================] - 295s 1s/step - loss: 0.0482 - acc: 0.9824 - val_loss: 1.8747 - val_acc: 0.7105\n",
            "\n",
            "Epoch 00078: ReduceLROnPlateau reducing learning rate to 0.0006249999860301614.\n",
            "Epoch 79/100\n",
            "238/238 [==============================] - 295s 1s/step - loss: 0.0451 - acc: 0.9836 - val_loss: 1.9330 - val_acc: 0.7116\n",
            "Epoch 80/100\n",
            "238/238 [==============================] - 296s 1s/step - loss: 0.0438 - acc: 0.9848 - val_loss: 1.9007 - val_acc: 0.7122\n",
            "Epoch 81/100\n",
            "238/238 [==============================] - 298s 1s/step - loss: 0.0454 - acc: 0.9840 - val_loss: 1.9130 - val_acc: 0.7119\n",
            "Epoch 82/100\n",
            "238/238 [==============================] - 296s 1s/step - loss: 0.0434 - acc: 0.9846 - val_loss: 1.9163 - val_acc: 0.7111\n",
            "Epoch 83/100\n",
            "238/238 [==============================] - 296s 1s/step - loss: 0.0423 - acc: 0.9849 - val_loss: 1.9357 - val_acc: 0.7116\n",
            "Epoch 84/100\n",
            "238/238 [==============================] - 295s 1s/step - loss: 0.0433 - acc: 0.9851 - val_loss: 1.9275 - val_acc: 0.7136\n",
            "Epoch 85/100\n",
            "238/238 [==============================] - 295s 1s/step - loss: 0.0440 - acc: 0.9838 - val_loss: 1.9437 - val_acc: 0.7136\n",
            "Epoch 86/100\n",
            "238/238 [==============================] - 295s 1s/step - loss: 0.0431 - acc: 0.9843 - val_loss: 1.9451 - val_acc: 0.7122\n",
            "Epoch 87/100\n",
            "238/238 [==============================] - 299s 1s/step - loss: 0.0428 - acc: 0.9846 - val_loss: 1.9480 - val_acc: 0.7152\n",
            "Epoch 88/100\n",
            "238/238 [==============================] - 297s 1s/step - loss: 0.0415 - acc: 0.9847 - val_loss: 1.9699 - val_acc: 0.7127\n",
            "\n",
            "Epoch 00088: ReduceLROnPlateau reducing learning rate to 0.0003124999930150807.\n",
            "Epoch 89/100\n",
            "238/238 [==============================] - 294s 1s/step - loss: 0.0414 - acc: 0.9846 - val_loss: 1.9673 - val_acc: 0.7127\n",
            "Epoch 90/100\n",
            "238/238 [==============================] - 297s 1s/step - loss: 0.0402 - acc: 0.9855 - val_loss: 1.9741 - val_acc: 0.7133\n",
            "Epoch 91/100\n",
            "238/238 [==============================] - 296s 1s/step - loss: 0.0390 - acc: 0.9859 - val_loss: 1.9680 - val_acc: 0.7152\n",
            "Epoch 92/100\n",
            "238/238 [==============================] - 294s 1s/step - loss: 0.0408 - acc: 0.9854 - val_loss: 1.9696 - val_acc: 0.7108\n",
            "Epoch 93/100\n",
            "238/238 [==============================] - 294s 1s/step - loss: 0.0389 - acc: 0.9857 - val_loss: 1.9706 - val_acc: 0.7133\n",
            "Epoch 94/100\n",
            "238/238 [==============================] - 291s 1s/step - loss: 0.0378 - acc: 0.9856 - val_loss: 1.9758 - val_acc: 0.7138\n",
            "Epoch 95/100\n",
            "238/238 [==============================] - 288s 1s/step - loss: 0.0403 - acc: 0.9855 - val_loss: 1.9799 - val_acc: 0.7122\n",
            "Epoch 96/100\n",
            "238/238 [==============================] - 289s 1s/step - loss: 0.0397 - acc: 0.9866 - val_loss: 1.9727 - val_acc: 0.7138\n",
            "Epoch 97/100\n",
            "238/238 [==============================] - 290s 1s/step - loss: 0.0387 - acc: 0.9856 - val_loss: 1.9781 - val_acc: 0.7144\n",
            "Epoch 98/100\n",
            "238/238 [==============================] - 291s 1s/step - loss: 0.0392 - acc: 0.9853 - val_loss: 1.9819 - val_acc: 0.7122\n",
            "\n",
            "Epoch 00098: ReduceLROnPlateau reducing learning rate to 0.00015624999650754035.\n",
            "Epoch 99/100\n",
            "238/238 [==============================] - 292s 1s/step - loss: 0.0376 - acc: 0.9859 - val_loss: 1.9878 - val_acc: 0.7136\n",
            "Epoch 100/100\n",
            "238/238 [==============================] - 293s 1s/step - loss: 0.0378 - acc: 0.9853 - val_loss: 1.9902 - val_acc: 0.7147\n"
          ],
          "name": "stdout"
        }
      ]
    },
    {
      "cell_type": "code",
      "metadata": {
        "id": "JSSv08SHF0bC",
        "colab_type": "code",
        "colab": {
          "base_uri": "https://localhost:8080/",
          "height": 68
        },
        "outputId": "a7179cab-5f0b-4414-e049-ec5a6ce50967"
      },
      "source": [
        "print('\\n# Evaluate on dev data')\n",
        "results_dev = model.evaluate_generator(dev_generator, 3509 // BS)\n",
        "print('dev loss, dev acc:', results_dev)"
      ],
      "execution_count": 13,
      "outputs": [
        {
          "output_type": "stream",
          "text": [
            "\n",
            "# Evaluate on dev data\n",
            "dev loss, dev acc: [1.9868577674583152, 0.7144097222222222]\n"
          ],
          "name": "stdout"
        }
      ]
    },
    {
      "cell_type": "code",
      "metadata": {
        "id": "Ev4sDYDlOsqk",
        "colab_type": "code",
        "colab": {
          "base_uri": "https://localhost:8080/",
          "height": 68
        },
        "outputId": "aa5ea7f8-b78d-4459-fd5f-5013490b7ecf"
      },
      "source": [
        "print('\\n# Evaluate on test data')\n",
        "results_test = model.evaluate_generator(test_generator, 3509 // BS)\n",
        "print('test loss, test acc:', results_test)"
      ],
      "execution_count": 14,
      "outputs": [
        {
          "output_type": "stream",
          "text": [
            "\n",
            "# Evaluate on test data\n",
            "test loss, test acc: [1.8666118206801239, 0.7254050925925926]\n"
          ],
          "name": "stdout"
        }
      ]
    },
    {
      "cell_type": "code",
      "metadata": {
        "id": "m9f7smhHUQus",
        "colab_type": "code",
        "colab": {
          "base_uri": "https://localhost:8080/",
          "height": 590
        },
        "outputId": "53028197-9731-4dc2-a13e-2cfaeec79e96"
      },
      "source": [
        "# list all data in history\n",
        "print(history.history.keys())\n",
        "# summarize history for accuracy\n",
        "plt.plot(history.history['acc'])\n",
        "plt.plot(history.history['val_acc'])\n",
        "plt.title('model accuracy')\n",
        "plt.ylabel('accuracy')\n",
        "plt.xlabel('epoch')\n",
        "plt.legend(['train', 'dev'], loc='upper left')\n",
        "plt.show()\n",
        "# summarize history for loss\n",
        "plt.plot(history.history['loss'])\n",
        "plt.plot(history.history['val_loss'])\n",
        "plt.title('model loss')\n",
        "plt.ylabel('loss')\n",
        "plt.xlabel('epoch')\n",
        "plt.legend(['train', 'dev'], loc='upper left')\n",
        "plt.show()"
      ],
      "execution_count": 15,
      "outputs": [
        {
          "output_type": "stream",
          "text": [
            "dict_keys(['val_loss', 'val_acc', 'loss', 'acc', 'lr'])\n"
          ],
          "name": "stdout"
        },
        {
          "output_type": "display_data",
          "data": {
            "image/png": "[encoded data removed]",
            "text/plain": [
              "<Figure size 432x288 with 1 Axes>"
            ]
          },
          "metadata": {
            "tags": []
          }
        },
        {
          "output_type": "display_data",
          "data": {
            "image/png": "[encoded data removed]",
            "text/plain": [
              "<Figure size 432x288 with 1 Axes>"
            ]
          },
          "metadata": {
            "tags": []
          }
        }
      ]
    },
    {
      "cell_type": "code",
      "metadata": {
        "id": "F-QKHTmJQhi1",
        "colab_type": "code",
        "colab": {}
      },
      "source": [
        "epoch_str = '-EPOCHS_' + str(EPOCHS)\n",
        "test_acc = 'test_acc_%.3f' % results_test[1]\n",
        "model.save('/content/drive/My Drive/cs230 project/models/final/' + 'SENET50' + epoch_str + test_acc + '.h5')"
      ],
      "execution_count": 0,
      "outputs": []
    },
    {
      "cell_type": "code",
      "metadata": {
        "id": "yJceV2fuFEfQ",
        "colab_type": "code",
        "colab": {}
      },
      "source": [
        ""
      ],
      "execution_count": 0,
      "outputs": []
    }
  ]
}