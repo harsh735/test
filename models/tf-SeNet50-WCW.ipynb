{
  "nbformat": 4,
  "nbformat_minor": 0,
  "metadata": {
    "accelerator": "GPU",
    "colab": {
      "name": "fer2013.ipynb",
      "provenance": [],
      "collapsed_sections": [],
      "machine_shape": "hm",
      "include_colab_link": true
    },
    "kernelspec": {
      "display_name": "Environment (conda_tensorflow_p36)",
      "language": "python",
      "name": "conda_tensorflow_p36"
    },
    "language_info": {
      "codemirror_mode": {
        "name": "ipython",
        "version": 3
      },
      "file_extension": ".py",
      "mimetype": "text/x-python",
      "name": "python",
      "nbconvert_exporter": "python",
      "pygments_lexer": "ipython3",
      "version": "3.6.5"
    }
  },
  "cells": [
    {
      "cell_type": "markdown",
      "metadata": {
        "id": "view-in-github",
        "colab_type": "text"
      },
      "source": [
        "<a href=\"https://colab.research.google.com/github/amilkh/cs230-fer/blob/transfer-learning/Final-SeNet50_WCW.ipynb\" target=\"_parent\"><img src=\"https://colab.research.google.com/assets/colab-badge.svg\" alt=\"Open In Colab\"/></a>"
      ]
    },
    {
      "cell_type": "code",
      "metadata": {
        "colab_type": "code",
        "id": "gwdg7Sv3XBaP",
        "outputId": "e6d57857-34c2-43cb-fb06-55218d2a916e",
        "colab": {
          "base_uri": "https://localhost:8080/",
          "height": 527
        }
      },
      "source": [
        "%tensorflow_version 1.x\n",
        "!pip install keras-vggface\n",
        "!pip install scikit-image\n",
        "!pip install pydot"
      ],
      "execution_count": 1,
      "outputs": [
        {
          "output_type": "stream",
          "text": [
            "Collecting keras-vggface\n",
            "  Downloading https://files.pythonhosted.org/packages/2f/7d/5f0319ebdc09ac1a2272364fa9583f5067b6f8aff93fbbf8835d81cbaad7/keras_vggface-0.6-py3-none-any.whl\n",
            "Requirement already satisfied: pyyaml in /usr/local/lib/python3.6/dist-packages (from keras-vggface) (3.13)\n",
            "Requirement already satisfied: six>=1.9.0 in /usr/local/lib/python3.6/dist-packages (from keras-vggface) (1.12.0)\n",
            "Requirement already satisfied: scipy>=0.14 in /usr/local/lib/python3.6/dist-packages (from keras-vggface) (1.4.1)\n",
            "Requirement already satisfied: keras in /usr/local/lib/python3.6/dist-packages (from keras-vggface) (2.2.5)\n",
            "Requirement already satisfied: pillow in /usr/local/lib/python3.6/dist-packages (from keras-vggface) (7.0.0)\n",
            "Requirement already satisfied: numpy>=1.9.1 in /usr/local/lib/python3.6/dist-packages (from keras-vggface) (1.18.1)\n",
            "Requirement already satisfied: h5py in /usr/local/lib/python3.6/dist-packages (from keras-vggface) (2.8.0)\n",
            "Requirement already satisfied: keras-applications>=1.0.8 in /usr/local/lib/python3.6/dist-packages (from keras->keras-vggface) (1.0.8)\n",
            "Requirement already satisfied: keras-preprocessing>=1.1.0 in /usr/local/lib/python3.6/dist-packages (from keras->keras-vggface) (1.1.0)\n",
            "Installing collected packages: keras-vggface\n",
            "Successfully installed keras-vggface-0.6\n",
            "Requirement already satisfied: scikit-image in /usr/local/lib/python3.6/dist-packages (0.16.2)\n",
            "Requirement already satisfied: matplotlib!=3.0.0,>=2.0.0 in /usr/local/lib/python3.6/dist-packages (from scikit-image) (3.2.0)\n",
            "Requirement already satisfied: networkx>=2.0 in /usr/local/lib/python3.6/dist-packages (from scikit-image) (2.4)\n",
            "Requirement already satisfied: imageio>=2.3.0 in /usr/local/lib/python3.6/dist-packages (from scikit-image) (2.4.1)\n",
            "Requirement already satisfied: pillow>=4.3.0 in /usr/local/lib/python3.6/dist-packages (from scikit-image) (7.0.0)\n",
            "Requirement already satisfied: PyWavelets>=0.4.0 in /usr/local/lib/python3.6/dist-packages (from scikit-image) (1.1.1)\n",
            "Requirement already satisfied: scipy>=0.19.0 in /usr/local/lib/python3.6/dist-packages (from scikit-image) (1.4.1)\n",
            "Requirement already satisfied: cycler>=0.10 in /usr/local/lib/python3.6/dist-packages (from matplotlib!=3.0.0,>=2.0.0->scikit-image) (0.10.0)\n",
            "Requirement already satisfied: pyparsing!=2.0.4,!=2.1.2,!=2.1.6,>=2.0.1 in /usr/local/lib/python3.6/dist-packages (from matplotlib!=3.0.0,>=2.0.0->scikit-image) (2.4.6)\n",
            "Requirement already satisfied: numpy>=1.11 in /usr/local/lib/python3.6/dist-packages (from matplotlib!=3.0.0,>=2.0.0->scikit-image) (1.18.1)\n",
            "Requirement already satisfied: python-dateutil>=2.1 in /usr/local/lib/python3.6/dist-packages (from matplotlib!=3.0.0,>=2.0.0->scikit-image) (2.8.1)\n",
            "Requirement already satisfied: kiwisolver>=1.0.1 in /usr/local/lib/python3.6/dist-packages (from matplotlib!=3.0.0,>=2.0.0->scikit-image) (1.1.0)\n",
            "Requirement already satisfied: decorator>=4.3.0 in /usr/local/lib/python3.6/dist-packages (from networkx>=2.0->scikit-image) (4.4.2)\n",
            "Requirement already satisfied: six in /usr/local/lib/python3.6/dist-packages (from cycler>=0.10->matplotlib!=3.0.0,>=2.0.0->scikit-image) (1.12.0)\n",
            "Requirement already satisfied: setuptools in /usr/local/lib/python3.6/dist-packages (from kiwisolver>=1.0.1->matplotlib!=3.0.0,>=2.0.0->scikit-image) (45.2.0)\n",
            "Requirement already satisfied: pydot in /usr/local/lib/python3.6/dist-packages (1.3.0)\n",
            "Requirement already satisfied: pyparsing>=2.1.4 in /usr/local/lib/python3.6/dist-packages (from pydot) (2.4.6)\n"
          ],
          "name": "stdout"
        }
      ]
    },
    {
      "cell_type": "code",
      "metadata": {
        "colab_type": "code",
        "id": "2nz38mJZXN_P",
        "outputId": "e76938ac-db5e-4674-d5a2-36da22abd4f2",
        "colab": {
          "base_uri": "https://localhost:8080/",
          "height": 34
        }
      },
      "source": [
        "import matplotlib.pyplot as plt\n",
        "import pandas as pd\n",
        "import numpy as np\n",
        "\n",
        "import tensorflow as tf\n",
        "from tensorflow.keras.layers import *\n",
        "from tensorflow.python.lib.io import file_io\n",
        "\n",
        "%matplotlib inline\n",
        "\n",
        "import keras\n",
        "from keras import backend as K\n",
        "from keras.callbacks import ModelCheckpoint, EarlyStopping\n",
        "from keras.models import load_model\n",
        "from keras.preprocessing.image import ImageDataGenerator\n",
        "from keras_vggface.vggface import VGGFace\n",
        "from keras.utils import plot_model\n",
        "from sklearn.metrics import *\n",
        "from keras.engine import Model\n",
        "from keras.layers import Input, Flatten, Dense, Activation, Conv2D, MaxPool2D, BatchNormalization, Dropout, MaxPooling2D\n",
        "import skimage\n",
        "from skimage.transform import rescale, resize\n",
        "\n",
        "import pydot"
      ],
      "execution_count": 2,
      "outputs": [
        {
          "output_type": "stream",
          "text": [
            "Using TensorFlow backend.\n"
          ],
          "name": "stderr"
        }
      ]
    },
    {
      "cell_type": "code",
      "metadata": {
        "id": "1fZczU8lGkX-",
        "colab_type": "code",
        "outputId": "67786da6-6cfd-40a3-d177-b735376866b8",
        "colab": {
          "base_uri": "https://localhost:8080/",
          "height": 122
        }
      },
      "source": [
        "from google.colab import drive\n",
        "drive.mount('/content/drive')"
      ],
      "execution_count": 3,
      "outputs": [
        {
          "output_type": "stream",
          "text": [
            "Go to this URL in a browser: https://accounts.google.com/o/oauth2/auth?client_id=947318989803-6bn6qk8qdgf4n4g3pfee6491hc0brc4i.apps.googleusercontent.com&redirect_uri=urn%3aietf%3awg%3aoauth%3a2.0%3aoob&response_type=code&scope=email%20https%3a%2f%2fwww.googleapis.com%2fauth%2fdocs.test%20https%3a%2f%2fwww.googleapis.com%2fauth%2fdrive%20https%3a%2f%2fwww.googleapis.com%2fauth%2fdrive.photos.readonly%20https%3a%2f%2fwww.googleapis.com%2fauth%2fpeopleapi.readonly\n",
            "\n",
            "Enter your authorization code:\n",
            "··········\n",
            "Mounted at /content/drive\n"
          ],
          "name": "stdout"
        }
      ]
    },
    {
      "cell_type": "code",
      "metadata": {
        "colab_type": "code",
        "id": "nUcd6yIGduUW",
        "outputId": "64214849-6134-448a-88f2-f4db9b497a92",
        "colab": {
          "base_uri": "https://localhost:8080/",
          "height": 51
        }
      },
      "source": [
        "print(tf.__version__)\n",
        "print(keras.__version__)"
      ],
      "execution_count": 4,
      "outputs": [
        {
          "output_type": "stream",
          "text": [
            "1.15.0\n",
            "2.2.5\n"
          ],
          "name": "stdout"
        }
      ]
    },
    {
      "cell_type": "code",
      "metadata": {
        "id": "v60q28mDHnN9",
        "colab_type": "code",
        "colab": {}
      },
      "source": [
        "EPOCHS = 100\n",
        "BS = 64\n",
        "DROPOUT_RATE = 0.5\n",
        "FROZEN_LAYER_NUM = 199\n",
        "\n",
        "ADAM_LEARNING_RATE = 0.001\n",
        "SGD_LEARNING_RATE = 0.01\n",
        "SGD_DECAY = 0.0001\n",
        "\n",
        "Resize_pixelsize = 197"
      ],
      "execution_count": 0,
      "outputs": []
    },
    {
      "cell_type": "code",
      "metadata": {
        "id": "itKZtFV0F7b1",
        "colab_type": "code",
        "outputId": "04ff3b2c-0da3-470b-f21b-4bcaa87a47a4",
        "colab": {
          "base_uri": "https://localhost:8080/",
          "height": 632
        }
      },
      "source": [
        "vgg_notop = VGGFace(model='senet50', include_top=False, input_shape=(Resize_pixelsize, Resize_pixelsize, 3), pooling='avg')\n",
        "last_layer = vgg_notop.get_layer('avg_pool').output\n",
        "x = Flatten(name='flatten')(last_layer)\n",
        "x = Dropout(DROPOUT_RATE)(x)\n",
        "x = Dense(4096, activation='relu', name='fc6')(x)\n",
        "x = Dropout(DROPOUT_RATE)(x)\n",
        "x = Dense(1024, activation='relu', name='fc7')(x)\n",
        "x = Dropout(DROPOUT_RATE)(x)\n",
        "# l=0\n",
        "# for layer in vgg_notop.layers:\n",
        "#     print(layer,\"[\"+str(l)+\"]\")\n",
        "#     l=l+1\n",
        "\n",
        "batch_norm_indices = [2, 6, 9, 12, 21, 25, 28, 31, 42, 45, 48, 59, 62, 65, 74, 78, 81, 84, 95, 98, 101, 112, 115, 118, 129, 132, 135, 144, 148, 151, 154, 165, 168, 171, 182, 185, 188, 199, 202, 205, 216, 219, 222, 233, 236, 239, 248, 252, 255, 258, 269, 272, 275]    \n",
        "for i in range(FROZEN_LAYER_NUM):\n",
        "    if i not in batch_norm_indices:\n",
        "        vgg_notop.layers[i].trainable = False\n",
        "# print('vgg layer 2 is trainable: ' + str(vgg_notop.layers[2].trainable))\n",
        "# print('vgg layer 3 is trainable: ' + str(vgg_notop.layers[3].trainable))\n",
        "\n",
        "out = Dense(7, activation='softmax', name='classifier')(x)\n",
        "\n",
        "model = Model(vgg_vgg_notop = VGGFace(model='senet50', include_top=False, input_shape=(Resize_pixelsize, Resize_pixelsize, 3), pooling='avg')\n",
        "last_layer = vgg_notop.get_layer('avg_pool').output\n",
        "x = Flatten(name='flatten')(last_layer)\n",
        "x = Dropout(DROPOUT_RATE)(x)\n",
        "x = BatchNormalization()(x)\n",
        "x = Dense(4096, activation='relu', name='fc6')(x)\n",
        "x = Dropout(DROPOUT_RATE)(x)\n",
        "x = Dense(1024, activation='relu', name='fc7')(x)\n",
        "x = Dropout(DROPOUT_RATE)(x)\n",
        "# l=0\n",
        "# for layer in vgg_notop.layers:\n",
        "#     print(layer,\"[\"+str(l)+\"]\")\n",
        "#     l=l+1\n",
        "\n",
        "batch_norm_indices = [2, 6, 9, 12, 21, 25, 28, 31, 42, 45, 48, 59, 62, 65, 74, 78, 81, 84, 95, 98, 101, 112, 115, 118, 129, 132, 135, 144, 148, 151, 154, 165, 168, 171, 182, 185, 188, 199, 202, 205, 216, 219, 222, 233, 236, 239, 248, 252, 255, 258, 269, 272, 275]    \n",
        "for i in range(FROZEN_LAYER_NUM):\n",
        "    if i not in batch_norm_indices:\n",
        "        vgg_notop.layers[i].trainable = False\n",
        "# print('vgg layer 2 is trainable: ' + str(vgg_notop.layers[2].trainable))\n",
        "# print('vgg layer 3 is trainable: ' + str(vgg_notop.layers[3].trainable))\n",
        "\n",
        "out = Dense(7, activation='softmax', name='classifier')(x)\n",
        "\n",
        "model = Model(vgg_notop.input, out)\n",
        "\n",
        "\n",
        "optim = keras.optimizers.Adam(lr=ADAM_LEARNING_RATE, beta_1=0.9, beta_2=0.999, epsilon=1e-08, decay=0.0)\n",
        "#optim = keras.optimizers.Adam(lr=0.0005, beta_1=0.9, beta_2=0.999, epsilon=1e-08, decay=0.0)\n",
        "sgd = keras.optimizers.SGD(lr=SGD_LEARNING_RATE, momentum=0.9, decay=SGD_DECAY, nesterov=True)\n",
        "\n",
        "# checkpoint\n",
        "cp_filepath='/content/drive/My Drive/cs230 project/models/final/SENET50/weights.best.hdf5'\n",
        "rlrop = keras.callbacks.ReduceLROnPlateau(monitor='val_acc',mode='max',factor=0.5, patience=10, min_lr=0.00001, verbose=1)\n",
        "checkpoint = ModelCheckpoint(cp_filepath, monitor='val_acc', verbose=1, save_best_only=True, mode='max')\n",
        "callbacks_list = [rlrop,checkpoint]\n",
        "\n",
        "model.compile(optimizer=sgd, loss='categorical_crossentropy', metrics=['accuracy'])\n",
        "# plot_model(model, to_file='model2.png', show_shapes=True)notop.input, out)\n",
        "\n",
        "\n",
        "optim = keras.optimizers.Adam(lr=ADAM_LEARNING_RATE, beta_1=0.9, beta_2=0.999, epsilon=1e-08, decay=0.0)\n",
        "#optim = keras.optimizers.Adam(lr=0.0005, beta_1=0.9, beta_2=0.999, epsilon=1e-08, decay=0.0)\n",
        "sgd = keras.optimizers.SGD(lr=SGD_LEARNING_RATE, momentum=0.9, decay=SGD_DECAY, nesterov=True)\n",
        "rlrop = keras.callbacks.ReduceLROnPlateau(monitor='val_acc',mode='max',factor=0.5, patience=10, min_lr=0.00001, verbose=1)\n",
        "\n",
        "model.compile(optimizer=sgd, loss='categorical_crossentropy', metrics=['accuracy'])\n",
        "# plot_model(model, to_file='model2.png', show_shapes=True)"
      ],
      "execution_count": 6,
      "outputs": [
        {
          "output_type": "stream",
          "text": [
            "WARNING:tensorflow:From /usr/local/lib/python3.6/dist-packages/keras/backend/tensorflow_backend.py:66: The name tf.get_default_graph is deprecated. Please use tf.compat.v1.get_default_graph instead.\n",
            "\n",
            "WARNING:tensorflow:From /usr/local/lib/python3.6/dist-packages/keras/backend/tensorflow_backend.py:541: The name tf.placeholder is deprecated. Please use tf.compat.v1.placeholder instead.\n",
            "\n",
            "WARNING:tensorflow:From /usr/local/lib/python3.6/dist-packages/keras/backend/tensorflow_backend.py:4432: The name tf.random_uniform is deprecated. Please use tf.random.uniform instead.\n",
            "\n",
            "WARNING:tensorflow:From /usr/local/lib/python3.6/dist-packages/keras/backend/tensorflow_backend.py:190: The name tf.get_default_session is deprecated. Please use tf.compat.v1.get_default_session instead.\n",
            "\n",
            "WARNING:tensorflow:From /usr/local/lib/python3.6/dist-packages/keras/backend/tensorflow_backend.py:197: The name tf.ConfigProto is deprecated. Please use tf.compat.v1.ConfigProto instead.\n",
            "\n",
            "WARNING:tensorflow:From /usr/local/lib/python3.6/dist-packages/keras/backend/tensorflow_backend.py:203: The name tf.Session is deprecated. Please use tf.compat.v1.Session instead.\n",
            "\n",
            "WARNING:tensorflow:From /usr/local/lib/python3.6/dist-packages/keras/backend/tensorflow_backend.py:207: The name tf.global_variables is deprecated. Please use tf.compat.v1.global_variables instead.\n",
            "\n",
            "WARNING:tensorflow:From /usr/local/lib/python3.6/dist-packages/keras/backend/tensorflow_backend.py:216: The name tf.is_variable_initialized is deprecated. Please use tf.compat.v1.is_variable_initialized instead.\n",
            "\n",
            "WARNING:tensorflow:From /usr/local/lib/python3.6/dist-packages/keras/backend/tensorflow_backend.py:223: The name tf.variables_initializer is deprecated. Please use tf.compat.v1.variables_initializer instead.\n",
            "\n",
            "WARNING:tensorflow:From /usr/local/lib/python3.6/dist-packages/keras/backend/tensorflow_backend.py:2041: The name tf.nn.fused_batch_norm is deprecated. Please use tf.compat.v1.nn.fused_batch_norm instead.\n",
            "\n",
            "WARNING:tensorflow:From /usr/local/lib/python3.6/dist-packages/keras/backend/tensorflow_backend.py:148: The name tf.placeholder_with_default is deprecated. Please use tf.compat.v1.placeholder_with_default instead.\n",
            "\n",
            "WARNING:tensorflow:From /usr/local/lib/python3.6/dist-packages/keras/backend/tensorflow_backend.py:4267: The name tf.nn.max_pool is deprecated. Please use tf.nn.max_pool2d instead.\n",
            "\n",
            "WARNING:tensorflow:From /usr/local/lib/python3.6/dist-packages/keras/backend/tensorflow_backend.py:4271: The name tf.nn.avg_pool is deprecated. Please use tf.nn.avg_pool2d instead.\n",
            "\n",
            "Downloading data from https://github.com/rcmalli/keras-vggface/releases/download/v2.0/rcmalli_vggface_tf_notop_senet50.h5\n",
            "104947712/104944616 [==============================] - 2s 0us/step\n",
            "WARNING:tensorflow:From /usr/local/lib/python3.6/dist-packages/keras/backend/tensorflow_backend.py:3733: calling dropout (from tensorflow.python.ops.nn_ops) with keep_prob is deprecated and will be removed in a future version.\n",
            "Instructions for updating:\n",
            "Please use `rate` instead of `keep_prob`. Rate should be set to `rate = 1 - keep_prob`.\n",
            "WARNING:tensorflow:From /usr/local/lib/python3.6/dist-packages/keras/optimizers.py:793: The name tf.train.Optimizer is deprecated. Please use tf.compat.v1.train.Optimizer instead.\n",
            "\n",
            "WARNING:tensorflow:From /usr/local/lib/python3.6/dist-packages/keras/backend/tensorflow_backend.py:3576: The name tf.log is deprecated. Please use tf.math.log instead.\n",
            "\n"
          ],
          "name": "stdout"
        }
      ]
    },
    {
      "cell_type": "code",
      "metadata": {
        "id": "v0mXUNZB-yI5",
        "colab_type": "code",
        "colab": {}
      },
      "source": [
        "! rm -rf train; mkdir train\n",
        "! unzip -q '/content/drive/My Drive/cs230 project/dataset/emotion.zip' -d train\n",
        "! unzip -q '/content/drive/My Drive/cs230 project/dataset/facesdb.zip' -d train\n",
        "! unzip -q '/content/drive/My Drive/cs230 project/dataset/fer2013/train.zip' -d train\n",
        "! unzip -q '/content/drive/My Drive/cs230 project/dataset/googlesearch.zip' -d train\n",
        "! unzip -q '/content/drive/My Drive/cs230 project/dataset/googleset.zip' -d train\n",
        "! unzip -q '/content/drive/My Drive/cs230 project/dataset/jaffe.zip' -d train\n",
        "! unzip -q '/content/drive/My Drive/cs230 project/dataset/umea.zip' -d train"
      ],
      "execution_count": 0,
      "outputs": []
    },
    {
      "cell_type": "code",
      "metadata": {
        "id": "TUuN9SLX_Qvl",
        "colab_type": "code",
        "colab": {}
      },
      "source": [
        "! rm -rf dev; mkdir dev\n",
        "! unzip -q '/content/drive/My Drive/cs230 project/dataset/fer2013/test-public.zip' -d dev\n",
        "! rm -rf test; mkdir test\n",
        "! unzip -q '/content/drive/My Drive/cs230 project/dataset/fer2013/test-private.zip' -d test"
      ],
      "execution_count": 0,
      "outputs": []
    },
    {
      "cell_type": "code",
      "metadata": {
        "id": "egSWDlktpwwQ",
        "colab_type": "code",
        "outputId": "a14db900-1ebe-492c-f122-894505e15bab",
        "colab": {
          "base_uri": "https://localhost:8080/",
          "height": 136
        }
      },
      "source": [
        "%%bash\n",
        "root='/content/test/'\n",
        "IFS=$(echo -en \"\\n\\b\")\n",
        "(for dir in $(ls -1 \"$root\")\n",
        "    do printf \"$dir: \" && ls -i \"$root$dir\" | wc -l\n",
        " done)"
      ],
      "execution_count": 9,
      "outputs": [
        {
          "output_type": "stream",
          "text": [
            "0 angry: 491\n",
            "1 disgust: 55\n",
            "2 fear: 528\n",
            "3 happy: 879\n",
            "4 sad: 594\n",
            "5 surprise: 416\n",
            "6 neutral: 626\n"
          ],
          "name": "stdout"
        }
      ]
    },
    {
      "cell_type": "code",
      "metadata": {
        "id": "560jefnZ_Cyq",
        "colab_type": "code",
        "colab": {}
      },
      "source": [
        "from tensorflow.keras.preprocessing.image import ImageDataGenerator\n",
        "\n",
        "def get_datagen(dataset, aug=False):\n",
        "    if aug:\n",
        "        datagen = ImageDataGenerator(\n",
        "                            rescale=1./255,\n",
        "                            featurewise_center=False,\n",
        "                            featurewise_std_normalization=False,\n",
        "                            rotation_range=10,\n",
        "                            width_shift_range=0.1,\n",
        "                            height_shift_range=0.1,\n",
        "                            zoom_range=0.1,\n",
        "                            horizontal_flip=True)\n",
        "    else:\n",
        "        datagen = ImageDataGenerator(rescale=1./255)\n",
        "\n",
        "    return datagen.flow_from_directory(\n",
        "            dataset,\n",
        "            target_size=(197, 197),\n",
        "            color_mode='rgb',\n",
        "            shuffle = True,\n",
        "            class_mode='categorical',\n",
        "            batch_size=BS)"
      ],
      "execution_count": 0,
      "outputs": []
    },
    {
      "cell_type": "code",
      "metadata": {
        "id": "4aQAGQP5_Gpl",
        "colab_type": "code",
        "outputId": "7cb53dfb-49ab-4fa6-b198-6b9b7d944cf8",
        "colab": {
          "base_uri": "https://localhost:8080/",
          "height": 102
        }
      },
      "source": [
        "train_generator  = get_datagen('/content/train', True)\n",
        "dev_generator    = get_datagen('/content/dev')\n",
        "test_generator  = get_datagen('/content/test')\n"
      ],
      "execution_count": 11,
      "outputs": [
        {
          "output_type": "stream",
          "text": [
            "/usr/local/lib/python3.6/dist-packages/keras_preprocessing/image/utils.py:173: UserWarning: Using \".tiff\" files with multiple bands will cause distortion. Please verify your output.\n",
            "  warnings.warn('Using \".tiff\" files with multiple bands '\n"
          ],
          "name": "stderr"
        },
        {
          "output_type": "stream",
          "text": [
            "Found 30452 images belonging to 7 classes.\n",
            "Found 3589 images belonging to 7 classes.\n",
            "Found 3589 images belonging to 7 classes.\n"
          ],
          "name": "stdout"
        }
      ]
    },
    {
      "cell_type": "code",
      "metadata": {
        "id": "4sFeoh3eGX_R",
        "colab_type": "code",
        "colab": {}
      },
      "source": [
        "from sklearn.utils import class_weight\n",
        "file_stream = file_io.FileIO('/content/drive/My Drive/cs230 project/collab/fer2013/dev.csv', mode='r')\n",
        "data = pd.read_csv(file_stream)\n",
        "\n",
        "#data = pd.read_csv('fer2013/fer2013.csv')\n",
        "data[' pixels'] = data[' pixels'].apply(lambda x: [int(pixel) for pixel in x.split()])\n",
        "\n",
        "# Retrieve train input and target\n",
        "X, Y = data[' pixels'].tolist(), data['emotion'].values\n",
        "\n",
        "\n",
        "class_weights = class_weight.compute_class_weight('balanced',\n",
        "                                                    np.unique(Y),\n",
        "                                                    Y)"
      ],
      "execution_count": 0,
      "outputs": []
    },
    {
      "cell_type": "code",
      "metadata": {
        "colab_type": "code",
        "id": "pLISdlaStbUn",
        "outputId": "8b0dd587-4538-4365-e70f-1d589479af57",
        "colab": {
          "base_uri": "https://localhost:8080/",
          "height": 1000
        }
      },
      "source": [
        "history = model.fit_generator(\n",
        "    generator = train_generator,\n",
        "    validation_data=dev_generator, \n",
        "    #steps_per_epoch=28709// BS,\n",
        "    #validation_steps=3509 // BS,\n",
        "    shuffle=True,\n",
        "    epochs=100,\n",
        "    callbacks=callbacks_list,\n",
        "    #callbacks=[rlrop],\n",
        "    use_multiprocessing=True,\n",
        "    class_weight=class_weights\n",
        ") "
      ],
      "execution_count": 13,
      "outputs": [
        {
          "output_type": "stream",
          "text": [
            "WARNING:tensorflow:From /tensorflow-1.15.0/python3.6/tensorflow_core/python/ops/math_grad.py:1424: where (from tensorflow.python.ops.array_ops) is deprecated and will be removed in a future version.\n",
            "Instructions for updating:\n",
            "Use tf.where in 2.0, which has the same broadcast rule as np.where\n",
            "WARNING:tensorflow:From /usr/local/lib/python3.6/dist-packages/keras/backend/tensorflow_backend.py:1033: The name tf.assign_add is deprecated. Please use tf.compat.v1.assign_add instead.\n",
            "\n",
            "WARNING:tensorflow:From /usr/local/lib/python3.6/dist-packages/keras/backend/tensorflow_backend.py:1020: The name tf.assign is deprecated. Please use tf.compat.v1.assign instead.\n",
            "\n",
            "Epoch 1/100\n",
            "238/238 [==============================] - 304s 1s/step - loss: 1.9286 - acc: 0.2698 - val_loss: 1.8309 - val_acc: 0.3062\n",
            "Epoch 2/100\n",
            "238/238 [==============================] - 293s 1s/step - loss: 1.5619 - acc: 0.3853 - val_loss: 1.7079 - val_acc: 0.3670\n",
            "Epoch 3/100\n",
            "238/238 [==============================] - 290s 1s/step - loss: 1.2920 - acc: 0.5045 - val_loss: 1.2253 - val_acc: 0.5425\n",
            "Epoch 4/100\n",
            "238/238 [==============================] - 290s 1s/step - loss: 1.0966 - acc: 0.5979 - val_loss: 1.0938 - val_acc: 0.6138\n",
            "Epoch 5/100\n",
            "238/238 [==============================] - 291s 1s/step - loss: 1.0018 - acc: 0.6344 - val_loss: 1.0025 - val_acc: 0.6225\n",
            "Epoch 6/100\n",
            "238/238 [==============================] - 290s 1s/step - loss: 0.9410 - acc: 0.6540 - val_loss: 1.0018 - val_acc: 0.6367\n",
            "Epoch 7/100\n",
            "238/238 [==============================] - 290s 1s/step - loss: 0.8925 - acc: 0.6747 - val_loss: 1.0524 - val_acc: 0.6289\n",
            "Epoch 8/100\n",
            "238/238 [==============================] - 290s 1s/step - loss: 0.8576 - acc: 0.6869 - val_loss: 0.9567 - val_acc: 0.6626\n",
            "Epoch 9/100\n",
            "238/238 [==============================] - 289s 1s/step - loss: 0.8220 - acc: 0.7035 - val_loss: 1.0365 - val_acc: 0.6397\n",
            "Epoch 10/100\n",
            "238/238 [==============================] - 290s 1s/step - loss: 0.7972 - acc: 0.7099 - val_loss: 0.9300 - val_acc: 0.6601\n",
            "Epoch 11/100\n",
            "238/238 [==============================] - 290s 1s/step - loss: 0.7684 - acc: 0.7218 - val_loss: 0.9203 - val_acc: 0.6640\n",
            "Epoch 12/100\n",
            "238/238 [==============================] - 292s 1s/step - loss: 0.7374 - acc: 0.7339 - val_loss: 0.8976 - val_acc: 0.6799\n",
            "Epoch 13/100\n",
            "238/238 [==============================] - 291s 1s/step - loss: 0.7203 - acc: 0.7388 - val_loss: 0.9236 - val_acc: 0.6637\n",
            "Epoch 14/100\n",
            "238/238 [==============================] - 292s 1s/step - loss: 0.6913 - acc: 0.7511 - val_loss: 0.9009 - val_acc: 0.6863\n",
            "Epoch 15/100\n",
            "238/238 [==============================] - 291s 1s/step - loss: 0.6752 - acc: 0.7586 - val_loss: 0.9153 - val_acc: 0.6826\n",
            "Epoch 16/100\n",
            "238/238 [==============================] - 292s 1s/step - loss: 0.6508 - acc: 0.7665 - val_loss: 0.9233 - val_acc: 0.6645\n",
            "Epoch 17/100\n",
            "238/238 [==============================] - 292s 1s/step - loss: 0.6285 - acc: 0.7754 - val_loss: 0.9636 - val_acc: 0.6799\n",
            "Epoch 18/100\n",
            "238/238 [==============================] - 297s 1s/step - loss: 0.6061 - acc: 0.7812 - val_loss: 0.9318 - val_acc: 0.6888\n",
            "Epoch 19/100\n",
            "238/238 [==============================] - 291s 1s/step - loss: 0.5843 - acc: 0.7904 - val_loss: 0.9421 - val_acc: 0.6874\n",
            "Epoch 20/100\n",
            "238/238 [==============================] - 291s 1s/step - loss: 0.5682 - acc: 0.7966 - val_loss: 0.9347 - val_acc: 0.6885\n",
            "Epoch 21/100\n",
            "238/238 [==============================] - 292s 1s/step - loss: 0.5411 - acc: 0.8054 - val_loss: 1.0244 - val_acc: 0.6651\n",
            "Epoch 22/100\n",
            "238/238 [==============================] - 293s 1s/step - loss: 0.5347 - acc: 0.8118 - val_loss: 0.9597 - val_acc: 0.6838\n",
            "Epoch 23/100\n",
            "238/238 [==============================] - 292s 1s/step - loss: 0.5034 - acc: 0.8196 - val_loss: 0.9656 - val_acc: 0.6857\n",
            "Epoch 24/100\n",
            "238/238 [==============================] - 291s 1s/step - loss: 0.4907 - acc: 0.8270 - val_loss: 0.9795 - val_acc: 0.6776\n",
            "Epoch 25/100\n",
            "238/238 [==============================] - 292s 1s/step - loss: 0.4718 - acc: 0.8317 - val_loss: 1.0614 - val_acc: 0.6640\n",
            "Epoch 26/100\n",
            "238/238 [==============================] - 292s 1s/step - loss: 0.4516 - acc: 0.8386 - val_loss: 1.1931 - val_acc: 0.6570\n",
            "Epoch 27/100\n",
            "238/238 [==============================] - 293s 1s/step - loss: 0.4353 - acc: 0.8446 - val_loss: 0.9835 - val_acc: 0.6935\n",
            "Epoch 28/100\n",
            "238/238 [==============================] - 292s 1s/step - loss: 0.4200 - acc: 0.8502 - val_loss: 1.0621 - val_acc: 0.6907\n",
            "Epoch 29/100\n",
            "238/238 [==============================] - 291s 1s/step - loss: 0.4071 - acc: 0.8572 - val_loss: 1.0959 - val_acc: 0.6812\n",
            "Epoch 30/100\n",
            "238/238 [==============================] - 291s 1s/step - loss: 0.3896 - acc: 0.8623 - val_loss: 1.0924 - val_acc: 0.6932\n",
            "Epoch 31/100\n",
            "238/238 [==============================] - 292s 1s/step - loss: 0.3767 - acc: 0.8665 - val_loss: 1.2562 - val_acc: 0.6612\n",
            "Epoch 32/100\n",
            "238/238 [==============================] - 291s 1s/step - loss: 0.3601 - acc: 0.8740 - val_loss: 1.0748 - val_acc: 0.6890\n",
            "Epoch 33/100\n",
            "238/238 [==============================] - 291s 1s/step - loss: 0.3534 - acc: 0.8744 - val_loss: 1.1720 - val_acc: 0.6832\n",
            "Epoch 34/100\n",
            "238/238 [==============================] - 293s 1s/step - loss: 0.3327 - acc: 0.8833 - val_loss: 1.2600 - val_acc: 0.6734\n",
            "Epoch 35/100\n",
            "238/238 [==============================] - 290s 1s/step - loss: 0.3240 - acc: 0.8849 - val_loss: 1.1130 - val_acc: 0.6851\n",
            "Epoch 36/100\n",
            "238/238 [==============================] - 293s 1s/step - loss: 0.3064 - acc: 0.8916 - val_loss: 1.1135 - val_acc: 0.6829\n",
            "Epoch 37/100\n",
            "238/238 [==============================] - 292s 1s/step - loss: 0.2918 - acc: 0.8976 - val_loss: 1.1713 - val_acc: 0.6776\n",
            "\n",
            "Epoch 00037: ReduceLROnPlateau reducing learning rate to 0.004999999888241291.\n",
            "Epoch 38/100\n",
            "238/238 [==============================] - 290s 1s/step - loss: 0.2315 - acc: 0.9185 - val_loss: 1.2643 - val_acc: 0.7130\n",
            "Epoch 39/100\n",
            "238/238 [==============================] - 292s 1s/step - loss: 0.2158 - acc: 0.9239 - val_loss: 1.2481 - val_acc: 0.7088\n",
            "Epoch 40/100\n",
            "238/238 [==============================] - 292s 1s/step - loss: 0.2042 - acc: 0.9305 - val_loss: 1.3244 - val_acc: 0.6927\n",
            "Epoch 41/100\n",
            "238/238 [==============================] - 291s 1s/step - loss: 0.1900 - acc: 0.9344 - val_loss: 1.3064 - val_acc: 0.7060\n",
            "Epoch 42/100\n",
            "238/238 [==============================] - 291s 1s/step - loss: 0.1853 - acc: 0.9366 - val_loss: 1.3902 - val_acc: 0.6943\n",
            "Epoch 43/100\n",
            "238/238 [==============================] - 292s 1s/step - loss: 0.1793 - acc: 0.9382 - val_loss: 1.3389 - val_acc: 0.7086\n",
            "Epoch 44/100\n",
            "238/238 [==============================] - 292s 1s/step - loss: 0.1682 - acc: 0.9421 - val_loss: 1.3948 - val_acc: 0.7063\n",
            "Epoch 45/100\n",
            "238/238 [==============================] - 291s 1s/step - loss: 0.1677 - acc: 0.9411 - val_loss: 1.4519 - val_acc: 0.6957\n",
            "Epoch 46/100\n",
            "238/238 [==============================] - 294s 1s/step - loss: 0.1614 - acc: 0.9444 - val_loss: 1.3742 - val_acc: 0.6982\n",
            "Epoch 47/100\n",
            "238/238 [==============================] - 292s 1s/step - loss: 0.1557 - acc: 0.9475 - val_loss: 1.4159 - val_acc: 0.7038\n",
            "Epoch 48/100\n",
            "238/238 [==============================] - 291s 1s/step - loss: 0.1517 - acc: 0.9480 - val_loss: 1.4185 - val_acc: 0.7097\n",
            "\n",
            "Epoch 00048: ReduceLROnPlateau reducing learning rate to 0.0024999999441206455.\n",
            "Epoch 49/100\n",
            "238/238 [==============================] - 294s 1s/step - loss: 0.1274 - acc: 0.9569 - val_loss: 1.4387 - val_acc: 0.7060\n",
            "Epoch 50/100\n",
            "238/238 [==============================] - 292s 1s/step - loss: 0.1115 - acc: 0.9598 - val_loss: 1.4947 - val_acc: 0.7122\n",
            "Epoch 51/100\n",
            "238/238 [==============================] - 297s 1s/step - loss: 0.1096 - acc: 0.9624 - val_loss: 1.5335 - val_acc: 0.7099\n",
            "Epoch 52/100\n",
            "238/238 [==============================] - 294s 1s/step - loss: 0.1083 - acc: 0.9618 - val_loss: 1.5424 - val_acc: 0.7125\n",
            "Epoch 53/100\n",
            "238/238 [==============================] - 293s 1s/step - loss: 0.1025 - acc: 0.9647 - val_loss: 1.5267 - val_acc: 0.7069\n",
            "Epoch 54/100\n",
            "238/238 [==============================] - 293s 1s/step - loss: 0.1002 - acc: 0.9650 - val_loss: 1.5535 - val_acc: 0.7122\n",
            "Epoch 55/100\n",
            "238/238 [==============================] - 292s 1s/step - loss: 0.0946 - acc: 0.9678 - val_loss: 1.5999 - val_acc: 0.7136\n",
            "Epoch 56/100\n",
            "238/238 [==============================] - 293s 1s/step - loss: 0.0994 - acc: 0.9666 - val_loss: 1.4954 - val_acc: 0.7083\n",
            "Epoch 57/100\n",
            "238/238 [==============================] - 292s 1s/step - loss: 0.0944 - acc: 0.9674 - val_loss: 1.5839 - val_acc: 0.7108\n",
            "Epoch 58/100\n",
            "238/238 [==============================] - 292s 1s/step - loss: 0.0921 - acc: 0.9691 - val_loss: 1.6673 - val_acc: 0.7127\n",
            "Epoch 59/100\n",
            "238/238 [==============================] - 293s 1s/step - loss: 0.0892 - acc: 0.9695 - val_loss: 1.6237 - val_acc: 0.7105\n",
            "Epoch 60/100\n",
            "238/238 [==============================] - 293s 1s/step - loss: 0.0876 - acc: 0.9702 - val_loss: 1.6213 - val_acc: 0.7108\n",
            "Epoch 61/100\n",
            "238/238 [==============================] - 293s 1s/step - loss: 0.0861 - acc: 0.9704 - val_loss: 1.6579 - val_acc: 0.7122\n",
            "Epoch 62/100\n",
            "238/238 [==============================] - 292s 1s/step - loss: 0.0849 - acc: 0.9712 - val_loss: 1.5693 - val_acc: 0.7099\n",
            "Epoch 63/100\n",
            "238/238 [==============================] - 293s 1s/step - loss: 0.0819 - acc: 0.9714 - val_loss: 1.6248 - val_acc: 0.7116\n",
            "Epoch 64/100\n",
            "238/238 [==============================] - 291s 1s/step - loss: 0.0848 - acc: 0.9709 - val_loss: 1.7080 - val_acc: 0.7122\n",
            "Epoch 65/100\n",
            "238/238 [==============================] - 293s 1s/step - loss: 0.0825 - acc: 0.9712 - val_loss: 1.6478 - val_acc: 0.7136\n",
            "\n",
            "Epoch 00065: ReduceLROnPlateau reducing learning rate to 0.0012499999720603228.\n",
            "Epoch 66/100\n",
            "238/238 [==============================] - 292s 1s/step - loss: 0.0742 - acc: 0.9739 - val_loss: 1.6337 - val_acc: 0.7141\n",
            "Epoch 67/100\n",
            "238/238 [==============================] - 293s 1s/step - loss: 0.0664 - acc: 0.9769 - val_loss: 1.6322 - val_acc: 0.7133\n",
            "Epoch 68/100\n",
            "238/238 [==============================] - 292s 1s/step - loss: 0.0671 - acc: 0.9755 - val_loss: 1.7225 - val_acc: 0.7197\n",
            "Epoch 69/100\n",
            "238/238 [==============================] - 292s 1s/step - loss: 0.0623 - acc: 0.9777 - val_loss: 1.7324 - val_acc: 0.7152\n",
            "Epoch 70/100\n",
            "238/238 [==============================] - 293s 1s/step - loss: 0.0677 - acc: 0.9764 - val_loss: 1.7170 - val_acc: 0.7169\n",
            "Epoch 71/100\n",
            "238/238 [==============================] - 293s 1s/step - loss: 0.0628 - acc: 0.9771 - val_loss: 1.7341 - val_acc: 0.7169\n",
            "Epoch 72/100\n",
            "238/238 [==============================] - 293s 1s/step - loss: 0.0613 - acc: 0.9774 - val_loss: 1.7655 - val_acc: 0.7158\n",
            "Epoch 73/100\n",
            "238/238 [==============================] - 293s 1s/step - loss: 0.0655 - acc: 0.9760 - val_loss: 1.7788 - val_acc: 0.7180\n",
            "Epoch 74/100\n",
            "238/238 [==============================] - 293s 1s/step - loss: 0.0577 - acc: 0.9798 - val_loss: 1.7498 - val_acc: 0.7158\n",
            "Epoch 75/100\n",
            "238/238 [==============================] - 293s 1s/step - loss: 0.0618 - acc: 0.9788 - val_loss: 1.7415 - val_acc: 0.7205\n",
            "Epoch 76/100\n",
            "238/238 [==============================] - 292s 1s/step - loss: 0.0593 - acc: 0.9779 - val_loss: 1.7481 - val_acc: 0.7186\n",
            "Epoch 77/100\n",
            "238/238 [==============================] - 292s 1s/step - loss: 0.0566 - acc: 0.9813 - val_loss: 1.7929 - val_acc: 0.7133\n",
            "Epoch 78/100\n",
            "238/238 [==============================] - 298s 1s/step - loss: 0.0624 - acc: 0.9783 - val_loss: 1.7912 - val_acc: 0.7138\n",
            "Epoch 79/100\n",
            "Epoch 78/100\n",
            "238/238 [==============================] - 298s 1s/step - loss: 0.0610 - acc: 0.9783 - val_loss: 1.7777 - val_acc: 0.7169\n",
            "Epoch 80/100\n",
            "238/238 [==============================] - 298s 1s/step - loss: 0.0587 - acc: 0.9793 - val_loss: 1.7775 - val_acc: 0.7166\n",
            "Epoch 81/100\n",
            "238/238 [==============================] - 297s 1s/step - loss: 0.0540 - acc: 0.9808 - val_loss: 1.8083 - val_acc: 0.7141\n",
            "Epoch 82/100\n",
            "238/238 [==============================] - 299s 1s/step - loss: 0.0578 - acc: 0.9793 - val_loss: 1.7897 - val_acc: 0.7133\n",
            "Epoch 83/100\n",
            "238/238 [==============================] - 298s 1s/step - loss: 0.0540 - acc: 0.9814 - val_loss: 1.8114 - val_acc: 0.7105\n",
            "Epoch 84/100\n",
            "238/238 [==============================] - 298s 1s/step - loss: 0.0589 - acc: 0.9799 - val_loss: 1.7968 - val_acc: 0.7125\n",
            "Epoch 85/100\n",
            "238/238 [==============================] - 299s 1s/step - loss: 0.0549 - acc: 0.9804 - val_loss: 1.8346 - val_acc: 0.7138\n",
            "\n",
            "Epoch 00085: ReduceLROnPlateau reducing learning rate to 0.0006249999860301614.\n",
            "Epoch 86/100\n",
            "238/238 [==============================] - 299s 1s/step - loss: 0.0529 - acc: 0.9809 - val_loss: 1.8162 - val_acc: 0.7197\n",
            "Epoch 87/100\n",
            "238/238 [==============================] - 296s 1s/step - loss: 0.0543 - acc: 0.9810 - val_loss: 1.7974 - val_acc: 0.7164\n",
            "Epoch 88/100\n",
            "238/238 [==============================] - 293s 1s/step - loss: 0.0497 - acc: 0.9826 - val_loss: 1.8164 - val_acc: 0.7122\n",
            "Epoch 89/100\n",
            "238/238 [==============================] - 297s 1s/step - loss: 0.0481 - acc: 0.9832 - val_loss: 1.8189 - val_acc: 0.7122\n",
            "Epoch 90/100\n",
            "238/238 [==============================] - 297s 1s/step - loss: 0.0507 - acc: 0.9824 - val_loss: 1.8363 - val_acc: 0.7150\n",
            "Epoch 91/100\n",
            "\n",
            "238/238 [==============================] - 297s 1s/step - loss: 0.0464 - acc: 0.9830 - val_loss: 1.8458 - val_acc: 0.7133\n",
            "Epoch 92/100\n",
            "238/238 [==============================] - 297s 1s/step - loss: 0.0491 - acc: 0.9820 - val_loss: 1.8683 - val_acc: 0.7180\n",
            "Epoch 93/100\n",
            "238/238 [==============================] - 295s 1s/step - loss: 0.0491 - acc: 0.9826 - val_loss: 1.8522 - val_acc: 0.7158\n",
            "Epoch 94/100\n",
            "238/238 [==============================] - 294s 1s/step - loss: 0.0460 - acc: 0.9836 - val_loss: 1.8493 - val_acc: 0.7200\n",
            "Epoch 95/100\n",
            "238/238 [==============================] - 295s 1s/step - loss: 0.0478 - acc: 0.9836 - val_loss: 1.8648 - val_acc: 0.7164\n",
            "\n",
            "Epoch 00095: ReduceLROnPlateau reducing learning rate to 0.0003124999930150807.\n",
            "Epoch 96/100\n",
            "238/238 [==============================] - 296s 1s/step - loss: 0.0476 - acc: 0.9833 - val_loss: 1.8551 - val_acc: 0.7166\n",
            "Epoch 97/100\n",
            "238/238 [==============================] - 296s 1s/step - loss: 0.0472 - acc: 0.9825 - val_loss: 1.8611 - val_acc: 0.7166\n",
            "Epoch 98/100\n",
            "238/238 [==============================] - 294s 1s/step - loss: 0.0470 - acc: 0.9833 - val_loss: 1.8692 - val_acc: 0.7147\n",
            "Epoch 99/100\n",
            "238/238 [==============================] - 295s 1s/step - loss: 0.0443 - acc: 0.9843 - val_loss: 1.8743 - val_acc: 0.7158\n",
            "Epoch 100/100\n",
            "238/238 [==============================] - 297s 1s/step - loss: 0.0467 - acc: 0.9832 - val_loss: 1.8815 - val_acc: 0.7133\n"
          ],
          "name": "stdout"
        }
      ]
    },
    {
      "cell_type": "code",
      "metadata": {
        "id": "JSSv08SHF0bC",
        "colab_type": "code",
        "colab": {
          "base_uri": "https://localhost:8080/",
          "height": 68
        },
        "outputId": "4a627349-854b-4df6-9009-331ca7bbc604"
      },
      "source": [
        "print('\\n# Evaluate on dev data')\n",
        "results_dev = model.evaluate_generator(dev_generator, 3509 // BS)\n",
        "print('dev loss, dev acc:', results_dev)"
      ],
      "execution_count": 14,
      "outputs": [
        {
          "output_type": "stream",
          "text": [
            "\n",
            "# Evaluate on dev data\n",
            "dev loss, dev acc: [1.8830583846127544, 0.7135416666666666]\n"
          ],
          "name": "stdout"
        }
      ]
    },
    {
      "cell_type": "code",
      "metadata": {
        "id": "Ev4sDYDlOsqk",
        "colab_type": "code",
        "colab": {
          "base_uri": "https://localhost:8080/",
          "height": 68
        },
        "outputId": "fad7c216-c266-4f76-ce47-fd8c2d194d96"
      },
      "source": [
        "print('\\n# Evaluate on test data')\n",
        "results_test = model.evaluate_generator(test_generator, 3509 // BS)\n",
        "print('test loss, test acc:', results_test)"
      ],
      "execution_count": 15,
      "outputs": [
        {
          "output_type": "stream",
          "text": [
            "\n",
            "# Evaluate on test data\n",
            "test loss, test acc: [1.8335271411471896, 0.7155671296296297]\n"
          ],
          "name": "stdout"
        }
      ]
    },
    {
      "cell_type": "code",
      "metadata": {
        "id": "m9f7smhHUQus",
        "colab_type": "code",
        "colab": {
          "base_uri": "https://localhost:8080/",
          "height": 590
        },
        "outputId": "aaab3605-a12b-4fb8-834a-9993a91402f4"
      },
      "source": [
        "# list all data in history\n",
        "print(history.history.keys())\n",
        "# summarize history for accuracy\n",
        "plt.plot(history.history['acc'])\n",
        "plt.plot(history.history['val_acc'])\n",
        "plt.title('model accuracy')\n",
        "plt.ylabel('accuracy')\n",
        "plt.xlabel('epoch')\n",
        "plt.legend(['train', 'dev'], loc='upper left')\n",
        "plt.show()\n",
        "# summarize history for loss\n",
        "plt.plot(history.history['loss'])\n",
        "plt.plot(history.history['val_loss'])\n",
        "plt.title('model loss')\n",
        "plt.ylabel('loss')\n",
        "plt.xlabel('epoch')\n",
        "plt.legend(['train', 'dev'], loc='upper left')\n",
        "plt.show()"
      ],
      "execution_count": 16,
      "outputs": [
        {
          "output_type": "stream",
          "text": [
            "dict_keys(['val_loss', 'val_acc', 'loss', 'acc', 'lr'])\n"
          ],
          "name": "stdout"
        },
        {
          "output_type": "display_data",
          "data": {
            "image/png": "[encoded data removed]",
            "text/plain": [
              "<Figure size 432x288 with 1 Axes>"
            ]
          },
          "metadata": {
            "tags": []
          }
        },
        {
          "output_type": "display_data",
          "data": {
            "image/png": "[encoded data removed]",
            "text/plain": [
              "<Figure size 432x288 with 1 Axes>"
            ]
          },
          "metadata": {
            "tags": []
          }
        }
      ]
    },
    {
      "cell_type": "code",
      "metadata": {
        "id": "F-QKHTmJQhi1",
        "colab_type": "code",
        "colab": {}
      },
      "source": [
        "epoch_str = '-EPOCHS_' + str(EPOCHS)\n",
        "test_acc = 'test_acc_%.3f' % results_test[1]\n",
        "model.save('/content/drive/My Drive/cs230 project/models/final/' + 'SENET50-WCW-' + epoch_str + test_acc + '.h5')"
      ],
      "execution_count": 0,
      "outputs": []
    },
    {
      "cell_type": "code",
      "metadata": {
        "id": "yJceV2fuFEfQ",
        "colab_type": "code",
        "colab": {}
      },
      "source": [
        ""
      ],
      "execution_count": 0,
      "outputs": []
    }
  ]
}