{
  "nbformat": 4,
  "nbformat_minor": 0,
  "metadata": {
    "accelerator": "GPU",
    "colab": {
      "name": "fer2013.ipynb",
      "provenance": [],
      "collapsed_sections": [],
      "machine_shape": "hm",
      "include_colab_link": true
    },
    "kernelspec": {
      "display_name": "Environment (conda_tensorflow_p36)",
      "language": "python",
      "name": "conda_tensorflow_p36"
    },
    "language_info": {
      "codemirror_mode": {
        "name": "ipython",
        "version": 3
      },
      "file_extension": ".py",
      "mimetype": "text/x-python",
      "name": "python",
      "nbconvert_exporter": "python",
      "pygments_lexer": "ipython3",
      "version": "3.6.5"
    }
  },
  "cells": [
    {
      "cell_type": "markdown",
      "metadata": {
        "id": "view-in-github",
        "colab_type": "text"
      },
      "source": [
        "<a href=\"https://colab.research.google.com/github/amilkh/cs230-fer/blob/transfer-learning/Final-ResNet50.ipynb\" target=\"_parent\"><img src=\"https://colab.research.google.com/assets/colab-badge.svg\" alt=\"Open In Colab\"/></a>"
      ]
    },
    {
      "cell_type": "code",
      "metadata": {
        "colab_type": "code",
        "id": "gwdg7Sv3XBaP",
        "outputId": "20cf0c2d-8ed1-408a-9899-9f457b68b45a",
        "colab": {
          "base_uri": "https://localhost:8080/",
          "height": 577
        }
      },
      "source": [
        "%tensorflow_version 1.x\n",
        "!pip install keras-vggface\n",
        "!pip install scikit-image\n",
        "!pip install pydot"
      ],
      "execution_count": 1,
      "outputs": [
        {
          "output_type": "stream",
          "text": [
            "Collecting keras-vggface\n",
            "  Downloading https://files.pythonhosted.org/packages/2f/7d/5f0319ebdc09ac1a2272364fa9583f5067b6f8aff93fbbf8835d81cbaad7/keras_vggface-0.6-py3-none-any.whl\n",
            "Requirement already satisfied: numpy>=1.9.1 in /usr/local/lib/python3.6/dist-packages (from keras-vggface) (1.18.1)\n",
            "Requirement already satisfied: keras in /usr/local/lib/python3.6/dist-packages (from keras-vggface) (2.2.5)\n",
            "Requirement already satisfied: pillow in /usr/local/lib/python3.6/dist-packages (from keras-vggface) (7.0.0)\n",
            "Requirement already satisfied: h5py in /usr/local/lib/python3.6/dist-packages (from keras-vggface) (2.8.0)\n",
            "Requirement already satisfied: scipy>=0.14 in /usr/local/lib/python3.6/dist-packages (from keras-vggface) (1.4.1)\n",
            "Requirement already satisfied: pyyaml in /usr/local/lib/python3.6/dist-packages (from keras-vggface) (3.13)\n",
            "Requirement already satisfied: six>=1.9.0 in /usr/local/lib/python3.6/dist-packages (from keras-vggface) (1.12.0)\n",
            "Requirement already satisfied: keras-applications>=1.0.8 in /usr/local/lib/python3.6/dist-packages (from keras->keras-vggface) (1.0.8)\n",
            "Requirement already satisfied: keras-preprocessing>=1.1.0 in /usr/local/lib/python3.6/dist-packages (from keras->keras-vggface) (1.1.0)\n",
            "Installing collected packages: keras-vggface\n",
            "Successfully installed keras-vggface-0.6\n",
            "Requirement already satisfied: scikit-image in /usr/local/lib/python3.6/dist-packages (0.16.2)\n",
            "Requirement already satisfied: matplotlib!=3.0.0,>=2.0.0 in /usr/local/lib/python3.6/dist-packages (from scikit-image) (3.2.0)\n",
            "Requirement already satisfied: networkx>=2.0 in /usr/local/lib/python3.6/dist-packages (from scikit-image) (2.4)\n",
            "Requirement already satisfied: scipy>=0.19.0 in /usr/local/lib/python3.6/dist-packages (from scikit-image) (1.4.1)\n",
            "Requirement already satisfied: pillow>=4.3.0 in /usr/local/lib/python3.6/dist-packages (from scikit-image) (7.0.0)\n",
            "Requirement already satisfied: PyWavelets>=0.4.0 in /usr/local/lib/python3.6/dist-packages (from scikit-image) (1.1.1)\n",
            "Requirement already satisfied: imageio>=2.3.0 in /usr/local/lib/python3.6/dist-packages (from scikit-image) (2.4.1)\n",
            "Requirement already satisfied: cycler>=0.10 in /usr/local/lib/python3.6/dist-packages (from matplotlib!=3.0.0,>=2.0.0->scikit-image) (0.10.0)\n",
            "Requirement already satisfied: pyparsing!=2.0.4,!=2.1.2,!=2.1.6,>=2.0.1 in /usr/local/lib/python3.6/dist-packages (from matplotlib!=3.0.0,>=2.0.0->scikit-image) (2.4.6)\n",
            "Requirement already satisfied: kiwisolver>=1.0.1 in /usr/local/lib/python3.6/dist-packages (from matplotlib!=3.0.0,>=2.0.0->scikit-image) (1.1.0)\n",
            "Requirement already satisfied: numpy>=1.11 in /usr/local/lib/python3.6/dist-packages (from matplotlib!=3.0.0,>=2.0.0->scikit-image) (1.18.1)\n",
            "Requirement already satisfied: python-dateutil>=2.1 in /usr/local/lib/python3.6/dist-packages (from matplotlib!=3.0.0,>=2.0.0->scikit-image) (2.8.1)\n",
            "Requirement already satisfied: decorator>=4.3.0 in /usr/local/lib/python3.6/dist-packages (from networkx>=2.0->scikit-image) (4.4.2)\n",
            "Requirement already satisfied: six in /usr/local/lib/python3.6/dist-packages (from cycler>=0.10->matplotlib!=3.0.0,>=2.0.0->scikit-image) (1.12.0)\n",
            "Requirement already satisfied: setuptools in /usr/local/lib/python3.6/dist-packages (from kiwisolver>=1.0.1->matplotlib!=3.0.0,>=2.0.0->scikit-image) (45.2.0)\n",
            "Requirement already satisfied: pydot in /usr/local/lib/python3.6/dist-packages (1.3.0)\n",
            "Requirement already satisfied: pyparsing>=2.1.4 in /usr/local/lib/python3.6/dist-packages (from pydot) (2.4.6)\n"
          ],
          "name": "stdout"
        }
      ]
    },
    {
      "cell_type": "code",
      "metadata": {
        "colab_type": "code",
        "id": "2nz38mJZXN_P",
        "outputId": "bc8c996d-150d-4748-c8d8-6395aecdf088",
        "colab": {
          "base_uri": "https://localhost:8080/",
          "height": 35
        }
      },
      "source": [
        "import matplotlib.pyplot as plt\n",
        "import pandas as pd\n",
        "import numpy as np\n",
        "\n",
        "import tensorflow as tf\n",
        "from tensorflow.keras.layers import *\n",
        "from tensorflow.python.lib.io import file_io\n",
        "\n",
        "%matplotlib inline\n",
        "\n",
        "import keras\n",
        "from keras import backend as K\n",
        "from keras.callbacks import ModelCheckpoint, EarlyStopping\n",
        "from keras.models import load_model\n",
        "from keras.preprocessing.image import ImageDataGenerator\n",
        "from keras_vggface.vggface import VGGFace\n",
        "from keras.utils import plot_model\n",
        "from sklearn.metrics import *\n",
        "from keras.engine import Model\n",
        "from keras.layers import Input, Flatten, Dense, Activation, Conv2D, MaxPool2D, BatchNormalization, Dropout, MaxPooling2D\n",
        "import skimage\n",
        "from skimage.transform import rescale, resize\n",
        "\n",
        "import pydot"
      ],
      "execution_count": 2,
      "outputs": [
        {
          "output_type": "stream",
          "text": [
            "Using TensorFlow backend.\n"
          ],
          "name": "stderr"
        }
      ]
    },
    {
      "cell_type": "code",
      "metadata": {
        "id": "1fZczU8lGkX-",
        "colab_type": "code",
        "outputId": "b725b0f0-7f5d-4632-dba8-10deccf6211c",
        "colab": {
          "base_uri": "https://localhost:8080/",
          "height": 127
        }
      },
      "source": [
        "from google.colab import drive\n",
        "drive.mount('/content/drive')"
      ],
      "execution_count": 3,
      "outputs": [
        {
          "output_type": "stream",
          "text": [
            "Go to this URL in a browser: https://accounts.google.com/o/oauth2/auth?client_id=947318989803-6bn6qk8qdgf4n4g3pfee6491hc0brc4i.apps.googleusercontent.com&redirect_uri=urn%3aietf%3awg%3aoauth%3a2.0%3aoob&response_type=code&scope=email%20https%3a%2f%2fwww.googleapis.com%2fauth%2fdocs.test%20https%3a%2f%2fwww.googleapis.com%2fauth%2fdrive%20https%3a%2f%2fwww.googleapis.com%2fauth%2fdrive.photos.readonly%20https%3a%2f%2fwww.googleapis.com%2fauth%2fpeopleapi.readonly\n",
            "\n",
            "Enter your authorization code:\n",
            "··········\n",
            "Mounted at /content/drive\n"
          ],
          "name": "stdout"
        }
      ]
    },
    {
      "cell_type": "code",
      "metadata": {
        "colab_type": "code",
        "id": "nUcd6yIGduUW",
        "outputId": "ce90e871-1fe9-4451-deaa-83f1e80ca4e6",
        "colab": {
          "base_uri": "https://localhost:8080/",
          "height": 53
        }
      },
      "source": [
        "print(tf.__version__)\n",
        "print(keras.__version__)"
      ],
      "execution_count": 4,
      "outputs": [
        {
          "output_type": "stream",
          "text": [
            "1.15.0\n",
            "2.2.5\n"
          ],
          "name": "stdout"
        }
      ]
    },
    {
      "cell_type": "code",
      "metadata": {
        "id": "v60q28mDHnN9",
        "colab_type": "code",
        "colab": {}
      },
      "source": [
        "EPOCHS = 50\n",
        "BS = 128\n",
        "DROPOUT_RATE = 0.5\n",
        "FROZEN_LAYER_NUM = 170\n",
        "\n",
        "ADAM_LEARNING_RATE = 0.001\n",
        "SGD_LEARNING_RATE = 0.01\n",
        "SGD_DECAY = 0.0001\n",
        "\n",
        "Resize_pixelsize = 197"
      ],
      "execution_count": 0,
      "outputs": []
    },
    {
      "cell_type": "code",
      "metadata": {
        "id": "itKZtFV0F7b1",
        "colab_type": "code",
        "outputId": "13abf174-0e47-4256-b488-be0d5c04248e",
        "colab": {
          "base_uri": "https://localhost:8080/",
          "height": 667
        }
      },
      "source": [
        "vgg_notop = VGGFace(model='resnet50', include_top=False, input_shape=(Resize_pixelsize, Resize_pixelsize, 3), pooling='avg')\n",
        "last_layer = vgg_notop.get_layer('avg_pool').output\n",
        "x = Flatten(name='flatten')(last_layer)\n",
        "x = Dropout(DROPOUT_RATE)(x)\n",
        "x = Dense(4096, activation='relu', name='fc6')(x)\n",
        "x = Dropout(DROPOUT_RATE)(x)\n",
        "x = Dense(1024, activation='relu', name='fc7')(x)\n",
        "x = Dropout(DROPOUT_RATE)(x)\n",
        "# l=0\n",
        "# for layer in vgg_notop.layers:\n",
        "#     print(layer,\"[\"+str(l)+\"]\")\n",
        "#     l=l+1\n",
        "    \n",
        "batch_norm_indices = [2, 6, 9, 13, 14, 18, 21, 24, 28, 31, 34, 38, 41, 45, 46, 53, 56, 60, 63, 66, 70, 73, 76, 80, 83, 87, 88, 92, 95, 98, 102, 105, 108, 112, 115, 118, 122, 125, 128, 132, 135, 138, 142, 145, 149, 150, 154, 157, 160, 164, 167, 170]\n",
        "for i in range(FROZEN_LAYER_NUM):\n",
        "    if i not in batch_norm_indices:\n",
        "        vgg_notop.layers[i].trainable = False\n",
        "# print('vgg layer 2 is trainable: ' + str(vgg_notop.layers[2].trainable))\n",
        "# print('vgg layer 3 is trainable: ' + str(vgg_notop.layers[3].trainable))\n",
        "\n",
        "out = Dense(7, activation='softmax', name='classifier')(x)\n",
        "\n",
        "model = Model(vgg_notop.input, out)\n",
        "\n",
        "\n",
        "optim = keras.optimizers.Adam(lr=ADAM_LEARNING_RATE, beta_1=0.9, beta_2=0.999, epsilon=1e-08, decay=0.0)\n",
        "#optim = keras.optimizers.Adam(lr=0.0005, beta_1=0.9, beta_2=0.999, epsilon=1e-08, decay=0.0)\n",
        "sgd = keras.optimizers.SGD(lr=SGD_LEARNING_RATE, momentum=0.9, decay=SGD_DECAY, nesterov=True)\n",
        "rlrop = keras.callbacks.ReduceLROnPlateau(monitor='val_acc',mode='max',factor=0.5, patience=10, min_lr=0.00001, verbose=1)\n",
        "\n",
        "model.compile(optimizer=sgd, loss='categorical_crossentropy', metrics=['accuracy'])\n",
        "# plot_model(model, to_file='model2.png', show_shapes=True)"
      ],
      "execution_count": 6,
      "outputs": [
        {
          "output_type": "stream",
          "text": [
            "WARNING:tensorflow:From /usr/local/lib/python3.6/dist-packages/keras/backend/tensorflow_backend.py:66: The name tf.get_default_graph is deprecated. Please use tf.compat.v1.get_default_graph instead.\n",
            "\n",
            "WARNING:tensorflow:From /usr/local/lib/python3.6/dist-packages/keras/backend/tensorflow_backend.py:541: The name tf.placeholder is deprecated. Please use tf.compat.v1.placeholder instead.\n",
            "\n",
            "WARNING:tensorflow:From /usr/local/lib/python3.6/dist-packages/keras/backend/tensorflow_backend.py:4432: The name tf.random_uniform is deprecated. Please use tf.random.uniform instead.\n",
            "\n",
            "WARNING:tensorflow:From /usr/local/lib/python3.6/dist-packages/keras/backend/tensorflow_backend.py:190: The name tf.get_default_session is deprecated. Please use tf.compat.v1.get_default_session instead.\n",
            "\n",
            "WARNING:tensorflow:From /usr/local/lib/python3.6/dist-packages/keras/backend/tensorflow_backend.py:197: The name tf.ConfigProto is deprecated. Please use tf.compat.v1.ConfigProto instead.\n",
            "\n",
            "WARNING:tensorflow:From /usr/local/lib/python3.6/dist-packages/keras/backend/tensorflow_backend.py:203: The name tf.Session is deprecated. Please use tf.compat.v1.Session instead.\n",
            "\n",
            "WARNING:tensorflow:From /usr/local/lib/python3.6/dist-packages/keras/backend/tensorflow_backend.py:207: The name tf.global_variables is deprecated. Please use tf.compat.v1.global_variables instead.\n",
            "\n",
            "WARNING:tensorflow:From /usr/local/lib/python3.6/dist-packages/keras/backend/tensorflow_backend.py:216: The name tf.is_variable_initialized is deprecated. Please use tf.compat.v1.is_variable_initialized instead.\n",
            "\n",
            "WARNING:tensorflow:From /usr/local/lib/python3.6/dist-packages/keras/backend/tensorflow_backend.py:223: The name tf.variables_initializer is deprecated. Please use tf.compat.v1.variables_initializer instead.\n",
            "\n",
            "WARNING:tensorflow:From /usr/local/lib/python3.6/dist-packages/keras/backend/tensorflow_backend.py:2041: The name tf.nn.fused_batch_norm is deprecated. Please use tf.compat.v1.nn.fused_batch_norm instead.\n",
            "\n",
            "WARNING:tensorflow:From /usr/local/lib/python3.6/dist-packages/keras/backend/tensorflow_backend.py:148: The name tf.placeholder_with_default is deprecated. Please use tf.compat.v1.placeholder_with_default instead.\n",
            "\n",
            "WARNING:tensorflow:From /usr/local/lib/python3.6/dist-packages/keras/backend/tensorflow_backend.py:4267: The name tf.nn.max_pool is deprecated. Please use tf.nn.max_pool2d instead.\n",
            "\n",
            "WARNING:tensorflow:From /usr/local/lib/python3.6/dist-packages/keras/backend/tensorflow_backend.py:4271: The name tf.nn.avg_pool is deprecated. Please use tf.nn.avg_pool2d instead.\n",
            "\n",
            "Downloading data from https://github.com/rcmalli/keras-vggface/releases/download/v2.0/rcmalli_vggface_tf_notop_resnet50.h5\n",
            "94699520/94694792 [==============================] - 1s 0us/step\n",
            "WARNING:tensorflow:From /usr/local/lib/python3.6/dist-packages/keras/backend/tensorflow_backend.py:3733: calling dropout (from tensorflow.python.ops.nn_ops) with keep_prob is deprecated and will be removed in a future version.\n",
            "Instructions for updating:\n",
            "Please use `rate` instead of `keep_prob`. Rate should be set to `rate = 1 - keep_prob`.\n",
            "WARNING:tensorflow:From /usr/local/lib/python3.6/dist-packages/keras/optimizers.py:793: The name tf.train.Optimizer is deprecated. Please use tf.compat.v1.train.Optimizer instead.\n",
            "\n",
            "WARNING:tensorflow:From /usr/local/lib/python3.6/dist-packages/keras/backend/tensorflow_backend.py:3576: The name tf.log is deprecated. Please use tf.math.log instead.\n",
            "\n"
          ],
          "name": "stdout"
        }
      ]
    },
    {
      "cell_type": "code",
      "metadata": {
        "id": "v0mXUNZB-yI5",
        "colab_type": "code",
        "colab": {}
      },
      "source": [
        "! rm -rf train; mkdir train\n",
        "! unzip -q '/content/drive/My Drive/cs230 project/dataset/emotion.zip' -d train\n",
        "! unzip -q '/content/drive/My Drive/cs230 project/dataset/facesdb.zip' -d train\n",
        "! unzip -q '/content/drive/My Drive/cs230 project/dataset/fer2013/train.zip' -d train\n",
        "! unzip -q '/content/drive/My Drive/cs230 project/dataset/googlesearch.zip' -d train\n",
        "! unzip -q '/content/drive/My Drive/cs230 project/dataset/googleset.zip' -d train\n",
        "! unzip -q '/content/drive/My Drive/cs230 project/dataset/jaffe.zip' -d train\n",
        "! unzip -q '/content/drive/My Drive/cs230 project/dataset/umea.zip' -d train"
      ],
      "execution_count": 0,
      "outputs": []
    },
    {
      "cell_type": "code",
      "metadata": {
        "id": "TUuN9SLX_Qvl",
        "colab_type": "code",
        "colab": {}
      },
      "source": [
        "! rm -rf dev; mkdir dev\n",
        "! unzip -q '/content/drive/My Drive/cs230 project/dataset/fer2013/test-public.zip' -d dev\n",
        "! rm -rf test; mkdir test\n",
        "! unzip -q '/content/drive/My Drive/cs230 project/dataset/fer2013/test-private.zip' -d test"
      ],
      "execution_count": 0,
      "outputs": []
    },
    {
      "cell_type": "code",
      "metadata": {
        "id": "560jefnZ_Cyq",
        "colab_type": "code",
        "colab": {}
      },
      "source": [
        "from tensorflow.keras.preprocessing.image import ImageDataGenerator\n",
        "\n",
        "def get_datagen(dataset, aug=False):\n",
        "    if aug:\n",
        "        datagen = ImageDataGenerator(\n",
        "                            rescale=1./255,\n",
        "                            featurewise_center=False,\n",
        "                            featurewise_std_normalization=False,\n",
        "                            rotation_range=10,\n",
        "                            width_shift_range=0.1,\n",
        "                            height_shift_range=0.1,\n",
        "                            zoom_range=0.1,\n",
        "                            horizontal_flip=True)\n",
        "    else:\n",
        "        datagen = ImageDataGenerator(rescale=1./255)\n",
        "\n",
        "    return datagen.flow_from_directory(\n",
        "            dataset,\n",
        "            target_size=(197, 197),\n",
        "            color_mode='rgb',\n",
        "            shuffle = True,\n",
        "            class_mode='categorical',\n",
        "            batch_size=BS)"
      ],
      "execution_count": 0,
      "outputs": []
    },
    {
      "cell_type": "code",
      "metadata": {
        "id": "4aQAGQP5_Gpl",
        "colab_type": "code",
        "outputId": "db5b5ad2-5910-4bea-8a51-ca2bb6282371",
        "colab": {
          "base_uri": "https://localhost:8080/",
          "height": 127
        }
      },
      "source": [
        "train_generator  = get_datagen('/content/train', True)\n",
        "dev_generator    = get_datagen('/content/dev')\n",
        "test_generator  = get_datagen('/content/test')\n"
      ],
      "execution_count": 10,
      "outputs": [
        {
          "output_type": "stream",
          "text": [
            "/usr/local/lib/python3.6/dist-packages/keras_preprocessing/image/utils.py:173: UserWarning: Using \".tiff\" files with multiple bands will cause distortion. Please verify your output.\n",
            "  warnings.warn('Using \".tiff\" files with multiple bands '\n"
          ],
          "name": "stderr"
        },
        {
          "output_type": "stream",
          "text": [
            "Found 30452 images belonging to 7 classes.\n",
            "Found 3589 images belonging to 7 classes.\n",
            "Found 3589 images belonging to 7 classes.\n"
          ],
          "name": "stdout"
        }
      ]
    },
    {
      "cell_type": "code",
      "metadata": {
        "colab_type": "code",
        "id": "pLISdlaStbUn",
        "outputId": "aef860ad-1ad9-4a51-dcd2-5f01b01eae25",
        "colab": {
          "base_uri": "https://localhost:8080/",
          "height": 1000
        }
      },
      "source": [
        "history = model.fit_generator(\n",
        "    generator = train_generator,\n",
        "    validation_data=dev_generator, \n",
        "    steps_per_epoch=28709// BS,\n",
        "    validation_steps=3509 // BS,\n",
        "    shuffle=True,\n",
        "    epochs=100,\n",
        "    callbacks=[rlrop],\n",
        "    use_multiprocessing=True,\n",
        ") "
      ],
      "execution_count": 11,
      "outputs": [
        {
          "output_type": "stream",
          "text": [
            "WARNING:tensorflow:From /tensorflow-1.15.0/python3.6/tensorflow_core/python/ops/math_grad.py:1424: where (from tensorflow.python.ops.array_ops) is deprecated and will be removed in a future version.\n",
            "Instructions for updating:\n",
            "Use tf.where in 2.0, which has the same broadcast rule as np.where\n",
            "WARNING:tensorflow:From /usr/local/lib/python3.6/dist-packages/keras/backend/tensorflow_backend.py:1033: The name tf.assign_add is deprecated. Please use tf.compat.v1.assign_add instead.\n",
            "\n",
            "WARNING:tensorflow:From /usr/local/lib/python3.6/dist-packages/keras/backend/tensorflow_backend.py:1020: The name tf.assign is deprecated. Please use tf.compat.v1.assign instead.\n",
            "\n",
            "Epoch 1/100\n",
            "224/224 [==============================] - 264s 1s/step - loss: 3.0307 - acc: 0.3056 - val_loss: 1.3475 - val_acc: 0.5093\n",
            "Epoch 2/100\n",
            "224/224 [==============================] - 255s 1s/step - loss: 1.4237 - acc: 0.4558 - val_loss: 1.1940 - val_acc: 0.5665\n",
            "Epoch 3/100\n",
            "224/224 [==============================] - 252s 1s/step - loss: 1.3051 - acc: 0.5081 - val_loss: 1.1122 - val_acc: 0.5869\n",
            "Epoch 4/100\n",
            "224/224 [==============================] - 253s 1s/step - loss: 1.2342 - acc: 0.5373 - val_loss: 1.0782 - val_acc: 0.5929\n",
            "Epoch 5/100\n",
            "224/224 [==============================] - 253s 1s/step - loss: 1.1904 - acc: 0.5538 - val_loss: 1.0559 - val_acc: 0.6055\n",
            "Epoch 6/100\n",
            "224/224 [==============================] - 262s 1s/step - loss: 1.1502 - acc: 0.5674 - val_loss: 1.0280 - val_acc: 0.6175\n",
            "Epoch 7/100\n",
            "224/224 [==============================] - 268s 1s/step - loss: 1.1231 - acc: 0.5788 - val_loss: 1.0401 - val_acc: 0.6199\n",
            "Epoch 8/100\n",
            "224/224 [==============================] - 268s 1s/step - loss: 1.0945 - acc: 0.5887 - val_loss: 1.0129 - val_acc: 0.6322\n",
            "Epoch 9/100\n",
            "224/224 [==============================] - 265s 1s/step - loss: 1.0746 - acc: 0.5977 - val_loss: 1.0020 - val_acc: 0.6322\n",
            "Epoch 10/100\n",
            "224/224 [==============================] - 262s 1s/step - loss: 1.0497 - acc: 0.6030 - val_loss: 0.9763 - val_acc: 0.6415\n",
            "Epoch 11/100\n",
            "224/224 [==============================] - 257s 1s/step - loss: 1.0359 - acc: 0.6079 - val_loss: 0.9914 - val_acc: 0.6340\n",
            "Epoch 12/100\n",
            "224/224 [==============================] - 251s 1s/step - loss: 1.0236 - acc: 0.6164 - val_loss: 0.9723 - val_acc: 0.6385\n",
            "Epoch 13/100\n",
            "224/224 [==============================] - 248s 1s/step - loss: 0.9991 - acc: 0.6242 - val_loss: 0.9721 - val_acc: 0.6568\n",
            "Epoch 14/100\n",
            "224/224 [==============================] - 249s 1s/step - loss: 0.9878 - acc: 0.6316 - val_loss: 0.9484 - val_acc: 0.6535\n",
            "Epoch 15/100\n",
            "224/224 [==============================] - 250s 1s/step - loss: 0.9754 - acc: 0.6318 - val_loss: 0.9550 - val_acc: 0.6502\n",
            "Epoch 16/100\n",
            "224/224 [==============================] - 252s 1s/step - loss: 0.9711 - acc: 0.6342 - val_loss: 0.9669 - val_acc: 0.6496\n",
            "Epoch 17/100\n",
            "224/224 [==============================] - 256s 1s/step - loss: 0.9630 - acc: 0.6384 - val_loss: 0.9278 - val_acc: 0.6652\n",
            "Epoch 18/100\n",
            "224/224 [==============================] - 259s 1s/step - loss: 0.9425 - acc: 0.6484 - val_loss: 0.9613 - val_acc: 0.6481\n",
            "Epoch 19/100\n",
            "224/224 [==============================] - 265s 1s/step - loss: 0.9315 - acc: 0.6487 - val_loss: 0.9265 - val_acc: 0.6628\n",
            "Epoch 20/100\n",
            "224/224 [==============================] - 263s 1s/step - loss: 0.9185 - acc: 0.6554 - val_loss: 0.9403 - val_acc: 0.6589\n",
            "Epoch 21/100\n",
            "224/224 [==============================] - 262s 1s/step - loss: 0.9116 - acc: 0.6546 - val_loss: 0.9400 - val_acc: 0.6664\n",
            "Epoch 22/100\n",
            "224/224 [==============================] - 259s 1s/step - loss: 0.8979 - acc: 0.6619 - val_loss: 0.9314 - val_acc: 0.6646\n",
            "Epoch 23/100\n",
            "224/224 [==============================] - 261s 1s/step - loss: 0.8796 - acc: 0.6688 - val_loss: 0.9309 - val_acc: 0.6604\n",
            "Epoch 24/100\n",
            "224/224 [==============================] - 262s 1s/step - loss: 0.8941 - acc: 0.6641 - val_loss: 0.9297 - val_acc: 0.6697\n",
            "Epoch 25/100\n",
            "224/224 [==============================] - 264s 1s/step - loss: 0.8785 - acc: 0.6710 - val_loss: 0.9161 - val_acc: 0.6628\n",
            "Epoch 26/100\n",
            "224/224 [==============================] - 265s 1s/step - loss: 0.8641 - acc: 0.6742 - val_loss: 0.9165 - val_acc: 0.6712\n",
            "Epoch 27/100\n",
            "224/224 [==============================] - 263s 1s/step - loss: 0.8610 - acc: 0.6754 - val_loss: 0.9058 - val_acc: 0.6847\n",
            "Epoch 28/100\n",
            "224/224 [==============================] - 262s 1s/step - loss: 0.8579 - acc: 0.6742 - val_loss: 0.9052 - val_acc: 0.6709\n",
            "Epoch 29/100\n",
            "224/224 [==============================] - 264s 1s/step - loss: 0.8476 - acc: 0.6798 - val_loss: 0.9128 - val_acc: 0.6715\n",
            "Epoch 30/100\n",
            "224/224 [==============================] - 263s 1s/step - loss: 0.8371 - acc: 0.6855 - val_loss: 0.9003 - val_acc: 0.6806\n",
            "Epoch 31/100\n",
            "224/224 [==============================] - 258s 1s/step - loss: 0.8240 - acc: 0.6875 - val_loss: 0.9016 - val_acc: 0.6718\n",
            "Epoch 32/100\n",
            "224/224 [==============================] - 251s 1s/step - loss: 0.8181 - acc: 0.6900 - val_loss: 0.8988 - val_acc: 0.6802\n",
            "Epoch 33/100\n",
            "224/224 [==============================] - 248s 1s/step - loss: 0.8095 - acc: 0.6943 - val_loss: 0.8845 - val_acc: 0.6844\n",
            "Epoch 34/100\n",
            "224/224 [==============================] - 248s 1s/step - loss: 0.8074 - acc: 0.6950 - val_loss: 0.8790 - val_acc: 0.6883\n",
            "Epoch 35/100\n",
            "224/224 [==============================] - 247s 1s/step - loss: 0.7967 - acc: 0.7007 - val_loss: 0.9014 - val_acc: 0.6874\n",
            "Epoch 36/100\n",
            "224/224 [==============================] - 257s 1s/step - loss: 0.7953 - acc: 0.6977 - val_loss: 0.8860 - val_acc: 0.6898\n",
            "Epoch 37/100\n",
            "224/224 [==============================] - 254s 1s/step - loss: 0.7827 - acc: 0.7031 - val_loss: 0.8788 - val_acc: 0.6853\n",
            "Epoch 38/100\n",
            "224/224 [==============================] - 252s 1s/step - loss: 0.7796 - acc: 0.7078 - val_loss: 0.8690 - val_acc: 0.6877\n",
            "Epoch 39/100\n",
            "224/224 [==============================] - 262s 1s/step - loss: 0.7675 - acc: 0.7125 - val_loss: 0.8982 - val_acc: 0.6913\n",
            "Epoch 40/100\n",
            "224/224 [==============================] - 274s 1s/step - loss: 0.7690 - acc: 0.7085 - val_loss: 0.8843 - val_acc: 0.6883\n",
            "Epoch 41/100\n",
            "224/224 [==============================] - 268s 1s/step - loss: 0.7595 - acc: 0.7159 - val_loss: 0.8569 - val_acc: 0.6943\n",
            "Epoch 42/100\n",
            "224/224 [==============================] - 270s 1s/step - loss: 0.7591 - acc: 0.7132 - val_loss: 0.8915 - val_acc: 0.6901\n",
            "Epoch 43/100\n",
            "224/224 [==============================] - 272s 1s/step - loss: 0.7511 - acc: 0.7168 - val_loss: 0.8575 - val_acc: 0.6931\n",
            "Epoch 44/100\n",
            "224/224 [==============================] - 271s 1s/step - loss: 0.7498 - acc: 0.7142 - val_loss: 0.8680 - val_acc: 0.6907\n",
            "Epoch 45/100\n",
            "224/224 [==============================] - 272s 1s/step - loss: 0.7331 - acc: 0.7236 - val_loss: 0.8696 - val_acc: 0.6955\n",
            "Epoch 46/100\n",
            "224/224 [==============================] - 273s 1s/step - loss: 0.7287 - acc: 0.7226 - val_loss: 0.8712 - val_acc: 0.7006\n",
            "Epoch 47/100\n",
            "224/224 [==============================] - 274s 1s/step - loss: 0.7248 - acc: 0.7242 - val_loss: 0.8549 - val_acc: 0.6979\n",
            "Epoch 48/100\n",
            "224/224 [==============================] - 273s 1s/step - loss: 0.7198 - acc: 0.7287 - val_loss: 0.8748 - val_acc: 0.6916\n",
            "Epoch 49/100\n",
            "224/224 [==============================] - 274s 1s/step - loss: 0.7099 - acc: 0.7303 - val_loss: 0.8584 - val_acc: 0.6970\n",
            "Epoch 50/100\n",
            "224/224 [==============================] - 275s 1s/step - loss: 0.7097 - acc: 0.7316 - val_loss: 0.8558 - val_acc: 0.7021\n",
            "Epoch 51/100\n",
            "224/224 [==============================] - 274s 1s/step - loss: 0.7040 - acc: 0.7356 - val_loss: 0.8778 - val_acc: 0.6904\n",
            "Epoch 52/100\n",
            "224/224 [==============================] - 274s 1s/step - loss: 0.6876 - acc: 0.7393 - val_loss: 0.8625 - val_acc: 0.7000\n",
            "Epoch 53/100\n",
            "224/224 [==============================] - 278s 1s/step - loss: 0.6995 - acc: 0.7350 - val_loss: 0.8466 - val_acc: 0.7078\n",
            "Epoch 54/100\n",
            "224/224 [==============================] - 276s 1s/step - loss: 0.6813 - acc: 0.7393 - val_loss: 0.8658 - val_acc: 0.6991\n",
            "Epoch 55/100\n",
            "224/224 [==============================] - 274s 1s/step - loss: 0.6802 - acc: 0.7424 - val_loss: 0.8380 - val_acc: 0.7099\n",
            "Epoch 56/100\n",
            "224/224 [==============================] - 272s 1s/step - loss: 0.6724 - acc: 0.7447 - val_loss: 0.8540 - val_acc: 0.7132\n",
            "Epoch 57/100\n",
            "224/224 [==============================] - 273s 1s/step - loss: 0.6712 - acc: 0.7457 - val_loss: 0.8629 - val_acc: 0.6961\n",
            "Epoch 58/100\n",
            "224/224 [==============================] - 272s 1s/step - loss: 0.6647 - acc: 0.7498 - val_loss: 0.8555 - val_acc: 0.7048\n",
            "Epoch 59/100\n",
            "224/224 [==============================] - 273s 1s/step - loss: 0.6669 - acc: 0.7504 - val_loss: 0.8533 - val_acc: 0.7049\n",
            "Epoch 60/100\n",
            "224/224 [==============================] - 275s 1s/step - loss: 0.6603 - acc: 0.7474 - val_loss: 0.8493 - val_acc: 0.7054\n",
            "Epoch 61/100\n",
            "224/224 [==============================] - 273s 1s/step - loss: 0.6549 - acc: 0.7538 - val_loss: 0.8557 - val_acc: 0.7081\n",
            "Epoch 62/100\n",
            "224/224 [==============================] - 275s 1s/step - loss: 0.6442 - acc: 0.7571 - val_loss: 0.8458 - val_acc: 0.7081\n",
            "Epoch 63/100\n",
            "224/224 [==============================] - 277s 1s/step - loss: 0.6429 - acc: 0.7554 - val_loss: 0.8509 - val_acc: 0.7129\n",
            "Epoch 64/100\n",
            "224/224 [==============================] - 278s 1s/step - loss: 0.6356 - acc: 0.7601 - val_loss: 0.8548 - val_acc: 0.7003\n",
            "Epoch 65/100\n",
            "224/224 [==============================] - 276s 1s/step - loss: 0.6273 - acc: 0.7616 - val_loss: 0.8476 - val_acc: 0.7078\n",
            "Epoch 66/100\n",
            "224/224 [==============================] - 275s 1s/step - loss: 0.6199 - acc: 0.7670 - val_loss: 0.8439 - val_acc: 0.7177\n",
            "Epoch 67/100\n",
            "224/224 [==============================] - 278s 1s/step - loss: 0.6195 - acc: 0.7618 - val_loss: 0.8620 - val_acc: 0.7084\n",
            "Epoch 68/100\n",
            "224/224 [==============================] - 279s 1s/step - loss: 0.6112 - acc: 0.7695 - val_loss: 0.8562 - val_acc: 0.7081\n",
            "Epoch 69/100\n",
            "224/224 [==============================] - 278s 1s/step - loss: 0.6077 - acc: 0.7686 - val_loss: 0.8385 - val_acc: 0.7162\n",
            "Epoch 70/100\n",
            "224/224 [==============================] - 275s 1s/step - loss: 0.6049 - acc: 0.7696 - val_loss: 0.8461 - val_acc: 0.7102\n",
            "Epoch 71/100\n",
            "224/224 [==============================] - 274s 1s/step - loss: 0.5964 - acc: 0.7723 - val_loss: 0.8294 - val_acc: 0.7189\n",
            "Epoch 72/100\n",
            "224/224 [==============================] - 274s 1s/step - loss: 0.6086 - acc: 0.7696 - val_loss: 0.8550 - val_acc: 0.7084\n",
            "Epoch 73/100\n",
            "224/224 [==============================] - 271s 1s/step - loss: 0.5938 - acc: 0.7765 - val_loss: 0.8424 - val_acc: 0.7112\n",
            "Epoch 74/100\n",
            "224/224 [==============================] - 273s 1s/step - loss: 0.5877 - acc: 0.7788 - val_loss: 0.8511 - val_acc: 0.7081\n",
            "Epoch 75/100\n",
            "224/224 [==============================] - 273s 1s/step - loss: 0.5766 - acc: 0.7823 - val_loss: 0.8324 - val_acc: 0.7162\n",
            "Epoch 76/100\n",
            "224/224 [==============================] - 272s 1s/step - loss: 0.5801 - acc: 0.7815 - val_loss: 0.8459 - val_acc: 0.7084\n",
            "Epoch 77/100\n",
            "224/224 [==============================] - 274s 1s/step - loss: 0.5754 - acc: 0.7845 - val_loss: 0.8471 - val_acc: 0.7168\n",
            "Epoch 78/100\n",
            "224/224 [==============================] - 272s 1s/step - loss: 0.5746 - acc: 0.7846 - val_loss: 0.8631 - val_acc: 0.7057\n",
            "Epoch 79/100\n",
            "224/224 [==============================] - 274s 1s/step - loss: 0.5646 - acc: 0.7886 - val_loss: 0.8459 - val_acc: 0.7198\n",
            "Epoch 80/100\n",
            "224/224 [==============================] - 276s 1s/step - loss: 0.5736 - acc: 0.7825 - val_loss: 0.8329 - val_acc: 0.7129\n",
            "Epoch 81/100\n",
            "224/224 [==============================] - 274s 1s/step - loss: 0.5647 - acc: 0.7886 - val_loss: 0.8497 - val_acc: 0.7045\n",
            "Epoch 82/100\n",
            "224/224 [==============================] - 272s 1s/step - loss: 0.5554 - acc: 0.7896 - val_loss: 0.8637 - val_acc: 0.7081\n",
            "Epoch 83/100\n",
            "224/224 [==============================] - 272s 1s/step - loss: 0.5547 - acc: 0.7900 - val_loss: 0.8403 - val_acc: 0.7168\n",
            "Epoch 84/100\n",
            "224/224 [==============================] - 273s 1s/step - loss: 0.5368 - acc: 0.7972 - val_loss: 0.8346 - val_acc: 0.7105\n",
            "Epoch 85/100\n",
            "224/224 [==============================] - 272s 1s/step - loss: 0.5431 - acc: 0.7951 - val_loss: 0.8689 - val_acc: 0.7081\n",
            "Epoch 86/100\n",
            "224/224 [==============================] - 263s 1s/step - loss: 0.5426 - acc: 0.7951 - val_loss: 0.8410 - val_acc: 0.7099\n",
            "Epoch 87/100\n",
            "224/224 [==============================] - 272s 1s/step - loss: 0.5363 - acc: 0.7980 - val_loss: 0.8499 - val_acc: 0.7051\n",
            "Epoch 88/100\n",
            "224/224 [==============================] - 271s 1s/step - loss: 0.5384 - acc: 0.7973 - val_loss: 0.8440 - val_acc: 0.7098\n",
            "Epoch 89/100\n",
            "224/224 [==============================] - 271s 1s/step - loss: 0.5316 - acc: 0.7984 - val_loss: 0.8539 - val_acc: 0.7069\n",
            "\n",
            "Epoch 00089: ReduceLROnPlateau reducing learning rate to 0.004999999888241291.\n",
            "Epoch 90/100\n",
            "224/224 [==============================] - 270s 1s/step - loss: 0.5222 - acc: 0.8035 - val_loss: 0.8488 - val_acc: 0.7144\n",
            "Epoch 91/100\n",
            "224/224 [==============================] - 271s 1s/step - loss: 0.5190 - acc: 0.8029 - val_loss: 0.8432 - val_acc: 0.7117\n",
            "Epoch 92/100\n",
            "224/224 [==============================] - 273s 1s/step - loss: 0.5137 - acc: 0.8047 - val_loss: 0.8529 - val_acc: 0.7129\n",
            "Epoch 93/100\n",
            "224/224 [==============================] - 273s 1s/step - loss: 0.5114 - acc: 0.8106 - val_loss: 0.8369 - val_acc: 0.7126\n",
            "Epoch 94/100\n",
            "224/224 [==============================] - 272s 1s/step - loss: 0.5028 - acc: 0.8103 - val_loss: 0.8724 - val_acc: 0.7126\n",
            "Epoch 95/100\n",
            "224/224 [==============================] - 273s 1s/step - loss: 0.4967 - acc: 0.8140 - val_loss: 0.8617 - val_acc: 0.7033\n",
            "Epoch 96/100\n",
            "224/224 [==============================] - 274s 1s/step - loss: 0.5058 - acc: 0.8088 - val_loss: 0.8249 - val_acc: 0.7213\n",
            "Epoch 97/100\n",
            "224/224 [==============================] - 272s 1s/step - loss: 0.4964 - acc: 0.8122 - val_loss: 0.8640 - val_acc: 0.7048\n",
            "Epoch 98/100\n",
            "224/224 [==============================] - 271s 1s/step - loss: 0.5070 - acc: 0.8098 - val_loss: 0.8378 - val_acc: 0.7156\n",
            "Epoch 99/100\n",
            "224/224 [==============================] - 271s 1s/step - loss: 0.4948 - acc: 0.8145 - val_loss: 0.8635 - val_acc: 0.7087\n",
            "Epoch 100/100\n",
            "224/224 [==============================] - 274s 1s/step - loss: 0.4856 - acc: 0.8166 - val_loss: 0.8355 - val_acc: 0.7192\n"
          ],
          "name": "stdout"
        }
      ]
    },
    {
      "cell_type": "code",
      "metadata": {
        "id": "JSSv08SHF0bC",
        "colab_type": "code",
        "outputId": "fcbf1deb-f88a-4795-f537-c300778b8e4e",
        "colab": {
          "base_uri": "https://localhost:8080/",
          "height": 71
        }
      },
      "source": [
        "print('\\n# Evaluate on dev data')\n",
        "results_dev = model.evaluate_generator(dev_generator, 3509 // BS)\n",
        "print('dev loss, dev acc:', results_dev)"
      ],
      "execution_count": 12,
      "outputs": [
        {
          "output_type": "stream",
          "text": [
            "\n",
            "# Evaluate on dev data\n",
            "dev loss, dev acc: [0.8601535028881497, 0.7106481481481481]\n"
          ],
          "name": "stdout"
        }
      ]
    },
    {
      "cell_type": "code",
      "metadata": {
        "id": "Ev4sDYDlOsqk",
        "colab_type": "code",
        "outputId": "ce1e70b2-5c49-40e3-9305-d997ae154638",
        "colab": {
          "base_uri": "https://localhost:8080/",
          "height": 71
        }
      },
      "source": [
        "print('\\n# Evaluate on test data')\n",
        "results_test = model.evaluate_generator(test_generator, 3509 // BS)\n",
        "print('test loss, test acc:', results_test)"
      ],
      "execution_count": 13,
      "outputs": [
        {
          "output_type": "stream",
          "text": [
            "\n",
            "# Evaluate on test data\n",
            "test loss, test acc: [0.7965417526386402, 0.7265625]\n"
          ],
          "name": "stdout"
        }
      ]
    },
    {
      "cell_type": "code",
      "metadata": {
        "id": "m9f7smhHUQus",
        "colab_type": "code",
        "outputId": "637b9233-f0e1-429f-f631-5a15a24c1c6a",
        "colab": {
          "base_uri": "https://localhost:8080/",
          "height": 591
        }
      },
      "source": [
        "# list all data in history\n",
        "print(history.history.keys())\n",
        "# summarize history for accuracy\n",
        "plt.plot(history.history['acc'])\n",
        "plt.plot(history.history['val_acc'])\n",
        "plt.title('model accuracy')\n",
        "plt.ylabel('accuracy')\n",
        "plt.xlabel('epoch')\n",
        "plt.legend(['train', 'dev'], loc='upper left')\n",
        "plt.show()\n",
        "# summarize history for loss\n",
        "plt.plot(history.history['loss'])\n",
        "plt.plot(history.history['val_loss'])\n",
        "plt.title('model loss')\n",
        "plt.ylabel('loss')\n",
        "plt.xlabel('epoch')\n",
        "plt.legend(['train', 'dev'], loc='upper left')\n",
        "plt.show()"
      ],
      "execution_count": 14,
      "outputs": [
        {
          "output_type": "stream",
          "text": [
            "dict_keys(['val_loss', 'val_acc', 'loss', 'acc', 'lr'])\n"
          ],
          "name": "stdout"
        },
        {
          "output_type": "display_data",
          "data": {
            "image/png": "[encoded data removed]",
            "text/plain": [
              "<Figure size 432x288 with 1 Axes>"
            ]
          },
          "metadata": {
            "tags": []
          }
        },
        {
          "output_type": "display_data",
          "data": {
            "image/png": "[encoded data removed]",
            "text/plain": [
              "<Figure size 432x288 with 1 Axes>"
            ]
          },
          "metadata": {
            "tags": []
          }
        }
      ]
    },
    {
      "cell_type": "code",
      "metadata": {
        "id": "F-QKHTmJQhi1",
        "colab_type": "code",
        "colab": {}
      },
      "source": [
        "epoch_str = '-EPOCHS_' + str(EPOCHS)\n",
        "test_acc = 'test_acc_%.3f' % results_test[1]\n",
        "model.save('/content/drive/My Drive/cs230 project/models/' + 'RESNET50' + epoch_str + test_acc + '.h5')"
      ],
      "execution_count": 0,
      "outputs": []
    },
    {
      "cell_type": "code",
      "metadata": {
        "id": "yJceV2fuFEfQ",
        "colab_type": "code",
        "colab": {}
      },
      "source": [
        ""
      ],
      "execution_count": 0,
      "outputs": []
    }
  ]
}